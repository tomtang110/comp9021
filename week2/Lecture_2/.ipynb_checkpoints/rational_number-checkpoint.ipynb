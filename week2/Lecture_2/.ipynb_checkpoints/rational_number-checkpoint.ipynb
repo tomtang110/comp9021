{
 "cells": [
  {
   "cell_type": "code",
   "execution_count": null,
   "metadata": {},
   "outputs": [],
   "source": [
    "# Does not need to be executed if ~/.ipython/profile_default/ipython_config.py exists and contains:\n",
    "# get_config().InteractiveShell.ast_node_interactivity = 'all'\n",
    "\n",
    "from IPython.core.interactiveshell import InteractiveShell\n",
    "InteractiveShell.ast_node_interactivity = \"all\""
   ]
  },
  {
   "cell_type": "markdown",
   "metadata": {},
   "source": [
    "A number of functions to essentially, get as input two strings of digits,\n",
    "$\\sigma$ and $\\tau$, and compute natural numbers $a$ and $b$ such that $a / b$\n",
    "is reduced and equal to $0.\\sigma\\tau\\tau\\tau\\tau\\ldots$"
   ]
  },
  {
   "cell_type": "markdown",
   "metadata": {},
   "source": [
    "# Computation of the fraction in nonreduced form"
   ]
  },
  {
   "cell_type": "markdown",
   "metadata": {},
   "source": [
    "\\begin{split}\n",
    "0.\\sigma\\tau\\tau\\tau\\dots & = \\sigma 10^{-|\\sigma|} + \\tau(10^{-|\\sigma|-|\\tau|}\n",
    "                         + 10^{-|\\sigma|-2|\\tau|} + 10^{-|\\sigma|-3|\\tau|} + \\dots)\\\\\n",
    "          & = \\sigma 10^{-|\\sigma|} + \\frac{\\tau 10^{-|\\sigma|-|\\tau|}}{(1 - 10^{-|\\tau|})}\\\\\n",
    "          & = \\sigma 10^{-|\\sigma|} + \\frac{\\tau 10^{-|\\sigma|}}{(10^{|\\tau|} - 1)}\\\\\n",
    "          & = \\frac{\\sigma 10^{-|\\sigma|} (10^{|\\tau|} - 1) + \\tau 10^{-|\\sigma|}}{(10^{|\\tau|} - 1)}\\\\\n",
    "          & = \\frac{\\sigma (10^{|\\tau|} - 1) + \\tau}{(10^{|\\tau|} - 1) 10^{|\\sigma|}}\n",
    "\\end{split}"
   ]
  },
  {
   "cell_type": "markdown",
   "metadata": {},
   "source": [
    "# Computation of the gcd of $a$ and $b$ with $a\\geq 0$ and $b>0$"
   ]
  },
  {
   "cell_type": "markdown",
   "metadata": {},
   "source": [
    "Since $a = (a\\div b)b + a\\bmod b$:\n",
    "* if $n$ divides both $a$ and $b$ then it divides both $a$ and $(a\\div b)b$, hence it divides $a - (a\\div b)b$, hence it divides $a\\bmod b$;\n",
    "* conversely, if $n$ divides both $b$ and $a\\bmod b$ then it divides $(a \\div b)b + a\\bmod b$, hence it divides $a$.\n",
    "\n",
    "Hence $n$ divides both $a$ and $b$ iff $n$ divides both $b$ and $a\\bmod b$. So $\\gcd(a,b)=\\gcd(b,a\\bmod b)$.\n",
    "\n",
    "Since $a\\bmod b<b$, we get a sequence of equalities of the form:\n",
    "$\\gcd(a,b)=\\gcd(a_1,b_1)=\\gcd(a_2,b_2)=\\dots=\\gcd(a_{k-1},b_{k-1})=\\gcd(a_k,0)$\n",
    "with $k\\geq 1$ and $b>b_1>b_2>\\dots>b_{k-1}>0$; as $\\gcd(a_k,0)=a_k$, $a_k$ is the gcd of $a$ and $b$."
   ]
  },
  {
   "cell_type": "code",
   "execution_count": null,
   "metadata": {
    "run_control": {
     "marked": true
    }
   },
   "outputs": [],
   "source": [
    "def gcd(a, b):\n",
    "    while b:\n",
    "        print(a, b)\n",
    "        a, b = b, a % b\n",
    "    print(a, b)\n",
    "    \n",
    "for a, b in (1233, 1233), (1233, 990), (990, 1233):\n",
    "    print(f'\\nTracing the computation of gcd of {a} and {b}:')\n",
    "    gcd(a, b)"
   ]
  },
  {
   "cell_type": "markdown",
   "metadata": {},
   "source": [
    "# Tuple versus tuple's elements"
   ]
  },
  {
   "cell_type": "code",
   "execution_count": null,
   "metadata": {
    "code_folding": [],
    "run_control": {
     "marked": true
    }
   },
   "outputs": [],
   "source": [
    "def f(a, b):\n",
    "    return 2 * a, 2 * b\n",
    "\n",
    "try:\n",
    "    f((1, 3))\n",
    "except TypeError:\n",
    "    'f() expects two arguments, not one!'\n",
    "f(1, 3)\n",
    "f(*f(1, 3)) # f(f(1, 3)) would be f((2, 6)); f(*f(1, 3)) is f(2, 6)\n",
    "f(*f(*f(1, 3)))"
   ]
  },
  {
   "cell_type": "code",
   "execution_count": null,
   "metadata": {
    "run_control": {
     "marked": true
    }
   },
   "outputs": [],
   "source": [
    "# x is the tuple of all arguments passed to f().\n",
    "def f(*x):\n",
    "    return x * 2\n",
    "\n",
    "f()\n",
    "f(0)\n",
    "f(*f(0))\n",
    "f(*f(*f(0)))"
   ]
  },
  {
   "cell_type": "code",
   "execution_count": null,
   "metadata": {
    "code_folding": []
   },
   "outputs": [],
   "source": [
    "# Written by Eric Martin for COMP9021\n",
    "\n",
    "\n",
    "def determine_reduced_fraction_from_pattern_and_repeated_pattern():\n",
    "    '''\n",
    "    Gets as input two strings of digits, sigma and tau,\n",
    "    and computes natural numbers a and b such that\n",
    "    a / b is reduced and equal to 0.(sigma)(tau)(tau)(tau)(tau)...\n",
    "    '''\n",
    "    output_result(*determine_reduced_fraction(*get_both_inputs()))\n",
    "\n",
    "def determine_reduced_fraction(sigma, tau):\n",
    "    '''   \n",
    "    >>> determine_reduced_fraction('0', '0')\n",
    "    (0, 1)\n",
    "    >>> determine_reduced_fraction('0', '1')\n",
    "    (1, 90)\n",
    "    >>> determine_reduced_fraction('1', '0')\n",
    "    (1, 10)\n",
    "    >>> determine_reduced_fraction('1', '1')\n",
    "    (1, 9)\n",
    "    >>> determine_reduced_fraction('9', '9')\n",
    "    (1, 1)\n",
    "    >>> determine_reduced_fraction('23', '905')\n",
    "    (11941, 49950)\n",
    "    >>> determine_reduced_fraction('1', '234')\n",
    "    (137, 1110)\n",
    "    >>> determine_reduced_fraction('234', '1')\n",
    "    (2107, 9000)\n",
    "    >>> determine_reduced_fraction('000', '97')\n",
    "    (97, 99000)\n",
    "    >>> determine_reduced_fraction('97', '000')\n",
    "    (97, 100)\n",
    "    >>> determine_reduced_fraction('01234', '543210')\n",
    "    (51439249, 4166662500)\n",
    "    '''\n",
    "    return reduce_fraction(*compute_fraction(sigma, tau))\n",
    "   \n",
    "def compute_fraction(sigma, tau):\n",
    "    '''\n",
    "    Based on the computation\n",
    "            0.(sigma)(tau)(tau)(tau)...\n",
    "          = sigma * 10^{-|sigma|} + tau(10^{-|sigma|-|tau|} +\n",
    "                                        10^{-|sigma|-2|tau|} +\n",
    "                                        ...)\n",
    "          = sigma * 10^{-|sigma|} +\n",
    "            tau * 10^{-|sigma|-|tau|} / (1 - 10^{-|tau|})\n",
    "          = sigma * 10^{-|sigma|} +\n",
    "            tau * 10^{-|sigma|} / (10^{|tau|} - 1)\n",
    "          = [sigma * 10^{-|sigma|} * (10^{|tau|} - 1) + tau * 10^{-|sigma|}] /\n",
    "            (10^{|tau|} - 1)\n",
    "          = [sigma * (10^{|tau|} - 1) + tau] /\n",
    "            [(10^{|tau|} - 1) * 10^{|sigma|}]\n",
    "                                  \n",
    "    >>> compute_fraction('0', '0')\n",
    "    (0, 90)\n",
    "    >>> compute_fraction('0', '1')\n",
    "    (1, 90)\n",
    "    >>> compute_fraction('1', '0')\n",
    "    (9, 90)\n",
    "    >>> compute_fraction('1', '1')\n",
    "    (10, 90)\n",
    "    >>> compute_fraction('9', '9')\n",
    "    (90, 90)\n",
    "    >>> compute_fraction('23', '905')\n",
    "    (23882, 99900)\n",
    "    >>> compute_fraction('1', '234')\n",
    "    (1233, 9990)\n",
    "    >>> compute_fraction('234', '1')\n",
    "    (2107, 9000)\n",
    "    >>> compute_fraction('000', '97')\n",
    "    (97, 99000)\n",
    "    >>> compute_fraction('97', '000')\n",
    "    (96903, 99900)\n",
    "    >>> compute_fraction('01234', '543210')\n",
    "    (1234541976, 99999900000)\n",
    "    '''\n",
    "    numerator = int(sigma) * (10 ** len(tau) - 1) + int(tau)\n",
    "    denominator = (10 ** len(tau) - 1) * 10 ** len(sigma)\n",
    "    return numerator, denominator\n",
    "\n",
    "def reduce_fraction(numerator, denominator):\n",
    "    '''\n",
    "    >>> reduce_fraction(0, 1)\n",
    "    (0, 1)\n",
    "    >>> reduce_fraction(1, 90)\n",
    "    (1, 90)\n",
    "    >>> reduce_fraction(9, 90)\n",
    "    (1, 10)\n",
    "    >>> reduce_fraction(10, 90)\n",
    "    (1, 9)\n",
    "    >>> reduce_fraction(90, 90)\n",
    "    (1, 1)\n",
    "    >>> reduce_fraction(23882, 99900)\n",
    "    (11941, 49950)\n",
    "    >>> reduce_fraction(1233, 9990)\n",
    "    (137, 1110)\n",
    "    >>> reduce_fraction(2107, 9000)\n",
    "    (2107, 9000)\n",
    "    >>> reduce_fraction(97, 99000)\n",
    "    (97, 99000)\n",
    "    >>> reduce_fraction(96903, 99900)\n",
    "    (97, 100)\n",
    "    >>> reduce_fraction(1234541976, 99999900000)\n",
    "    (51439249, 4166662500)\n",
    "    '''\n",
    "    if numerator == 0:\n",
    "        return 0, 1\n",
    "    the_gcd = gcd(numerator, denominator)\n",
    "    return numerator // the_gcd, denominator // the_gcd\n",
    "\n",
    "# Just to practice; in practice, we would just import gcd from the math module.\n",
    "def gcd(a, b):\n",
    "    '''\n",
    "    Euclid's algorithm\n",
    "\n",
    "    >>> gcd(0, 1)\n",
    "    1\n",
    "    >>> gcd(1, 90)\n",
    "    1\n",
    "    >>> gcd(9, 90)\n",
    "    9\n",
    "    >>> gcd(10, 90)\n",
    "    10\n",
    "    >>> gcd(90, 90)\n",
    "    90\n",
    "    >>> gcd(23882, 99900)\n",
    "    2\n",
    "    >>> gcd(1233, 990)\n",
    "    9\n",
    "    >>> gcd(2107, 9000)\n",
    "    1\n",
    "    >>> gcd(97, 9000)\n",
    "    1\n",
    "    >>> gcd(96903, 99900)\n",
    "    999\n",
    "    >>> gcd(1234541976, 99999900000)\n",
    "    24\n",
    "    '''\n",
    "    while b:\n",
    "        a, b = b, a % b\n",
    "    return a\n",
    "\n",
    "def get_both_inputs():\n",
    "    print('We want to compute the reduced fraction, a / b,\\n   that evaluates to '\n",
    "                                                                        '.(sigma)(tau)(tau)(tau)...'\n",
    "         )\n",
    "    return get('sigma'), get('tau')\n",
    "\n",
    "def get(sigma_or_tau):\n",
    "    while True:\n",
    "        value = input(f'Input {sigma_or_tau}: ')\n",
    "        if value.isnumeric():\n",
    "            return value\n",
    "        print('Incorrect input, try again.')\n",
    "\n",
    "def output_result(numerator, denominator):\n",
    "    print(f'The fraction is: {numerator} / {denominator}')\n",
    "    print(f'It evaluates to: {numerator / denominator}')\n",
    "\n",
    "\n",
    "if __name__ == '__main__':\n",
    "    import doctest\n",
    "    doctest.testmod()"
   ]
  }
 ],
 "metadata": {
  "kernelspec": {
   "display_name": "Python 3",
   "language": "python",
   "name": "python3"
  },
  "language_info": {
   "codemirror_mode": {
    "name": "ipython",
    "version": 3
   },
   "file_extension": ".py",
   "mimetype": "text/x-python",
   "name": "python",
   "nbconvert_exporter": "python",
   "pygments_lexer": "ipython3",
   "version": "3.6.3"
  },
  "latex_envs": {
   "LaTeX_envs_menu_present": true,
   "autoclose": false,
   "autocomplete": true,
   "bibliofile": "biblio.bib",
   "cite_by": "apalike",
   "current_citInitial": 1,
   "eqLabelWithNumbers": true,
   "eqNumInitial": 1,
   "hotkeys": {
    "equation": "Ctrl-E",
    "itemize": "Ctrl-I"
   },
   "labels_anchors": false,
   "latex_user_defs": false,
   "report_style_numbering": false,
   "user_envs_cfg": false
  }
 },
 "nbformat": 4,
 "nbformat_minor": 2
}
