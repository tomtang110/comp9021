{
 "cells": [
  {
   "cell_type": "markdown",
   "metadata": {},
   "source": [
    "Generates an initial segment of the list of prime numbers based on Euler sieve using the most straightforward approach."
   ]
  },
  {
   "cell_type": "markdown",
   "metadata": {},
   "source": [
    "# Principle"
   ]
  },
  {
   "cell_type": "markdown",
   "metadata": {},
   "source": [
    "Eratosthenes' sieve can flag to False a composite number more than once. Euler's sieve avoids this by removing a number from the list rather than flagging it. We start with the list $[2, 3, 4, 5,\\dots, N]$, and we generate all prime numbers at most equal to $N$ by removing from the list:\n",
    "\n",
    "* using 2, the first number in the list:\n",
    "    * $2^2$, $2^3$, $2^4$, ..., up to $2^r$ for the largest $r$ with $2^r\\leq N$,\n",
    "    * $2\\times 3$, $2^2\\times 3$, $2^3\\times 3$, ..., up to $2^r\\times 3$ for the largest $r$ with $2^r\\times 3\\leq N$,\n",
    "    * as 4 is no longer in the list, $2\\times 5$, $2^2\\times 5$, $2^3\\times 5$, ..., up to $2^r\\times 5$ for the largest $r$ with $2^r\\times 5\\leq N$,\n",
    "    * as 6 is no longer in the list, $2\\times 7$, $2^2\\times 7$, $2^3\\times 7$, ..., up to $2^r\\times 7$ for the largest $r$ with $2^r\\times 7\\leq N$,\n",
    "    * as 8 is no longer in the list, $2\\times 9$, $2^2\\times 9$, $2^3\\times 9$, ..., up to $2^r\\times 9$ for the largest $r$ with $2^r\\times 9\\leq N$,\n",
    "    * ...\n",
    "* using 3, the next number in what remains of the list:\n",
    "    * $3^2$, $3^3$, $3^4$, ..., up to $3^r$ for the largest $r$ with $3^r\\leq N$,\n",
    "    * as 4 is no longer in the list, $3\\times 5$, $3^2\\times 5$, $3^3\\times 5$, ..., up to $3^r\\times 5$ for the largest $r$ with $3^r\\times 5\\leq N$,\n",
    "    * as 6 is no longer in the list, $3\\times 7$, $3^2\\times 7$, $3^3\\times 7$, ..., up to $3^r\\times 7$ for the largest $r$ with $3^r\\times 7\\leq N$,\n",
    "    * as 8, 9 and 10 are no longer in the list, $3\\times 11$, $3^2\\times 11$, $3^3\\times 11$, ...., up to $3^r\\times 11$ for the largest $r$ with $3^r\\times 11\\leq N$,\n",
    "    * ...\n",
    "* ...\n",
    "\n",
    "We stop when the next number in what remains in the list exceeds $\\sqrt{N}$.\n",
    "\n",
    "Note that if using 2, the first number in the list, we removed from the list:\n",
    "* $2\\times 2$,\n",
    "* $2\\times 3$,\n",
    "* as 4 is no longer in the list, $2\\times 5$,\n",
    "* ...\n",
    "\n",
    "then $2^3$ would incorrectly remain in the list.\n",
    "\n",
    "At stage $k$, all strictly positive multiples of the $k$th prime number $p_k$ at most equal to $N$, with the exception of $p_k$ itself, are removed from the list. This is verified by induction. Indeed, if during stage $k$, a number $n$ in $\\{2,3,\\dots, N\\}$ with $p_k n\\leq N$ is not considered then:\n",
    "\n",
    "* either $n$ is smaller than $p_k$, in which case it is a multiple of at least one of $p_1$, ..., $p_{k-1}$, which implies that $p_k\\times n$ is also a multiple of at least one of $p_1$, ..., $p_{k-1}$, so by inductive hypothesis, $p_k\\times n$ was removed from the list during one of the previous stages,\n",
    "* or $n$ is greater than $p_k$ but no longer belongs to the list (it is a number such as 4, 6, 8 at stage 1, or a number such as 4, 6, 8, 9, 10 at stage 2), in which case:\n",
    "    * either $n$ was removed during one of the previous stages, hence $n$ is a multiple of at least one of $p_1$, ..., $p_{k-1}$, which implies as in the previous case that $p_k\\times n$ was also removed from the list,\n",
    "    * or $n$ is a multiple of $p_k$ which was removed earlier in the current stage, so $n$ is a number of the form $p_k^r m$ for some $r\\geq 1$ and some number $m$ which was then found in what remained of the list, therefore $p_k n=p_k^{r+1}m$ was also removed from the list earlier in the current stage."
   ]
  },
  {
   "cell_type": "markdown",
   "metadata": {},
   "source": [
    "![](euler_sieve_v1.png)"
   ]
  },
  {
   "cell_type": "code",
   "execution_count": null,
   "metadata": {
    "run_control": {
     "marked": true
    }
   },
   "outputs": [],
   "source": [
    "from math import sqrt\n",
    "\n",
    "def print_sieve():\n",
    "    print('[', ''.join(f'{e:3d}' for e in primes_sieve), ' ]', sep = '')\n",
    "    print(' ', ''.join(f'{e:3d}' for e in range(len(primes_sieve))), sep = '')\n",
    "\n",
    "N = 35\n",
    "primes_sieve = list(range(2, N + 1))\n",
    "\n",
    "print_sieve()\n",
    "i = 0\n",
    "while primes_sieve[i] <= round(sqrt(N)):\n",
    "    print(f'\\nTracing execution for i = {i}; primes_sieve[i] = {primes_sieve[i]} ')\n",
    "    k = 0\n",
    "    while True:\n",
    "        factor = primes_sieve[i] * primes_sieve[i + k]\n",
    "        print(f'k = {k}; i + k = {i + k}; primes_sieve[i + k] = {primes_sieve[i + k]}')\n",
    "        if factor > N:\n",
    "            print(f'  factor = {factor}: too large for this i')\n",
    "            break\n",
    "        while factor <= N:\n",
    "            print(f'  factor = {factor}: remove')\n",
    "            primes_sieve.remove(factor)\n",
    "            factor *= primes_sieve[i]\n",
    "        print(f'  factor = {factor}: too large for this k')\n",
    "        print_sieve()\n",
    "        k += 1\n",
    "    i += 1"
   ]
  },
  {
   "cell_type": "code",
   "execution_count": null,
   "metadata": {},
   "outputs": [],
   "source": [
    "# Written by Eric Martin for COMP9021\n",
    "\n",
    "\n",
    "from math import sqrt\n",
    "\n",
    "from input_int import input_int\n",
    "\n",
    "\n",
    "def generate_primes():\n",
    "    print('I will generate all prime numbers in the range [2, N].')\n",
    "    N = input_int()\n",
    "    if N < 2:\n",
    "        return\n",
    "    primes(N)\n",
    "\n",
    "def primes(N):\n",
    "    primes_sieve = list(range(2, N + 1))\n",
    "    i = 0\n",
    "    while primes_sieve[i] <= round(sqrt(N)):\n",
    "        k = 0\n",
    "        while True:\n",
    "            factor = primes_sieve[i] * primes_sieve[i + k]\n",
    "            if factor > N:\n",
    "                break\n",
    "            while factor <= N:\n",
    "                primes_sieve.remove(factor)\n",
    "                factor *= primes_sieve[i]\n",
    "            k += 1\n",
    "        i += 1\n",
    "\n",
    "    field_width = len(str(N)) + 2\n",
    "    nb_of_fields = 60 // field_width\n",
    "    for (count, n) in enumerate(primes_sieve, 1):\n",
    "        print(f'{n:{field_width}d}', end = '')\n",
    "        if count % nb_of_fields == 0:\n",
    "            print()\n",
    "    if count % nb_of_fields:\n",
    "        print()\n",
    "\n",
    "\n",
    "if __name__ == '__main__':\n",
    "    generate_primes()"
   ]
  }
 ],
 "metadata": {
  "kernelspec": {
   "display_name": "Python 3",
   "language": "python",
   "name": "python3"
  },
  "language_info": {
   "codemirror_mode": {
    "name": "ipython",
    "version": 3
   },
   "file_extension": ".py",
   "mimetype": "text/x-python",
   "name": "python",
   "nbconvert_exporter": "python",
   "pygments_lexer": "ipython3",
   "version": "3.6.3"
  }
 },
 "nbformat": 4,
 "nbformat_minor": 2
}
