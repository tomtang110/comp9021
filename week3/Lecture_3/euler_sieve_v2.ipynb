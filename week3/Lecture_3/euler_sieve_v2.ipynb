{
 "cells": [
  {
   "cell_type": "markdown",
   "metadata": {},
   "source": [
    "Generates an initial segment of the list of prime numbers based on Euler sieve switching between sets and sorted lists for a more effective implementation."
   ]
  },
  {
   "cell_type": "markdown",
   "metadata": {},
   "source": [
    "# Principle"
   ]
  },
  {
   "cell_type": "markdown",
   "metadata": {},
   "source": [
    "Removing an element from an ordered list, keeping the remaining elements in order, is on average linear in the length of the list. In the second version of the sieve, at every stage $k$, we create a set consisting of the numbers in what remains of the list, and remove from the set all products at most equal to $N$ of $p_k$ with a number at least equal to $p_k$ in what remains of the list, that is, all multiples at most equal to $N$ of $p_k$ that have not been removed at earlier stages as multiples of numbers smaller than $p_k$. The cost of every such removal is constant. At the end of each stage, we sort what remains of the set to get an updated version of what remains of the list, an operation which is of complexity $n\\log(n)$ in the number of elements in the set. This second version is more efficient than the first one, but still less efficient than the first version of Eratosthenes' sieve."
   ]
  },
  {
   "cell_type": "code",
   "execution_count": null,
   "metadata": {
    "run_control": {
     "marked": true
    }
   },
   "outputs": [],
   "source": [
    "from math import sqrt\n",
    "\n",
    "def print_sieve_list():\n",
    "    print('[', ''.join(f'{e:3d}' for e in primes_sieve_list), ' ]', sep = '')\n",
    "    print(' ', ''.join(f'{e:3d}' for e in range(len(primes_sieve_list))), sep = '')\n",
    "\n",
    "def print_sieve_set():\n",
    "    print('{', ''.join(f'{e:3d}' for e in sorted(primes_sieve_set)), ' }', sep = '')\n",
    "\n",
    "N = 30\n",
    "primes_sieve_list = list(range(2, N + 1))\n",
    "\n",
    "print_sieve_list()\n",
    "i = 0\n",
    "while primes_sieve_list[i] <= round(sqrt(N)):\n",
    "    print(f'\\nTracing execution for i = {i}; primes_sieve_list[i] = {primes_sieve_list[i]} ')\n",
    "    primes_sieve_set = set(primes_sieve_list)\n",
    "    print(' ' * 22, end = ''); print_sieve_set()\n",
    "    k = 0\n",
    "    while True:\n",
    "        factor = primes_sieve_list[i] * primes_sieve_list[i + k]\n",
    "        if factor > N:\n",
    "            break\n",
    "        primes_sieve_set.remove(factor)\n",
    "        print(f'k = {k:2d}, factor = {factor:2d}', end = '   '); print_sieve_set()\n",
    "        k += 1\n",
    "    primes_sieve_list = sorted(primes_sieve_set)\n",
    "    print_sieve_list()\n",
    "    i += 1"
   ]
  },
  {
   "cell_type": "code",
   "execution_count": null,
   "metadata": {},
   "outputs": [],
   "source": [
    "# Written by Eric Martin for COMP9021\n",
    "\n",
    "\n",
    "from math import sqrt\n",
    "\n",
    "from input_int import input_int\n",
    "\n",
    "\n",
    "def generate_primes():\n",
    "    print('I will generate all prime numbers in the range [2, N].')\n",
    "    N = input_int()\n",
    "    if N < 2:\n",
    "        return\n",
    "    primes(N)\n",
    "\n",
    "def primes(N):\n",
    "    primes_sieve_list = range(2, N + 1)\n",
    "    i = 0\n",
    "    while primes_sieve_list[i] <= round(sqrt(N)):\n",
    "        primes_sieve_set = set(primes_sieve_list)\n",
    "        k = 0\n",
    "        while True:\n",
    "            factor = primes_sieve_list[i] * primes_sieve_list[i + k]\n",
    "            if factor > N:\n",
    "                break\n",
    "            primes_sieve_set.remove(factor)\n",
    "            k += 1\n",
    "        primes_sieve_list = sorted(primes_sieve_set)\n",
    "        i += 1\n",
    "\n",
    "    field_width = len(str(N)) + 2\n",
    "    nb_of_fields = 60 // field_width\n",
    "    for (count, n) in enumerate(primes_sieve_list, 1):\n",
    "        print(f'{n:{field_width}d}', end = '')\n",
    "        if count % nb_of_fields == 0:\n",
    "            print()\n",
    "    if count % nb_of_fields:\n",
    "        print()\n",
    "\n",
    "\n",
    "if __name__ == '__main__':\n",
    "    generate_primes()"
   ]
  }
 ],
 "metadata": {
  "kernelspec": {
   "display_name": "Python 3",
   "language": "python",
   "name": "python3"
  },
  "language_info": {
   "codemirror_mode": {
    "name": "ipython",
    "version": 3
   },
   "file_extension": ".py",
   "mimetype": "text/x-python",
   "name": "python",
   "nbconvert_exporter": "python",
   "pygments_lexer": "ipython3",
   "version": "3.6.3"
  }
 },
 "nbformat": 4,
 "nbformat_minor": 2
}
