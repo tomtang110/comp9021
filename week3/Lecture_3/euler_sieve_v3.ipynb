{
 "cells": [
  {
   "cell_type": "markdown",
   "metadata": {},
   "source": [
    "Generates an initial segment of the list of prime numbers based on Euler sieve using linked lists."
   ]
  },
  {
   "cell_type": "markdown",
   "metadata": {},
   "source": [
    "# Principle"
   ]
  },
  {
   "cell_type": "markdown",
   "metadata": {},
   "source": [
    "In this version of the sieve, we use a list $[\\mathrm{Node}(0),\\mathrm{Node}(1),\\mathrm{Node}(2),\\mathrm{Node}(3),\\dots,\\mathrm{Node}(N+1)]$ where for all $n\\leq N+1$, $\\mathrm{Node}(n)$ is an object consisting of the value $n$, a link $\\mathrm{next}$ to $\\mathrm{Node}(n+1)$ (None if $n=N+1$), and a link $\\mathrm{previous}$ to $\\mathrm{Node}(n-1)$ (None if $n=0$). Removing a number $n$ is achieved by letting $\\mathrm{Node}(n).\\mathrm{next}.\\mathrm{previous}$ change from $\\mathrm{Node}(n)$ to $\\mathrm{Node}(n).\\mathrm{previous}$, and $\\mathrm{Node}(n).\\mathrm{previous}.\\mathrm{next}$ change from $\\mathrm{Node}(n)$ to $\\mathrm{Node}(n).\\mathrm{next}$; since $n$ is accessed using $n$ itself as index of the list, the cost of removing $n$ is constant. Accessing the number after a number $n$ in what remains of the list is done using $\\mathrm{Node}(n).\\mathrm{next}$, also an operation with a constant cost. This third version is more efficient than the second one, but still less efficient than the first version of Eratosthenes' sieve."
   ]
  },
  {
   "cell_type": "markdown",
   "metadata": {},
   "source": [
    "![](euler_sieve_v3.png)"
   ]
  },
  {
   "cell_type": "markdown",
   "metadata": {},
   "source": [
    "In the pictures above, we depict a link from A to B iff there is also a link from B to A, but the original link from 4 to 3, the original link from 4 to 5, ..., are not removed, and then the newly created link from 9 to 7, the newly created link from 9 to 11, ..., are not removed."
   ]
  },
  {
   "cell_type": "code",
   "execution_count": null,
   "metadata": {
    "run_control": {
     "marked": true
    }
   },
   "outputs": [],
   "source": [
    "from math import sqrt\n",
    "\n",
    "def print_sieve():\n",
    "    print('       ', end = '')\n",
    "    for i in range(2, N + 1):\n",
    "        print(f'{primes_sieve[i].number:3d}', end = '')\\\n",
    "                         if primes_sieve[i].previous.next.number == i else print('   ', end = '')\n",
    "                         # Alternatively:\n",
    "                         # if primes_sieve[i].next.previous.number == i else print('   ', end = '')\n",
    "    print('\\n ', ''.join(f'{e:3d}' for e in range(len(primes_sieve))), sep = '')\n",
    "\n",
    "class Node:\n",
    "    def __init__(self, number):\n",
    "        self.number = number\n",
    "        self.previous = None\n",
    "        self.next = None\n",
    "\n",
    "N = 35\n",
    "primes_sieve = [Node(i) for i in range(N + 2)]\n",
    "for i in range(2, N + 2):\n",
    "    primes_sieve[i].previous = primes_sieve[i - 1]\n",
    "for i in range(1, N + 1):\n",
    "    primes_sieve[i].next = primes_sieve[i + 1]   \n",
    "print_sieve()\n",
    "\n",
    "i_node = primes_sieve[2]\n",
    "i = i_node.number\n",
    "while i <= round(sqrt(N)):\n",
    "    print(f'\\nTracing execution for i_node.number = {i_node.number} ')\n",
    "    k_node = i_node\n",
    "    while True:\n",
    "        factor = i * k_node.number\n",
    "        print(f'k_node.number = {k_node.number}')\n",
    "        if factor > N:\n",
    "            print(f'  factor = {factor}: too large for this i_node')\n",
    "            break\n",
    "        while factor <= N:\n",
    "            print(f'  factor = {factor}: process')\n",
    "            primes_sieve[factor].next.previous = primes_sieve[factor].previous\n",
    "            primes_sieve[factor].previous.next = primes_sieve[factor].next\n",
    "            factor *= i\n",
    "        print(f'  factor = {factor}: too large for this k_node')\n",
    "        print_sieve()\n",
    "        k_node = k_node.next\n",
    "    i_node = i_node.next\n",
    "    i = i_node.number"
   ]
  },
  {
   "cell_type": "code",
   "execution_count": null,
   "metadata": {},
   "outputs": [],
   "source": [
    "# Written by Eric Martin for COMP9021\n",
    "\n",
    "\n",
    "from math import sqrt\n",
    "\n",
    "from input_int import input_int\n",
    "\n",
    "\n",
    "def generate_primes():\n",
    "    print('I will generate all prime numbers in the range [2, N].')\n",
    "    N = input_int()\n",
    "    if N < 2:\n",
    "        return\n",
    "    primes(N)\n",
    "\n",
    "def primes(N):\n",
    "    class Node:\n",
    "        def __init__(self, number):\n",
    "            self.number = number\n",
    "            self.previous = None\n",
    "            self.next = None\n",
    "\n",
    "    primes_sieve = [Node(i) for i in range(N + 2)]\n",
    "    for i in range(2, N + 2):\n",
    "        primes_sieve[i].previous = primes_sieve[i - 1]\n",
    "    for i in range(1, N + 1):\n",
    "        primes_sieve[i].next = primes_sieve[i + 1]   \n",
    "    i_node = primes_sieve[2]\n",
    "    i = i_node.number\n",
    "    while i <= round(sqrt(N)):\n",
    "        k_node = i_node\n",
    "        while True:\n",
    "            factor = i * k_node.number\n",
    "            if factor > N:\n",
    "                break\n",
    "            while factor <= N:\n",
    "                primes_sieve[factor].next.previous = primes_sieve[factor].previous\n",
    "                primes_sieve[factor].previous.next = primes_sieve[factor].next\n",
    "                factor *= i\n",
    "            k_node = k_node.next\n",
    "        i_node = i_node.next\n",
    "        i = i_node.number\n",
    "\n",
    "    field_width = len(str(N)) + 2\n",
    "    nb_of_fields = 60 // field_width\n",
    "    count = 0\n",
    "    p = primes_sieve[2]\n",
    "    while p.next:\n",
    "        print(f'{p.number:{field_width}d}', end = '')\n",
    "        count += 1\n",
    "        if count % nb_of_fields == 0:\n",
    "            print()\n",
    "        p = p.next\n",
    "    if count % nb_of_fields:\n",
    "        print()\n",
    "\n",
    "\n",
    "if __name__ == '__main__':\n",
    "    generate_primes()"
   ]
  }
 ],
 "metadata": {
  "kernelspec": {
   "display_name": "Python 3",
   "language": "python",
   "name": "python3"
  },
  "language_info": {
   "codemirror_mode": {
    "name": "ipython",
    "version": 3
   },
   "file_extension": ".py",
   "mimetype": "text/x-python",
   "name": "python",
   "nbconvert_exporter": "python",
   "pygments_lexer": "ipython3",
   "version": "3.6.3"
  }
 },
 "nbformat": 4,
 "nbformat_minor": 2
}
