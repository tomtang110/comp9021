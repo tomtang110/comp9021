{
 "cells": [
  {
   "cell_type": "code",
   "execution_count": 14,
   "metadata": {},
   "outputs": [
    {
     "name": "stdout",
     "output_type": "stream",
     "text": [
      "del1 1 del2 0 R\n",
      "\n",
      "del2 1 mov1R 0 R\n",
      "\n",
      "mov1R 1 mov1R 1 R\n",
      "\n",
      "mov1R 0 mov2R 0 R\n",
      "\n",
      "mov2R 1 mov2R 1 R\n",
      "\n",
      "mov2R 0 mov1L 1 L\n",
      "\n",
      "mov1L 1 mov1L 1 L\n",
      "\n",
      "mov1L 0 mov2L 0 L\n",
      "\n",
      "mov2L 1 mov2L 1 L\n",
      "\n",
      "mov2L 0 del1 0 R\n",
      "\n"
     ]
    }
   ],
   "source": [
    "with open('division_by_2.txt') as tt:\n",
    "    for i in tt:\n",
    "        print(i)\n",
    "    "
   ]
  },
  {
   "cell_type": "code",
   "execution_count": null,
   "metadata": {},
   "outputs": [],
   "source": []
  },
  {
   "cell_type": "code",
   "execution_count": null,
   "metadata": {},
   "outputs": [],
   "source": []
  },
  {
   "cell_type": "code",
   "execution_count": null,
   "metadata": {},
   "outputs": [],
   "source": []
  },
  {
   "cell_type": "code",
   "execution_count": null,
   "metadata": {},
   "outputs": [],
   "source": []
  }
 ],
 "metadata": {
  "kernelspec": {
   "display_name": "Python 3",
   "language": "python",
   "name": "python3"
  },
  "language_info": {
   "codemirror_mode": {
    "name": "ipython",
    "version": 3
   },
   "file_extension": ".py",
   "mimetype": "text/x-python",
   "name": "python",
   "nbconvert_exporter": "python",
   "pygments_lexer": "ipython3",
   "version": "3.6.3"
  }
 },
 "nbformat": 4,
 "nbformat_minor": 2
}
