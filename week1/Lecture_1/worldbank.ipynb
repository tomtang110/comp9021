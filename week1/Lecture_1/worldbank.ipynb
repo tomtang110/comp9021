{
 "cells": [
  {
   "cell_type": "code",
   "execution_count": null,
   "metadata": {},
   "outputs": [],
   "source": [
    "# Does not need to be executed if ~/.ipython/profile_default/ipython_config.py exists and contains:\n",
    "# get_config().InteractiveShell.ast_node_interactivity = 'all'\n",
    "\n",
    "from IPython.core.interactiveshell import InteractiveShell\n",
    "InteractiveShell.ast_node_interactivity = \"all\""
   ]
  },
  {
   "cell_type": "markdown",
   "metadata": {},
   "source": [
    "Extracts from the list of countries accessible at http://www.worldbank.org/en/where-we-work\n",
    "the value of IBRD/IDA operations, when available, and creates a spreadsheet with those data."
   ]
  },
  {
   "cell_type": "code",
   "execution_count": 4,
   "metadata": {
    "run_control": {
     "marked": true
    }
   },
   "outputs": [
    {
     "data": {
      "text/plain": [
       "3140"
      ]
     },
     "execution_count": 4,
     "metadata": {},
     "output_type": "execute_result"
    }
   ],
   "source": [
    "amount = '   $3.14 thousand  '\n",
    "unit = 'thousand'\n",
    "\n",
    "amount.strip()\n",
    "amount.strip().lstrip('$')\n",
    "amount.strip().lstrip('$').rstrip(unit)\n",
    "float(amount.strip().lstrip('$').rstrip(unit))\n",
    "units[unit]\n",
    "float(amount.strip().lstrip('$').rstrip(unit)) * units[unit]\n",
    "int(float(amount.strip().lstrip('$').rstrip(unit)) * units[unit])"
   ]
  },
  {
   "cell_type": "code",
   "execution_count": 5,
   "metadata": {
    "run_control": {
     "marked": true
    }
   },
   "outputs": [
    {
     "name": "stdout",
     "output_type": "stream",
     "text": [
      "billion not in $3.14 thousand\n",
      "million not in $3.14 thousand\n",
      "thousand in $3.14 thousand\n"
     ]
    }
   ],
   "source": [
    "amount = '$3.14 thousand'\n",
    "units = {'thousand': 10 ** 3,\n",
    "         'million' : 10 ** 6,\n",
    "         'billion' : 10 ** 9,\n",
    "         'trillion': 10 ** 12\n",
    "        }\n",
    "\n",
    "# for unit in units\n",
    "#   makes unit take the value 'thousand', 'million', 'billion', 'trillion', in some arbitrary order.\n",
    "# for unit in sorted(units)\n",
    "#   makes unit take the value 'billion', 'million', 'thousand', 'trillion', in this order.\n",
    "for unit in sorted(units):\n",
    "    if unit not in amount:\n",
    "        print(f'{unit} not in {amount}')\n",
    "    else:\n",
    "        print(f'{unit} in {amount}')\n",
    "        break"
   ]
  },
  {
   "cell_type": "code",
   "execution_count": 2,
   "metadata": {
    "run_control": {
     "marked": true
    }
   },
   "outputs": [
    {
     "name": "stdout",
     "output_type": "stream",
     "text": [
      "0 h\n",
      "1 e\n",
      "2 l\n",
      "3 l\n",
      "4 o\n",
      "\n",
      "7 A a\n",
      "8 B b\n",
      "9 C c\n",
      "10 D d\n"
     ]
    }
   ],
   "source": [
    "w = 'hello'\n",
    "for i, c in enumerate(w):\n",
    "    print(i, c)\n",
    "print()\n",
    "\n",
    "L = [('A', 'a'), ('B', 'b'), ('C', 'c'), ('D', 'd')]\n",
    "for i, (C, c) in enumerate(L, 7):\n",
    "    print(i, C, c)"
   ]
  },
  {
   "cell_type": "code",
   "execution_count": 1,
   "metadata": {
    "init_cell": true
   },
   "outputs": [],
   "source": [
    "import urllib.request\n",
    "import bs4"
   ]
  },
  {
   "cell_type": "code",
   "execution_count": null,
   "metadata": {
    "run_control": {
     "marked": true
    }
   },
   "outputs": [],
   "source": [
    "with urllib.request.urlopen('http://www.worldbank.org/en/where-we-work') as top_url:\n",
    "    top_page = bs4.BeautifulSoup(top_url, 'html.parser')\n",
    "    for country in top_page.select('a[class=\"firstLevel country-search]\"'):\n",
    "        print(country)\n",
    "        print(country.string)\n",
    "        print(country.get('href'))\n",
    "        print()"
   ]
  },
  {
   "cell_type": "code",
   "execution_count": null,
   "metadata": {
    "run_control": {
     "marked": true
    }
   },
   "outputs": [],
   "source": [
    "with urllib.request.urlopen('http://www.worldbank.org/en/country/india') as overview_url:\n",
    "    overview_page = bs4.BeautifulSoup(overview_url, 'html.parser')\n",
    "    for selected in overview_page.select('._loop_card_footer > a'):\n",
    "        selected"
   ]
  },
  {
   "cell_type": "code",
   "execution_count": null,
   "metadata": {
    "run_control": {
     "marked": true
    }
   },
   "outputs": [],
   "source": [
    "indicator = 'IBRD/IDA Operations Approved by Fiscal Year'\n",
    "\n",
    "with urllib.request.urlopen('http://data.worldbank.org/country/india') as data_url:\n",
    "    data_page = bs4.BeautifulSoup(data_url, 'html.parser')\n",
    "    data_page.find('span', text = indicator)\n",
    "    data_page.find('span', text = indicator).next_sibling\n",
    "    next(data_page.find('span', text = indicator).next_sibling.children)\n",
    "    next(next(data_page.find('span', text = indicator).next_sibling.children).children)\n",
    "    next(next(next(data_page.find('span', text = indicator).next_sibling.children).children).children)\n",
    "    next(next(next(data_page.find('span', text = indicator).next_sibling.children).children).children).string"
   ]
  },
  {
   "cell_type": "code",
   "execution_count": 1,
   "metadata": {
    "run_control": {
     "marked": false
    }
   },
   "outputs": [
    {
     "ename": "ModuleNotFoundError",
     "evalue": "No module named 'bs4'",
     "output_type": "error",
     "traceback": [
      "\u001b[0;31m---------------------------------------------------------------------------\u001b[0m",
      "\u001b[0;31mModuleNotFoundError\u001b[0m                       Traceback (most recent call last)",
      "\u001b[0;32m<ipython-input-1-720dd68d340c>\u001b[0m in \u001b[0;36m<module>\u001b[0;34m()\u001b[0m\n\u001b[1;32m      6\u001b[0m \u001b[0;32mimport\u001b[0m \u001b[0msys\u001b[0m\u001b[0;34m\u001b[0m\u001b[0m\n\u001b[1;32m      7\u001b[0m \u001b[0;34m\u001b[0m\u001b[0m\n\u001b[0;32m----> 8\u001b[0;31m \u001b[0;32mimport\u001b[0m \u001b[0mbs4\u001b[0m\u001b[0;34m\u001b[0m\u001b[0m\n\u001b[0m\u001b[1;32m      9\u001b[0m \u001b[0;32mimport\u001b[0m \u001b[0mopenpyxl\u001b[0m\u001b[0;34m\u001b[0m\u001b[0m\n\u001b[1;32m     10\u001b[0m \u001b[0;34m\u001b[0m\u001b[0m\n",
      "\u001b[0;31mModuleNotFoundError\u001b[0m: No module named 'bs4'"
     ]
    }
   ],
   "source": [
    "# Written by Eric Martin for COMP9021\n",
    "\n",
    "\n",
    "import os.path\n",
    "import urllib.request\n",
    "import sys\n",
    "\n",
    "import bs4\n",
    "import openpyxl\n",
    "\n",
    "\n",
    "def convert_to_number(amount):\n",
    "    units = {'thousand': 10 ** 3, 'million': 10 ** 6, 'billion': 10 ** 9, 'trillion': 10 ** 12}\n",
    "    # amount is of the form \"$v \" followed by one of the units above,\n",
    "    # possibly preceded or followed by spaces, with v a floating point value.\n",
    "    for unit in units:\n",
    "        if unit in amount:\n",
    "            return int(float(amount.strip().lstrip('$').rstrip(unit)) * units[unit])\n",
    "\n",
    "def countries_and_data():\n",
    "    # Example of html code being matched:\n",
    "    #\n",
    "    # <a class=\"firstLevel country-search\"\n",
    "    #    href=\"http://www.worldbank.org/en/country/afghanistan\">\n",
    "    #    Afghanistan\n",
    "    # </a>\n",
    "    for country in top_page.select('a[class=\"firstLevel country-search]\"'):\n",
    "        country_name = country.string\n",
    "        try:\n",
    "            with urllib.request.urlopen(country.get('href')) as overview_url:\n",
    "                overview_page = bs4.BeautifulSoup(overview_url, 'html.parser')\n",
    "                try:\n",
    "                    # Example of html code being matched:\n",
    "                    #\n",
    "                    # <div class=\"_loop_card_footer\">\n",
    "                    #    <a href=\"http://www.worldbank.org/en/country/afghanistan/overview\"\n",
    "                    #                                               class=\"_loop_card_link\">Overview\n",
    "                    #    </a>\n",
    "                    # </div>\n",
    "                    #\n",
    "                    # The second match seems to be the one that gives access to the data page.\n",
    "                    data = overview_page.select('._loop_card_footer > a')[1]\n",
    "                except IndexError:\n",
    "                    print(f'Could not access the data page for {country_name}.')\n",
    "                    continue\n",
    "                try:\n",
    "                    with urllib.request.urlopen(data.get('href')) as data_url:\n",
    "                        data_page = bs4.BeautifulSoup(data_url, 'html.parser')\n",
    "                        # Example of html code being matched:\n",
    "                        #\n",
    "                        # <span class=\"name\" data-reactid=\"307\">\n",
    "                        #       IBRD/IDA Operations Approved by Fiscal Year\n",
    "                        # </span>\n",
    "                        # <div class=\"chart\" data-reactid=\"308\">\n",
    "                        #    <div class=\"chart-summry\" data-reactid=\"309\">\n",
    "                        #       <div data-reactid=\"310\">\n",
    "                        #          <em data-reactid=\"311\">$448.00 million</em>\n",
    "                        #          ...\n",
    "                        #       </div>\n",
    "                        #    </div>\n",
    "                        # </div>\n",
    "                        try:\n",
    "                            yield country_name, convert_to_number(next(next(next(\n",
    "                                      data_page.find('span', text = indicator).next_sibling.children\n",
    "                                                                                ).children\n",
    "                                                                           ).children\n",
    "                                                                      ).string\n",
    "                                                                 )\n",
    "                        except AttributeError:\n",
    "                            print(f'No {indicator} for {country_name}.')\n",
    "                except urllib.error.HTTPError:\n",
    "                    print(f'Could not access the data page for {country_name}.')\n",
    "        except urllib.error.HTTPError:\n",
    "            print(f'Could not access the overview page for {country_name}.')\n",
    "\n",
    "spreadsheet_file_name = 'IBRD_IDA_operations.xlsx'\n",
    "indicator = 'IBRD/IDA Operations Approved by Fiscal Year'\n",
    "if os.path.isfile(spreadsheet_file_name):\n",
    "    print(f'A file named {spreadsheet_file_name} already exists.') \n",
    "    print('You have to remove it first.')\n",
    "    sys.exit()\n",
    "try:\n",
    "    with urllib.request.urlopen('http://www.worldbank.org/en/where-we-work') as top_url:\n",
    "        top_page = bs4.BeautifulSoup(top_url, 'html.parser')\n",
    "        workbook = openpyxl.Workbook()\n",
    "        spreadsheet = workbook.active\n",
    "        spreadsheet.title = 'World countries'\n",
    "        spreadsheet['A1'] = 'Country'\n",
    "        spreadsheet['B1'] = 'IBRD/IDA operations'\n",
    "        for counter, (country, amount) in enumerate(countries_and_data(), 2):\n",
    "            spreadsheet.cell(row = counter, column = 1).value = country\n",
    "            spreadsheet.cell(row = counter, column = 2).value = amount\n",
    "        workbook.save(spreadsheet_file_name)\n",
    "except urllib.error.HTTPError:\n",
    "    print('Could not access the top resource.')\n",
    "    sys.exit()"
   ]
  },
  {
   "cell_type": "code",
   "execution_count": null,
   "metadata": {},
   "outputs": [],
   "source": []
  }
 ],
 "metadata": {
  "kernelspec": {
   "display_name": "Python 3",
   "language": "python",
   "name": "python3"
  },
  "language_info": {
   "codemirror_mode": {
    "name": "ipython",
    "version": 3
   },
   "file_extension": ".py",
   "mimetype": "text/x-python",
   "name": "python",
   "nbconvert_exporter": "python",
   "pygments_lexer": "ipython3",
   "version": "3.6.3"
  }
 },
 "nbformat": 4,
 "nbformat_minor": 2
}
