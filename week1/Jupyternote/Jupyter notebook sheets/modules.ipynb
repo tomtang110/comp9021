{
 "cells": [
  {
   "cell_type": "code",
   "execution_count": null,
   "metadata": {},
   "outputs": [],
   "source": [
    "# Does not need to be executed if ~/.ipython/profile_default/ipython_config.py exists and contains:\n",
    "# get_config().InteractiveShell.ast_node_interactivity = 'all'\n",
    "\n",
    "from IPython.core.interactiveshell import InteractiveShell\n",
    "InteractiveShell.ast_node_interactivity = 'all'"
   ]
  },
  {
   "cell_type": "markdown",
   "metadata": {},
   "source": [
    "<h1 align=\"center\">Modules</h1>"
   ]
  },
  {
   "cell_type": "code",
   "execution_count": 1,
   "metadata": {
    "init_cell": true
   },
   "outputs": [],
   "source": [
    "import os, sys"
   ]
  },
  {
   "cell_type": "code",
   "execution_count": null,
   "metadata": {
    "run_control": {
     "marked": true
    }
   },
   "outputs": [],
   "source": [
    "for i in range(1, 3):\n",
    "    if 'mod_' + str(i) + '.py' in os.listdir():\n",
    "        print(f'I do not want to have to overwrite \"mod_{i}.py\", so I stop here.')\n",
    "        break\n",
    "else:\n",
    "    os.system('echo \"X = 0\\ndef print_X():\\n    print(X)\" >mod_1.py')\n",
    "    os.system('echo \"import mod_1\\nX = 0\\ndef print_X():\\n    print(X)\" >mod_2.py')\n",
    "    import mod_2\n",
    "    from mod_2 import mod_1\n",
    "    from mod_1 import X\n",
    "    mod_1.X, mod_2.X, X = 1, 2, 3\n",
    "    mod_1.print_X()\n",
    "    mod_2.print_X()\n",
    "    print()\n",
    "    reload(mod_2)\n",
    "    mod_1.print_X()\n",
    "    mod_2.print_X()\n",
    "    for module in tuple(sys.modules):\n",
    "        if str(sys.modules[module]).find(os.getcwd()) != -1:\n",
    "            del sys.modules[module]\n",
    "    os.system('rm mod_[12].py')"
   ]
  },
  {
   "cell_type": "code",
   "execution_count": null,
   "metadata": {
    "run_control": {
     "marked": true
    }
   },
   "outputs": [],
   "source": [
    "if 'dir_1' in os.listdir():\n",
    "    print('I do not want to overwrite dir_1, so I stop here.')\n",
    "# Would have preferred instead to name this file numbers.py, but see below.\n",
    "elif 'my_numbers.py' in os.listdir():\n",
    "    print('I do not want to have to overwrite my_numbers.py, so I stop here.')\n",
    "else:\n",
    "    try:\n",
    "        import mod\n",
    "        print('I do not want to be able to import mod.py, so I stop here.')\n",
    "    except ImportError:\n",
    "        os.system('mkdir -p dir_1/dir_11/dir_111/dir_1111 dir_1/dir_12')\n",
    "        os.system('>my_numbers.py')\n",
    "        os.system('>dir_1/__init__.py')\n",
    "        os.system('>dir_1/dir_11/__init__.py')\n",
    "        os.system('>dir_1/dir_11/dir_111/__init__.py')\n",
    "        os.system('>dir_1/dir_11/dir_111/dir_1111/__init__.py')\n",
    "        os.system('>dir_1/dir_12/__init__.py')\n",
    "        os.system('>dir_1/dir_11/string.py')\n",
    "        os.system('>dir_1/dir_11/re.py')\n",
    "        os.system('>dir_1/dir_11/dir_111/math.py')\n",
    "        os.system('>dir_1/dir_11/dir_111/dir_1111/random.py')\n",
    "        os.system('>dir_1/dir_12/calendar.py')\n",
    "        os.system('>dir_1/dir_12/datetime.py')\n",
    "        # If \"my_numbers.py\" had been named \"numbers.py\", then Python would import this file,\n",
    "        # but iPython would instead import the module from the standard library.\n",
    "        # This is because modules to import are first looked for in sys.modules;\n",
    "        # if they are not found there then the search for modules using sys.path takes over.\n",
    "        # sys.modules is larger for iPython than for Python and seems to include\n",
    "        # all modules from the standard library.\n",
    "        # This prevents iPython to illustrate that when the search for modules\n",
    "        # is directed by sys.path, then modules from the current working directory\n",
    "        # take priority, possibly hiding modules from the standard library.\n",
    "        os.system('echo \"import string\\n'\n",
    "                        'import my_numbers\\n'\n",
    "                        'from . import re\\n'\n",
    "                        'from .dir_111 import math\\n'\n",
    "                        'from .dir_111.dir_1111 import random\\n'\n",
    "                        'from ..dir_12 import calendar\\n'\n",
    "                        'print(string)\" >dir_1/dir_11/mod.py')\n",
    "        os.system('echo \"from . import datetime as my_datetime_module\" >dir_1/dir_12/calendar.py')\n",
    "        import dir_1.dir_11.mod\n",
    "        for module in sorted(module for module in sys.modules\n",
    "                                      if str(sys.modules[module]).find(os.getcwd()) != -1):\n",
    "            print(module)\n",
    "            del sys.modules[module]\n",
    "        os.system('rm -r dir_1 my_numbers.py')"
   ]
  },
  {
   "cell_type": "code",
   "execution_count": null,
   "metadata": {
    "run_control": {
     "marked": true
    }
   },
   "outputs": [],
   "source": [
    "for i in range(1, 4):\n",
    "    if 'dir_' + str(i) in os.listdir():\n",
    "        print(f'I do not want to overwrite dir_{i}, so I stop here.')\n",
    "        break\n",
    "else:\n",
    "    try:\n",
    "        import mod\n",
    "        print('I do not want to be able to import mod.py, so I stop here.')\n",
    "    except ImportError:\n",
    "        os.system('mkdir -p dir_1/dir_A/dir_AA/dir_AAA '\n",
    "                  'dir_2/dir_A/dir_AA/dir_AAA/mod '\n",
    "                  'dir_3/dir_A/dir_AA/dir_AAA')\n",
    "        os.system('>dir_3/dir_A/dir_AA/dir_AAA/mod.py')\n",
    "        \n",
    "        for i in range(1, 4):\n",
    "            sys.path.append(os.getcwd() + '/dir_' + str(i))\n",
    "        # Alternatively:\n",
    "        # import dir_A as name_1\n",
    "        import dir_A\n",
    "        # Necessary syntax if we used \"import dir_A as name_1\":       \n",
    "        # print(name_1, name_1.__path__)\n",
    "        print(dir_A, dir_A.__path__)\n",
    "        # Alternatively:\n",
    "        # from dir_A import dir_AA as name_2\n",
    "        from dir_A import dir_AA\n",
    "        # Necessary syntax if we used \"from dir_A import dir_AA as name_2\"\n",
    "        #                         and \"import dir_A as name_1\":\n",
    "        # print(name_2, name_2.__path__)\n",
    "        # Alternatively for both forms, if we did not use \"import dir_A as name_1\":        \n",
    "        # print(dir_A.dir_AA, dir_A.dir_AA.__path__)        \n",
    "        print(dir_AA, dir_AA.__path__)\n",
    "        # Alternatively:        \n",
    "        # import dir_A.dir_AA.dir_AAA as name_3\n",
    "        import dir_A.dir_AA.dir_AAA\n",
    "        # Necessary syntax if we used \"dir_A.dir_AA.dir_AAA as name_3\"\n",
    "        #                         and \"import dir_A as name_1\":\n",
    "        # print(name_3, name_3.__path__)\n",
    "        print(dir_A.dir_AA.dir_AAA, dir_A.dir_AA.dir_AAA.__path__)\n",
    "        # Alternatively:        \n",
    "        # from dir_A.dir_AA.dir_AAA import mod as name_4\n",
    "        from dir_A.dir_AA.dir_AAA import mod\n",
    "        # Necessary syntax if we used \"from dir_A.dir_AA.dir_AAA import mod as name_4\"\n",
    "        #                         and \"import dir_A as name_1\":\n",
    "        # print(name_4)\n",
    "        # Alternatively for both forms, if we did not use \"import dir_A as name_1\":        \n",
    "        # print(dir_A.dir_AA.dir_AAA.mod)\n",
    "        print(mod)\n",
    "        sys.path = sys.path[: -3]\n",
    "        for module in tuple(sys.modules):\n",
    "            if str(sys.modules[module]).find(os.getcwd()) != -1:\n",
    "                del sys.modules[module]\n",
    "        os.system('rm -r dir_[123]')"
   ]
  },
  {
   "cell_type": "code",
   "execution_count": null,
   "metadata": {
    "run_control": {
     "marked": true
    }
   },
   "outputs": [],
   "source": [
    "for i in range(1, 4):\n",
    "    if 'dir_' + str(i) in os.listdir():\n",
    "        print(f'I do not want to overwrite dir_{i}, so I stop here.')\n",
    "        break\n",
    "else:\n",
    "    try:\n",
    "        import mod\n",
    "        print('I do not want to be able to import mod.py, so I stop here.')\n",
    "    except ImportError:\n",
    "        os.system('mkdir -p dir_1/dir_A/dir_AA/dir_AAA '\n",
    "                  'dir_2/dir_A/dir_AA/dir_AAA/mod '\n",
    "                  'dir_3/dir_A/dir_AA/dir_AAA')\n",
    "        os.system('>dir_3/dir_A/dir_AA/dir_AAA/__init__.py')\n",
    "        os.system('>dir_3/dir_A/dir_AA/dir_AAA/mod.py')\n",
    "        for i in range(1, 4):\n",
    "            sys.path.append(os.getcwd() + '/dir_' + str(i))\n",
    "        # Alternatively:\n",
    "        # import dir_A as name_1\n",
    "        import dir_A\n",
    "        # Necessary syntax if we used \"import dir_A as name_1\":       \n",
    "        # print(name_1, name_1.__path__)\n",
    "        print(dir_A, dir_A.__path__)\n",
    "        # Alternatively:        \n",
    "        # from dir_A import dir_AA as name_2\n",
    "        from dir_A import dir_AA\n",
    "        # Necessary syntax if we used \"from dir_A import dir_AA as name_2\"\n",
    "        #                         and \"import dir_A as name_1\":\n",
    "        # print(name_2, name_2.__path__)\n",
    "        # Alternatively for both forms, if we did not use \"import dir_A as name_1\":        \n",
    "        # print(dir_A.dir_AA, dir_A.dir_AA.__path__)\n",
    "        print(dir_AA, dir_AA.__path__)\n",
    "        # Alternatively:        \n",
    "        # import dir_A.dir_AA.dir_AAA as name_3\n",
    "        import dir_A.dir_AA.dir_AAA\n",
    "        # Necessary syntax if we used \"dir_A.dir_AA.dir_AAA as name_3\"\n",
    "        #                         and \"import dir_A as name_1\":\n",
    "        # print(name_3, name_3.__path__)\n",
    "        print(dir_A.dir_AA.dir_AAA, dir_A.dir_AA.dir_AAA.__path__)\n",
    "        # Alternatively:        \n",
    "        # from dir_A.dir_AA.dir_AAA import mod as name_4\n",
    "        from dir_A.dir_AA.dir_AAA import mod\n",
    "        # Necessary syntax if we used \"from dir_A.dir_AA.dir_AAA import mod as name_4\"\n",
    "        #                         and \"import dir_A as name_1\":\n",
    "        # print(name_4)\n",
    "        # Alternatively for both forms, if we did not use \"import dir_A as name_1\":        \n",
    "        # print(dir_A.dir_AA.dir_AAA.mod)\n",
    "        print(mod)\n",
    "        sys.path = sys.path[: -3]\n",
    "        for module in tuple(sys.modules):\n",
    "            if str(sys.modules[module]).find(os.getcwd()) != -1:\n",
    "                del sys.modules[module]\n",
    "        os.system('rm -r dir_[123]')"
   ]
  }
 ],
 "metadata": {
  "kernelspec": {
   "display_name": "Python 3",
   "language": "python",
   "name": "python3"
  },
  "language_info": {
   "codemirror_mode": {
    "name": "ipython",
    "version": 3
   },
   "file_extension": ".py",
   "mimetype": "text/x-python",
   "name": "python",
   "nbconvert_exporter": "python",
   "pygments_lexer": "ipython3",
   "version": "3.6.4"
  }
 },
 "nbformat": 4,
 "nbformat_minor": 1
}
