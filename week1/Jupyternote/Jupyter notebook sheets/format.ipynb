{
 "cells": [
  {
   "cell_type": "code",
   "execution_count": null,
   "metadata": {},
   "outputs": [],
   "source": [
    "# Does not need to be executed if ~/.ipython/profile_default/ipython_config.py exists and contains:\n",
    "# get_config().InteractiveShell.ast_node_interactivity = 'all'\n",
    "\n",
    "from IPython.core.interactiveshell import InteractiveShell\n",
    "InteractiveShell.ast_node_interactivity = 'all'"
   ]
  },
  {
   "cell_type": "markdown",
   "metadata": {},
   "source": [
    "<h1 align=\"center\">Format</h1>"
   ]
  },
  {
   "cell_type": "code",
   "execution_count": null,
   "metadata": {
    "run_control": {
     "marked": true
    }
   },
   "outputs": [],
   "source": [
    "str('0'), repr('0'), format('0'), '{}'.format('0'), '{!s}'.format('0'), '{!r}'.format('0')"
   ]
  },
  {
   "cell_type": "code",
   "execution_count": null,
   "metadata": {
    "run_control": {
     "marked": true
    }
   },
   "outputs": [],
   "source": [
    "'|{}|{}|{}|'.format('ABC', 1, 1.)\n",
    "'|{2}|{1}|{0}|{1}|{2}|'.format('ABC', 1, 1.)\n",
    "'|{v2}|{0}|{v1}|'.format('ABC', v1 = 1, v2 = 1.)\n",
    "'|{1[v11]}|{1[v10]}|{0}|'.format('ABC', {'v10': 1, 'v11': 1.})\n",
    "'|{v1[v11]}|{v1[v10]}|{0[0]}|'.format('ABC', v1 = {'v10': 1, 'v11': 1.})\n",
    "'|{1[1]}|{1[0]}|{0[1]}|'.format('ABC', [1,  1.])\n",
    "'|{v1[1]}|{v1[0]}|{0[2]}|'.format('ABC', v1 = [1,  1.])"
   ]
  },
  {
   "cell_type": "markdown",
   "metadata": {},
   "source": [
    "The general form of a *standard format specifier* is\n",
    "\n",
    "                    [[fill]align][sign][#][0][width][,_][.precision][type]\n",
    "\n",
    "where:\n",
    "* fill is any character,\n",
    "* align is \"<\", \">\", \"=\" or \"^\"\n",
    "* sign is \"+\", \"-\" or \" \"\n",
    "* width and precision are integers\n",
    "* type is \"b\", \"c\", \"d\", \"e\", \"E\", \"f\", \"F\", \"g\", \"G\", \"n\", \"o\", \"s\", \"x\", \"X\" or \"%\""
   ]
  },
  {
   "cell_type": "code",
   "execution_count": null,
   "metadata": {
    "run_control": {
     "marked": true
    }
   },
   "outputs": [],
   "source": [
    "# Can be replaced by:\n",
    "# f\"|{'ABCDE':9s}|{'ABCDE':<9s}|{'ABCDE':>9s}|{'ABCDE':^9s}|\"\n",
    "f\"|{'ABCDE':9}|{'ABCDE':<9}|{'ABCDE':>9}|{'ABCDE':^9}|\"\n",
    "# Can be replaced by:\n",
    "# f\"|{'':9s}|{'ABCDE':_<9s}|{'ABCDE':_>9s}|{'ABCDE':_^9s}|\"\n",
    "f\"|{'':9}|{'ABCDE':_<9}|{'ABCDE':_>9}|{'ABCDE':_^9}|\"\n",
    "# Can be replaced by:\n",
    "# print(f\"|{'ABCDEFGHIJ':.5s}|\")\n",
    "f\"|{'ABCDEFGHIJ':.5}|\""
   ]
  },
  {
   "cell_type": "code",
   "execution_count": null,
   "metadata": {
    "run_control": {
     "marked": true
    }
   },
   "outputs": [],
   "source": [
    "f'|{9731:c}|'\n",
    "f'|{9731:9c}|{9731:<9c}|{9731:>9c}|{9731:^9c}|'\n",
    "f'|{9731:09c}|{9731:_<9c}|{9731:_>9c}|{9731:_^9c}|'"
   ]
  },
  {
   "cell_type": "code",
   "execution_count": null,
   "metadata": {
    "run_control": {
     "marked": true
    }
   },
   "outputs": [],
   "source": [
    "# Can be replaced by either:\n",
    "# f'|{-123:8d}|{-123:<8d}|{-123:>8d}|{-123:=8d}|{-123:^8d}|'\n",
    "# or:\n",
    "# f'|{-123:8n}|{-123:<8n}|{-123:>8n}|{-123:=8n}|{-123:^8n}|'\n",
    "f'|{-123:8}|{-123:<8}|{-123:>8}|{-123:=8}|{-123:^8}|'\n",
    "# Can be replaced by either:\n",
    "# f'|{-123:08d}|{-123:_<8d}|{-123:_>8d}|{-123:_=8d}|{-123:_^8d}|'\n",
    "# or:\n",
    "# f'|{-123:08n}|{-123:_<8n}|{-123:_>8n}|{-123:_=8n}|{-123:_^8n}|'\n",
    "f'|{-123:08}|{-123:_<8}|{-123:_>8}|{-123:_=8}|{-123:_^8}|'\n",
    "# Can be replaced by:\n",
    "# f'{+123:d}|{123:+d}|{123:-d}|{123: d}|'\n",
    "# or:\n",
    "# f'{+123:n}|{123:+n}|{123:-n}|{123: n}|'\n",
    "f'|{+123}|{123:+}|{123:-}|{123: }|'\n",
    "# Can be replaced by either:\n",
    "# f'|{-12345678:,d}|'\n",
    "# or:\n",
    "# f'|{-12345678:,n}|'\n",
    "f'|{-12345678:,}|'\n",
    "f'|{-12345678:_}|{-12345678:_b}|{-12345678:_o}|{-12345678:_x}|{-12345678:_X}|'"
   ]
  },
  {
   "cell_type": "code",
   "execution_count": null,
   "metadata": {
    "run_control": {
     "marked": true
    }
   },
   "outputs": [],
   "source": [
    "f'|{-37:12b}|{-37:<12b}|{-37:>12b}|{-37:=12b}|{-37:^12b}|'\n",
    "f'|{-37:012b}|{-37:_<12b}|{-37:_>12b}|{-37:_=12b}|{-37:_^12b}|'\n",
    "f'|{+37:b}|{37:+b}|{37:-b}|{37: b}|'\n",
    "f'|{-37:#12b}|{-37:<#12b}|{-37:>#12b}|{-37:=#12b}|{-37:^#12b}|'\n",
    "f'|{-37:#012b}|{-37:_<#12b}|{-37:_>#12b}|{-37:_=#12b}|{-37:_^#12b}|'\n",
    "f'|{37:#b}|{37:+#b}|{37:-#b}|{37: #b}|'"
   ]
  },
  {
   "cell_type": "code",
   "execution_count": null,
   "metadata": {
    "run_control": {
     "marked": true
    }
   },
   "outputs": [],
   "source": [
    "f'|{-69:9o}|{-69:<9o}|{-69:>9o}|{-69:=9o}|{-69:^9o}|'\n",
    "f'|{-69:09o}|{-69:_<9o}|{-69:_>9o}|{-69:_=9o}|{-69:_^9o}|'\n",
    "f'|{+69:o}|{69:+o}|{69:-o}|{69: o}|'\n",
    "f'|{-69:#9o}|{-69:<#9o}|{-69:>#9o}|{-69:=#9o}|{-69:^#9o}|'\n",
    "f'|{-69:#09o}|{-69:_<#9o}|{-69:_>#9o}|{-69:_=#9o}|{-69:_^#9o}|'\n",
    "f'|{69:#o}|{69:+#o}|{69:-#o}|{69: #o}|'"
   ]
  },
  {
   "cell_type": "code",
   "execution_count": null,
   "metadata": {
    "run_control": {
     "marked": true
    }
   },
   "outputs": [],
   "source": [
    "f'|{-27:9x}|{-27:<9x}|{-27:>9x}|{-27:=9x}|{-27:^9x}|'\n",
    "f'|{-27:09x}|{-27:_<9x}|{-27:_>9x}|{-27:_=9x}|{-27:_^9x}|'\n",
    "f'|{+27:x}|{27:+x}|{27:-x}|{27: x}|'\n",
    "f'|{-27:#9x}|{-27:<#9x}|{-27:>#9x}|{-27:=#9x}|{-27:^#9x}|'\n",
    "f'|{-27:#09x}|{-27:_<#9x}|{-27:_>#9x}|{-27:_=#9x}|{-27:_^#9x}|'\n",
    "f'|{27:#x}|{27:+#x}|{27:-#x}|{27: #x}|'"
   ]
  },
  {
   "cell_type": "code",
   "execution_count": null,
   "metadata": {
    "run_control": {
     "marked": true
    }
   },
   "outputs": [],
   "source": [
    "f'|{-27:9X}|{-27:<9X}|{-27:>9X}|{-27:=9X}|{-27:^9X}|'\n",
    "f'|{-27:09X}|{-27:_<9X}|{-27:_>9X}|{-27:_=9X}|{-27:_^9X}|'\n",
    "f'|{+27:X}|{27:+X}|{27:-X}|{27: X}|'\n",
    "f'|{-27:#9X}|{-27:<#9X}|{-27:>#9X}|{-27:=#9X}|{-27:^#9X}|'\n",
    "f'|{-27:#09X}|{-27:_<#9X}|{-27:_>#9X}|{-27:_=#9X}|{-27:_^#9X}|'\n",
    "f'|{27:#X}|{27:+#X}|{27:-#X}|{27: #X}|'"
   ]
  },
  {
   "cell_type": "code",
   "execution_count": null,
   "metadata": {
    "run_control": {
     "marked": true
    }
   },
   "outputs": [],
   "source": [
    "f'|{-1234.:10}|{-123456789012345.6789:<25}|{-1234567890123456.789:>25}|\\\n",
    "   {-12345678901234567.89:=25}|{-123456789012345678.9:^25}|'\n",
    "f'|{-1234.:010}|{-123456789012345.6789:_<25}|{-1234567890123456.789:_>25}|\\\n",
    "   {-12345678901234567.89:_=25}|{-123456789012345678.9:_^25}|'\n",
    "f'|{+123456789012345.6789}|{1234567890123456.789:+}|{12345678901234567.89:-}|{123456789012345678.9: }|'\n",
    "f'|{-12345.6789:,}|'\n",
    "f'|{-12.3456789:.5}|{-123456789012345678.9:.5}|'\n",
    "f'|{12.34:.0}|{12.34:#.0}|'"
   ]
  },
  {
   "cell_type": "code",
   "execution_count": null,
   "metadata": {
    "run_control": {
     "marked": true
    }
   },
   "outputs": [],
   "source": [
    "# Can be replaced by:\n",
    "# f'|{-12.3456789:15F}|{-12.3456789:<15F}|{-12.3456789:>15F}|{-12.3456789:=15F}|{-12.3456789:^15F}|'\n",
    "f'|{-12.3456789:15f}|{-12.3456789:<15f}|{-12.3456789:>15f}|{-12.3456789:=15f}|{-12.3456789:^15f}|'\n",
    "# Can be replaced by:\n",
    "# f'|{-12.3456789:015F}|{-12.3456789:_<15F}|{-12.3456789:_>15F}|{-12.3456789:_=15F}|{-12.3456789:_^15F}|'\n",
    "f'|{-12.3456789:015f}|{-12.3456789:_<15f}|{-12.3456789:_>15f}|{-12.3456789:_=15f}|{-12.3456789:_^15f}|'\n",
    "# Can be replaced by:\n",
    "# f'|{+123456789.:F}|{123456789.:+F}|{123456789.:-F}|{123456789.: F}|'\n",
    "f'|{+123456789.:f}|{123456789.:+f}|{123456789.:-f}|{123456789.: f}|'\n",
    "# Can be replaced by:\n",
    "# f'|{-12345.6789:,F}|'\n",
    "f'|{-12345.6789:,f}|'\n",
    "# Can be replaced by:\n",
    "# f'|{-12.3456789:.5F}|'\n",
    "f'|{-12.3456789:.5f}|'\n",
    "# Can be replaced by:\n",
    "# f'|{12.34:.0F}|{12.34:#.0F}|'\n",
    "f'|{12.34:.0f}|{12.34:#.0f}|'"
   ]
  },
  {
   "cell_type": "code",
   "execution_count": null,
   "metadata": {
    "run_control": {
     "marked": true
    }
   },
   "outputs": [],
   "source": [
    "f'|{-12.3456789:15e}|{-12.3456789:<15e}|{-12.3456789:>15e}|{-12.3456789:=15e}|{-12.3456789:^15e}|'\n",
    "f'|{-12.3456789:15E}|{-12.3456789:<15E}|{-12.3456789:>15E}|{-12.3456789:=15E}|{-12.3456789:^15E}|'\n",
    "f'|{-12.3456789:015e}|{-12.3456789:_<15e}|{-12.3456789:_>15e}|{-12.3456789:_=15e}|{-12.3456789:_^15e}|'\n",
    "f'|{-12.3456789:015E}|{-12.3456789:_<15E}|{-12.3456789:_>15E}|{-12.3456789:_=15E}|{-12.3456789:_^15E}|'\n",
    "f'|{+12.3456789:e}|{12.3456789:+e}|{12.3456789:-e}|{12.3456789: e}|'\n",
    "f'|{+12.3456789:E}|{12.3456789:+E}|{12.3456789:-E}|{12.3456789: E}|'\n",
    "f'|{-12.3456789:.5e}|'\n",
    "f'|{-12.3456789:.5E}|'\n",
    "f'|{12.34:.0e}|{12.34:#.0e}|'\n",
    "f'|{12.34:.0E}|{12.34:#.0E}|'"
   ]
  },
  {
   "cell_type": "code",
   "execution_count": null,
   "metadata": {
    "run_control": {
     "marked": true
    }
   },
   "outputs": [],
   "source": [
    "f'|{-1234.:15g}|{-12345.6789:<15g}|{-123456.789:>15g}|{-1234567.89:=15g}|{-12345678.9:^15g}|'\n",
    "f'|{-1234.:15G}|{-12345.6789:<15G}|{-123456.789:>15G}|{-1234567.89:=15G}|{-12345678.9:^15G}|'\n",
    "f'|{-1234.56789:015g}|{-12345.6789:_<15g}|{-123456.789:_>15g}|{-1234567.89:_=15g}|{-12345678.9:_^15g}|'\n",
    "f'|{-1234.56789:015G}|{-12345.6789:_<15G}|{-123456.789:_>15G}|{-1234567.89:_=15G}|{-12345678.9:_^15G}|'\n",
    "f'|{+1234.56789:g}|{12345.6789:+g}|{123456.789:-g}|{1234567.89: g}|'\n",
    "f'|{+1234.56789:G}|{12345.6789:+G}|{123456.789:-G}|{1234567.89: G}|'\n",
    "f'|{-12.3456789:.5g}|{-1234567.89:.5g}|'\n",
    "f'|{-12.3456789:.5G}|{-1234567.89:.5G}|'\n",
    "f'|{12.:g}|{12.:#g}|{10000000:g}|{10000000:#g}|'\n",
    "f'|{12.:G}|{12.:#G}|{10000000:G}|{10000000:#G}|'"
   ]
  },
  {
   "cell_type": "code",
   "execution_count": null,
   "metadata": {
    "run_control": {
     "marked": true
    }
   },
   "outputs": [],
   "source": [
    "f'|{-12.3456789:15%}|{-12.3456789:<15%}|{-12.3456789:>15%}|{-12.3456789:=15%}|{-12.3456789:^15%}|'\n",
    "f'|{-12.3456789:015%}|{-12.3456789:_<15%}|{-12.3456789:_>15%}|{-12.3456789:_=15%}|{-12.3456789:_^15%}|'\n",
    "f'|{+12.345:%}|{12.345:+%}|{12.345:-%}|{12.345: %}|'\n",
    "f'|{-12345.6789:,%}|'\n",
    "f'|{-12.3456789:.5%}|'"
   ]
  },
  {
   "cell_type": "code",
   "execution_count": null,
   "metadata": {
    "run_control": {
     "marked": true
    }
   },
   "outputs": [],
   "source": [
    "f\"{float('inf')}\"\n",
    "f\"{float('Nan')}\"\n",
    "f\"{float('inf'):f} {float('Nan'):f}\"\n",
    "f\"{float('inf'):F} {float('Nan'):F}\"\n",
    "f\"{float('inf'):e} {float('Nan'):e}\"\n",
    "f\"{float('inf'):E} {float('Nan'):E}\"\n",
    "f\"{float('inf'):g} {float('Nan'):g}\"\n",
    "f\"{float('inf'):G} {float('Nan'):G}\""
   ]
  }
 ],
 "metadata": {
  "kernelspec": {
   "display_name": "Python 3",
   "language": "python",
   "name": "python3"
  },
  "language_info": {
   "codemirror_mode": {
    "name": "ipython",
    "version": 3
   },
   "file_extension": ".py",
   "mimetype": "text/x-python",
   "name": "python",
   "nbconvert_exporter": "python",
   "pygments_lexer": "ipython3",
   "version": "3.6.4"
  }
 },
 "nbformat": 4,
 "nbformat_minor": 1
}
