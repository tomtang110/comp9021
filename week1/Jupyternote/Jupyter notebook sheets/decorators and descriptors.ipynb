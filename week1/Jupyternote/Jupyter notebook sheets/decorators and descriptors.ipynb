{
 "cells": [
  {
   "cell_type": "code",
   "execution_count": null,
   "metadata": {},
   "outputs": [],
   "source": [
    "# Does not need to be executed if ~/.ipython/profile_default/ipython_config.py exists and contains:\n",
    "# get_config().InteractiveShell.ast_node_interactivity = 'all'\n",
    "\n",
    "from IPython.core.interactiveshell import InteractiveShell\n",
    "InteractiveShell.ast_node_interactivity = 'all'"
   ]
  },
  {
   "cell_type": "markdown",
   "metadata": {},
   "source": [
    "<h1 align=\"center\">Decorators and descriptors</h1>"
   ]
  },
  {
   "cell_type": "code",
   "execution_count": null,
   "metadata": {
    "run_control": {
     "marked": true
    }
   },
   "outputs": [],
   "source": [
    "class count_calls:\n",
    "    def __init__(self, f):\n",
    "        self.count = 0\n",
    "        self.f = f\n",
    "    def __call__(self, *args, **kwargs):\n",
    "        self.count += 1\n",
    "        print(f'Count nb {self.count} to {self.f}')\n",
    "        return self.f(*args, **kwargs)\n",
    "\n",
    "# Equivalent to:\n",
    "# add_up = count_calls(add_up)\n",
    "@count_calls\n",
    "def add_up(x, y, *, a, b):\n",
    "    return x + y + a + b\n",
    "\n",
    "add_up(1, 2, a = 2, b = 3)\n",
    "add_up(4, 5, a = 6, b = 7)\n",
    "add_up(8, 9, a = 10, b = 11)"
   ]
  },
  {
   "cell_type": "code",
   "execution_count": null,
   "metadata": {
    "run_control": {
     "marked": true
    }
   },
   "outputs": [],
   "source": [
    "def count_calls(f):\n",
    "    count = 0\n",
    "    def wrap(*args, **kwargs):\n",
    "        nonlocal count\n",
    "        count += 1\n",
    "        print(f'Count nb {count} to {f}')\n",
    "        return f(*args, **kwargs)\n",
    "    return wrap\n",
    "\n",
    "# Equivalent to:\n",
    "# add_up = count_calls(add_up)\n",
    "@count_calls\n",
    "def add_up(x, y, *, a, b):\n",
    "    return x + y + a + b\n",
    "\n",
    "add_up(1, 2, a = 2, b = 3)\n",
    "add_up(4, 5, a = 6, b = 7)\n",
    "add_up(8, 9, a = 10, b = 11)"
   ]
  },
  {
   "cell_type": "code",
   "execution_count": null,
   "metadata": {
    "run_control": {
     "marked": true
    }
   },
   "outputs": [],
   "source": [
    "def count_calls_starting_from(start = 0):\n",
    "    def count_calls(f):\n",
    "        count = start\n",
    "        def wrap(*args, **kwargs):\n",
    "            nonlocal count\n",
    "            count += 1\n",
    "            print(f'Count nb {count} to {f}')\n",
    "            return f(*args, **kwargs)\n",
    "        return wrap\n",
    "    return count_calls\n",
    "\n",
    "# Equivalent to:\n",
    "# add_up = count_calls_starting_from(1)(add_up)\n",
    "@count_calls_starting_from(1)\n",
    "def add_up(x, y, *, a, b):\n",
    "    return x + y + a + b\n",
    "\n",
    "add_up(1, 2, a = 2, b = 3)\n",
    "add_up(4, 5, a = 6, b = 7)\n",
    "add_up(8, 9, a = 10, b = 11)"
   ]
  },
  {
   "cell_type": "code",
   "execution_count": null,
   "metadata": {
    "run_control": {
     "marked": true
    }
   },
   "outputs": [],
   "source": [
    "def count_calls(cls):\n",
    "    def wrap(datum):\n",
    "        wrap.count += 1\n",
    "        print(f'Count nb {wrap.count} to {cls}')\n",
    "        return cls(datum)\n",
    "    wrap.count = 0\n",
    "    return wrap\n",
    "\n",
    "# Equivalent to:\n",
    "# C = count_calls(C)\n",
    "@count_calls\n",
    "class C:\n",
    "    def __init__(self, datum):\n",
    "        self.datum = datum\n",
    "\n",
    "I1, I2, I3 = C(11), C(12), C(13)\n",
    "I1.datum, I2.datum, I3.datum"
   ]
  },
  {
   "cell_type": "code",
   "execution_count": null,
   "metadata": {
    "run_control": {
     "marked": true
    }
   },
   "outputs": [],
   "source": [
    "class C:\n",
    "    count_1 = 0\n",
    "    count_2 = 0  \n",
    "    def __init__(self):\n",
    "        C.count_1 += 1\n",
    "        C.count_2 += 1 \n",
    "    def display_count_1(mark):\n",
    "        print('count_1' + mark, C.count_1)\n",
    "    # Equivalent to:\n",
    "    # display_count_2 = staticmethod(display_count_2)\n",
    "    @staticmethod\n",
    "    def display_count_2(mark):\n",
    "        print('count_2' + mark, C.count_2)\n",
    "\n",
    "I1, I2, I3 = C(), C(), C()\n",
    "C.display_count_1(':')\n",
    "C.display_count_2('...')\n",
    "I2.display_count_2(' ')"
   ]
  },
  {
   "cell_type": "code",
   "execution_count": null,
   "metadata": {
    "run_control": {
     "marked": true
    }
   },
   "outputs": [],
   "source": [
    "class C:\n",
    "    count = 0 \n",
    "    def __init__(self):\n",
    "        C.count += 1 \n",
    "    # Equivalent to:\n",
    "    # display_count = classmethod(display_count)\n",
    "    @classmethod\n",
    "    def display_count(cls, mark):\n",
    "        print(f'count for {cls.__name__}' + mark, C.count)\n",
    "\n",
    "I1, I2, I3 = C(), C(), C()\n",
    "C.display_count('...')\n",
    "I2.display_count(':')"
   ]
  },
  {
   "cell_type": "markdown",
   "metadata": {},
   "source": [
    "A __descriptor__ is any class with at least one of the three methods:\n",
    "* \\_\\_get\\_\\_(self, instance, owner)\n",
    "* \\_\\_set\\_\\_(self, instance, value)\n",
    "* \\_\\_delete\\_\\_(self, instance)\n",
    "\n",
    "It is called:\n",
    "* a __data descriptor__ if it implements \\_\\_set\\_\\_()\n",
    "* a __non-data descriptor__ if it does not implement \\_\\_set\\_\\_()."
   ]
  },
  {
   "cell_type": "code",
   "execution_count": null,
   "metadata": {
    "run_control": {
     "marked": true
    }
   },
   "outputs": [],
   "source": [
    "class D:\n",
    "    def __init__(self):\n",
    "        self.datum = 'Descriptor datum'\n",
    "    def __get__(self, instance, owner):\n",
    "        print(self.datum)\n",
    "        print(owner._datum)\n",
    "        return instance._datum     \n",
    "    def __set__(self, instance, value):\n",
    "        self.datum = 'New descriptor datum'\n",
    "        instance._datum = value   \n",
    "    def __delete__(self, instance):\n",
    "        print('Deleting instance datum')\n",
    "        del instance._datum\n",
    "\n",
    "class C:\n",
    "    _datum = 'Owner datum'\n",
    "    def __init__(self):\n",
    "        self._datum = 'Instance datum'\n",
    "    datum = D()\n",
    "\n",
    "I = C()\n",
    "I.datum\n",
    "I.datum = 'New instance value'\n",
    "I.datum\n",
    "del I.datum\n",
    "print()\n",
    "I = C()\n",
    "I.datum"
   ]
  },
  {
   "cell_type": "code",
   "execution_count": null,
   "metadata": {
    "run_control": {
     "marked": true
    }
   },
   "outputs": [],
   "source": [
    "class DataDescriptorWithGet:\n",
    "    def __get__(self, instance, owner):\n",
    "        return 'X1'\n",
    "    def __set__(self, instance, value):\n",
    "        pass\n",
    "\n",
    "class DataDescriptorWithoutGet:\n",
    "    def __set__(self, instance, value):\n",
    "        pass\n",
    "\n",
    "class NonDataDescriptor:\n",
    "    def __get__(self, instance, owner):\n",
    "        return 'X3'\n",
    "\n",
    "class C:\n",
    "    x1 = DataDescriptorWithGet()\n",
    "    x2 = DataDescriptorWithoutGet()\n",
    "    x3 = NonDataDescriptor()\n",
    "    def __init__(self):\n",
    "        self.x1 = 'x1'\n",
    "        self.x2 = 'x2'\n",
    "\n",
    "I = C(); I.__dict__, I.x1, I.x2, I.x3\n",
    "I.x1 = 'xx1'; I.__dict__, I.x1\n",
    "I.__dict__['x1'] = 'xx1'; I.__dict__, I.x1\n",
    "I.x2 = 'xx2'; I.__dict__, I.x2\n",
    "I.__dict__['x2'] = 'xx2'; I.__dict__, I.x2\n",
    "I.x3 = 'x3'; I.__dict__, I.x3\n",
    "I.__dict__['x3'] = 'xx3'; I.__dict__, I.x3"
   ]
  },
  {
   "cell_type": "code",
   "execution_count": null,
   "metadata": {
    "run_control": {
     "marked": true
    }
   },
   "outputs": [],
   "source": [
    "class C:\n",
    "    def __init__(self, datum):\n",
    "        self._datum = datum\n",
    "    # Equivalent to:\n",
    "    # datum = property(fget = datum, fset = None, fdel = None, doc = None)\n",
    "    # Using that form would set C.datum.__doc__ to the value of doc;\n",
    "    # with the decorator, that value is instead 'For illustration purposes'.\n",
    "    @property\n",
    "    def datum(self):\n",
    "        'For illustration purposes'\n",
    "        print('You asked for the value of datum')\n",
    "        return self._datum\n",
    "    # C.datum is now a descriptor, with in particular\n",
    "    # - the built-in methods getter, setter and deleter;\n",
    "    # - the functions fget, fset, fdel;\n",
    "    # - the method-wrappers __get__, __set__, __delete__. \n",
    "    # C.datum.__get__ is a method wrapper of C.datum.fget (the function above).\n",
    "    #\n",
    "    # Equivalent to:\n",
    "    # datum = datum.setter(datum)\n",
    "    # Returns a copy of datum with C.datum.fset assigned the function below.\n",
    "    # C.datum.__set__ is a method wrapper of C.datum.fset.\n",
    "    @datum.setter\n",
    "    def datum(self, value):\n",
    "        print('You want to modify the value of datum')\n",
    "        self._datum = value\n",
    "    # Equivalent to:\n",
    "    # datum = datum.deleter(datum)\n",
    "    # Returns a copy of datum with C.datum.fdel assigned the function below.\n",
    "    # C.datum.__delete__ is a method wrapper of C.datum.fdel.\n",
    "    @datum.deleter\n",
    "    def datum(self):\n",
    "        print('You have decided to delete datum')\n",
    "        del self._datum\n",
    "\n",
    "I = C(3)\n",
    "I.datum\n",
    "I.datum = 4\n",
    "print()\n",
    "I.datum\n",
    "del I.datum"
   ]
  },
  {
   "cell_type": "code",
   "execution_count": null,
   "metadata": {
    "run_control": {
     "marked": true
    }
   },
   "outputs": [],
   "source": [
    "class D1:\n",
    "    def __init__(self, x):\n",
    "        self.x = x\n",
    "    def __get__(self, instance, cls):\n",
    "        return self.x\n",
    "    def __set__(self, instance, value):\n",
    "        self.x = value\n",
    "\n",
    "class D2:\n",
    "    def __init__(self, x):\n",
    "        self.x = x  \n",
    "    def __get__(self, instance, cls):\n",
    "        return self.x\n",
    "\n",
    "class C:\n",
    "    d11 = D1('d11 in descriptor')\n",
    "    d12 = D1('d12 in descriptor')\n",
    "    d13 = D1('d13 in descriptor')\n",
    "    d21 = D2('d21 in descriptor')\n",
    "    d22 = D2('d22 in descriptor')\n",
    "    d23 = D2('d23 in descriptor')\n",
    "    d31 = 'd31 in class'\n",
    "    d32 = 'd32 in class'\n",
    "    d33 = 'd33 in class'\n",
    "    def __str__(self):\n",
    "        return 'In class'\n",
    "    def __getattribute__(self, attribute):\n",
    "        return f'{attribute}!'\n",
    "    def __getattr__(self, attribute):\n",
    "        return f'{attribute}...'\n",
    "    def __init__(self):\n",
    "        self.__str__ = lambda self: 'In instance'\n",
    "        try:\n",
    "            self.__dict__['whatever'] = None\n",
    "        except TypeError as error:\n",
    "            print('Here is what happens:', error)\n",
    "        self.d13 = 'd13 not assigned to instance'\n",
    "        self.d23 = 'd23 not assigned to instance'\n",
    "        self.d33 = 'd33 not assigned to instance'\n",
    "    \n",
    "c = C(); print(c)\n",
    "c.__dict__\n",
    "c.d1\n",
    "c.d21\n",
    "c.d22\n",
    "c.d31\n",
    "c.d32\n",
    "c.whatever"
   ]
  },
  {
   "cell_type": "code",
   "execution_count": null,
   "metadata": {
    "run_control": {
     "marked": true
    }
   },
   "outputs": [],
   "source": [
    "class D1:\n",
    "    def __init__(self, x):\n",
    "        self.x = x\n",
    "    def __get__(self, instance, cls):\n",
    "        return self.x\n",
    "    def __set__(self, instance, value):\n",
    "        self.x = value\n",
    "\n",
    "class D2:\n",
    "    def __init__(self, x):\n",
    "        self.x = x  \n",
    "    def __get__(self, instance, cls):\n",
    "        return self.x\n",
    "\n",
    "class C:\n",
    "    d11 = D1('d11 in descriptor')\n",
    "    d12 = D1('d12 in descriptor')\n",
    "    d13 = D1('d13 in descriptor')\n",
    "    d21 = D2('d21 in descriptor')\n",
    "    d22 = D2('d22 in descriptor')\n",
    "    d23 = D2('d23 in descriptor')\n",
    "    d31 = 'd31 in class'\n",
    "    d32 = 'd32 in class'\n",
    "    d33 = 'd33 in class'\n",
    "    def __str__(self):\n",
    "        return 'In class'\n",
    "    def __getattr__(self, attribute):\n",
    "        return f'{attribute}...'\n",
    "    def __init__(self):\n",
    "        self.__str__ = lambda self: 'In instance'\n",
    "        self.__dict__['d12'] = \"d12 not assigned to instance's __dict__\"\n",
    "        self.__dict__['d22'] = \"d22 directly assigned to instance's __dict__\"\n",
    "        self.__dict__['d32'] = \"d32 directly assigned to instance's __dict__\"\n",
    "        self.d13 = 'd13 in descriptor via set'\n",
    "        self.d23 = \"d23 undirectly assigned to instance's __dict__\"\n",
    "        self.d33 = \"d33 undirectly assigned to instance's __dict__\"\n",
    "\n",
    "c = C(); print(c)\n",
    "c.__dict__\n",
    "c.d11\n",
    "c.d12\n",
    "c.d13\n",
    "c.d21\n",
    "c.d22\n",
    "c.d23\n",
    "c.d31\n",
    "c.d32\n",
    "c.d33\n",
    "c.whatever"
   ]
  }
 ],
 "metadata": {
  "kernelspec": {
   "display_name": "Python 3",
   "language": "python",
   "name": "python3"
  },
  "language_info": {
   "codemirror_mode": {
    "name": "ipython",
    "version": 3
   },
   "file_extension": ".py",
   "mimetype": "text/x-python",
   "name": "python",
   "nbconvert_exporter": "python",
   "pygments_lexer": "ipython3",
   "version": "3.6.4"
  }
 },
 "nbformat": 4,
 "nbformat_minor": 1
}
