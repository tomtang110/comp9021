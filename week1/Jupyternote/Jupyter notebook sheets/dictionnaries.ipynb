{
 "cells": [
  {
   "cell_type": "code",
   "execution_count": null,
   "metadata": {},
   "outputs": [],
   "source": [
    "# Does not need to be executed if ~/.ipython/profile_default/ipython_config.py exists and contains:\n",
    "# get_config().InteractiveShell.ast_node_interactivity = 'all'\n",
    "\n",
    "from IPython.core.interactiveshell import InteractiveShell\n",
    "InteractiveShell.ast_node_interactivity = 'all'"
   ]
  },
  {
   "cell_type": "markdown",
   "metadata": {},
   "source": [
    "<h1 align=\"center\">Dictionnaries</h1>"
   ]
  },
  {
   "cell_type": "code",
   "execution_count": 3,
   "metadata": {},
   "outputs": [],
   "source": [
    "dict.copy?"
   ]
  },
  {
   "cell_type": "code",
   "execution_count": null,
   "metadata": {
    "run_control": {
     "marked": true
    }
   },
   "outputs": [],
   "source": [
    "D1 = {'A': 0, 'B': 1, 'C': 2}\n",
    "D2 = dict([('A', 0), ['B', 1], ('C', 2)])\n",
    "D3 = dict((['A', 0], ('B', 1), ('C', 2)))\n",
    "D4 = dict(A = 0, B = 1, C = 2)\n",
    "D5 = D1.copy()\n",
    "\n",
    "D1 == D2 == D3 == D4 == D5"
   ]
  },
  {
   "cell_type": "code",
   "execution_count": null,
   "metadata": {},
   "outputs": [],
   "source": [
    "dict.fromkeys?"
   ]
  },
  {
   "cell_type": "code",
   "execution_count": null,
   "metadata": {
    "run_control": {
     "marked": true
    }
   },
   "outputs": [],
   "source": [
    "D1 = dict.fromkeys(['A', 'B', 'C'])\n",
    "D2 = dict.fromkeys({'A', 'B', 'C'}, 1)\n",
    "\n",
    "D1\n",
    "D2"
   ]
  },
  {
   "cell_type": "code",
   "execution_count": null,
   "metadata": {
    "run_control": {
     "marked": true
    }
   },
   "outputs": [],
   "source": [
    "D = {'A': 0, 'B': 1, 'C': 2}\n",
    "\n",
    "1 not in D\n",
    "'B' in D"
   ]
  },
  {
   "cell_type": "code",
   "execution_count": null,
   "metadata": {},
   "outputs": [],
   "source": [
    "len?"
   ]
  },
  {
   "cell_type": "code",
   "execution_count": null,
   "metadata": {
    "run_control": {
     "marked": true
    }
   },
   "outputs": [],
   "source": [
    "D = {'A': 0, 'B': 1, 'C': 2}\n",
    "\n",
    "len(D)"
   ]
  },
  {
   "cell_type": "code",
   "execution_count": null,
   "metadata": {},
   "outputs": [],
   "source": [
    "dict.setdefault?"
   ]
  },
  {
   "cell_type": "code",
   "execution_count": null,
   "metadata": {
    "run_control": {
     "marked": true
    }
   },
   "outputs": [],
   "source": [
    "D = {}\n",
    "D['A'] = 0\n",
    "\n",
    "D\n",
    "D.setdefault('B') is None\n",
    "D\n",
    "D.setdefault('B', 1) is None\n",
    "D\n",
    "D['B'] = 1; D\n",
    "D.setdefault('C', 2)\n",
    "D"
   ]
  },
  {
   "cell_type": "code",
   "execution_count": null,
   "metadata": {},
   "outputs": [],
   "source": [
    "dict.update?"
   ]
  },
  {
   "cell_type": "code",
   "execution_count": null,
   "metadata": {
    "run_control": {
     "marked": true
    }
   },
   "outputs": [],
   "source": [
    "D = {}\n",
    "\n",
    "D.update({'A': 1, 'B': 0}); D\n",
    "D.update({'A': 0, 'B': 1}); D\n",
    "D.update((('C', 3), ('D', 2))); D\n",
    "D.update((('C', 2), ('D', 3))); D\n",
    "D.update({'E': 5, 'F': 4}, G = 7, H = 6); D\n",
    "D.update([['E', 4], ['F', 5]], G = 6, H = 7); D\n",
    "D.update(F = 0, G = 0, H = 0); D"
   ]
  },
  {
   "cell_type": "code",
   "execution_count": null,
   "metadata": {},
   "outputs": [],
   "source": [
    "dict.clear?"
   ]
  },
  {
   "cell_type": "code",
   "execution_count": null,
   "metadata": {
    "run_control": {
     "marked": true
    }
   },
   "outputs": [],
   "source": [
    "D = {'A': 0, 'B': 1, 'C': 2}\n",
    "D.clear()\n",
    "\n",
    "D"
   ]
  },
  {
   "cell_type": "code",
   "execution_count": null,
   "metadata": {},
   "outputs": [],
   "source": [
    "dict.pop?"
   ]
  },
  {
   "cell_type": "code",
   "execution_count": null,
   "metadata": {
    "run_control": {
     "marked": true
    }
   },
   "outputs": [],
   "source": [
    "D = {'A': 0, 'B': 1, 'C': 2, 'D': 3, 'E': 4, 'F': 5}\n",
    "\n",
    "D.pop('C')\n",
    "D\n",
    "D.pop('F', -1)\n",
    "D\n",
    "D.pop('F', -1)\n",
    "D\n",
    "try:\n",
    "    D.pop('H')\n",
    "except KeyError as e:\n",
    "    print('Raises KeyError:', e)"
   ]
  },
  {
   "cell_type": "code",
   "execution_count": null,
   "metadata": {},
   "outputs": [],
   "source": [
    "dict.popitem?"
   ]
  },
  {
   "cell_type": "code",
   "execution_count": null,
   "metadata": {
    "run_control": {
     "marked": true
    }
   },
   "outputs": [],
   "source": [
    "D = {'A': 0, 'B': 1}\n",
    "\n",
    "D.popitem()\n",
    "D\n",
    "D.popitem()\n",
    "D\n",
    "try:\n",
    "    D.popitem()\n",
    "except KeyError as e:\n",
    "    print('Raises KeyError:', e)"
   ]
  },
  {
   "cell_type": "code",
   "execution_count": null,
   "metadata": {},
   "outputs": [],
   "source": [
    "dict.get?"
   ]
  },
  {
   "cell_type": "code",
   "execution_count": null,
   "metadata": {
    "run_control": {
     "marked": true
    }
   },
   "outputs": [],
   "source": [
    "D = {'A': 0, 'B': 1, 'C': 2, 'D': 3, 'E': 4, 'F': 5}\n",
    "\n",
    "D['C']\n",
    "D.get('F')\n",
    "D.get('G') is None\n",
    "D.get('G', -1)"
   ]
  },
  {
   "cell_type": "code",
   "execution_count": null,
   "metadata": {},
   "outputs": [],
   "source": [
    "dict.keys?"
   ]
  },
  {
   "cell_type": "code",
   "execution_count": null,
   "metadata": {
    "run_control": {
     "marked": true
    }
   },
   "outputs": [],
   "source": [
    "D = {'A': 0, 'B': 1, 'C': 2, 'D': 3, 'E': 4, 'F': 5}\n",
    "\n",
    "D.keys()"
   ]
  },
  {
   "cell_type": "code",
   "execution_count": null,
   "metadata": {},
   "outputs": [],
   "source": [
    "dict.values?"
   ]
  },
  {
   "cell_type": "code",
   "execution_count": null,
   "metadata": {
    "run_control": {
     "marked": true
    }
   },
   "outputs": [],
   "source": [
    "D = {'A': 0, 'B': 1, 'C': 2, 'D': 3, 'E': 4, 'F': 5}\n",
    "\n",
    "D.values()"
   ]
  },
  {
   "cell_type": "code",
   "execution_count": null,
   "metadata": {},
   "outputs": [],
   "source": [
    "dict.items?"
   ]
  },
  {
   "cell_type": "code",
   "execution_count": null,
   "metadata": {
    "run_control": {
     "marked": true
    }
   },
   "outputs": [],
   "source": [
    "D = {'A': 0, 'B': 1, 'C': 2, 'D': 3, 'E': 4, 'F': 5}\n",
    "\n",
    "D.items()"
   ]
  },
  {
   "cell_type": "code",
   "execution_count": null,
   "metadata": {
    "run_control": {
     "marked": true
    }
   },
   "outputs": [],
   "source": [
    "D = {'A': 0, 'B': 1}\n",
    "\n",
    "del D['B']\n",
    "D\n",
    "try:\n",
    "    del D['B']\n",
    "except KeyError as e:\n",
    "    print('Raises KeyError:', e)"
   ]
  },
  {
   "cell_type": "code",
   "execution_count": null,
   "metadata": {
    "run_control": {
     "marked": true
    }
   },
   "outputs": [],
   "source": [
    "D1 = {'a': 1, 'b': 2, 'c': 3}\n",
    "D2 = {'b': 2, 'c': 30, 'd': 4}\n",
    "\n",
    "D1.keys() & D2.keys()\n",
    "D1.items() & D2.items()\n",
    "D1.keys() | D2.keys()\n",
    "D1.items() | D2.items()\n",
    "D1.keys() - D2.keys()\n",
    "D1.items() - D2.items()"
   ]
  }
 ],
 "metadata": {
  "kernelspec": {
   "display_name": "Python 3",
   "language": "python",
   "name": "python3"
  },
  "language_info": {
   "codemirror_mode": {
    "name": "ipython",
    "version": 3
   },
   "file_extension": ".py",
   "mimetype": "text/x-python",
   "name": "python",
   "nbconvert_exporter": "python",
   "pygments_lexer": "ipython3",
   "version": "3.6.4"
  }
 },
 "nbformat": 4,
 "nbformat_minor": 1
}
