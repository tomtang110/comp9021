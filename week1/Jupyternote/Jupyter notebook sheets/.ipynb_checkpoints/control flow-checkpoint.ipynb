{
 "cells": [
  {
   "cell_type": "markdown",
   "metadata": {},
   "source": [
    "<h1 align=\"center\">Control flow</h1>"
   ]
  },
  {
   "cell_type": "code",
   "execution_count": 2,
   "metadata": {
    "init_cell": true
   },
   "outputs": [],
   "source": [
    "from random import randrange"
   ]
  },
  {
   "cell_type": "code",
   "execution_count": 3,
   "metadata": {
    "run_control": {
     "marked": true
    }
   },
   "outputs": [
    {
     "name": "stdout",
     "output_type": "stream",
     "text": [
      "Generated number: 28\n",
      "\tUnless it is a single digit, will determine what it is equal to modulo 4\n",
      "\tDivisible by four\n",
      "Generated number: 41\n",
      "\tUnless it is a single digit, will determine what it is equal to modulo 4\n",
      "\tEqual to one modulo four\n",
      "Generated number: 0\n",
      "\tUnless it is a single digit, will determine what it is equal to modulo 4\n",
      "Generated number: 55\n"
     ]
    }
   ],
   "source": [
    "for _ in range(7):\n",
    "    generated_number = randrange(-10, 60)\n",
    "    print(f'Generated number: {generated_number}')\n",
    "    if generated_number < 0:\n",
    "        continue\n",
    "    if generated_number >= 50:\n",
    "        break\n",
    "    print('\\tUnless it is a single digit, will determine what it is equal to modulo 4')\n",
    "    if generated_number < 10:\n",
    "        pass\n",
    "    elif generated_number % 4 == 1:\n",
    "        print('\\tEqual to one modulo four')\n",
    "    elif generated_number % 4 == 2:\n",
    "        print('\\tEqual to two modulo four')\n",
    "    elif generated_number % 4 == 3:\n",
    "        print('\\tEqual to three modulo four')\n",
    "    else:\n",
    "        print('\\tDivisible by four')\n",
    "else:\n",
    "    print('No number greater than 49 has been generated')"
   ]
  },
  {
   "cell_type": "code",
   "execution_count": null,
   "metadata": {
    "run_control": {
     "marked": true
    }
   },
   "outputs": [],
   "source": [
    "count_down = 7\n",
    "while count_down:\n",
    "    count_down -= 1\n",
    "    generated_number = randrange(-10, 60)\n",
    "    print(f'Generated number: {generated_number}')\n",
    "    if generated_number < 0:\n",
    "        continue\n",
    "    if generated_number >= 50:\n",
    "        break\n",
    "    print('\\tUnless it is a single digit, will determine what it is equal to modulo 4')\n",
    "    if generated_number < 10:\n",
    "        pass\n",
    "    elif generated_number % 4 == 1:\n",
    "        print('\\tEqual to one modulo four')\n",
    "    elif generated_number % 4 == 2:\n",
    "        print('\\tEqual to two modulo four')\n",
    "    elif generated_number % 4 == 3:\n",
    "        print('\\tEqual to three modulo four')\n",
    "    else:\n",
    "        print('\\tDivisible by four')\n",
    "else:\n",
    "    print('No number greater than 49 has been generated')"
   ]
  },
  {
   "cell_type": "code",
   "execution_count": null,
   "metadata": {
    "run_control": {
     "marked": true
    }
   },
   "outputs": [],
   "source": [
    "for x in range(5):\n",
    "    for y in range(5, 0, -1):\n",
    "        print(x, y, end = '\\t') if x > y else print(y, x, end = '\\t')\n",
    "    print()"
   ]
  },
  {
   "cell_type": "code",
   "execution_count": null,
   "metadata": {
    "code_folding": [],
    "run_control": {
     "marked": true
    }
   },
   "outputs": [],
   "source": [
    "for x, y in zip((range(5)), (range(5, 0, -1))):\n",
    "    print(x, y, end = '\\t') if x > y else print(y, x, end = '\\t')"
   ]
  }
 ],
 "metadata": {
  "kernelspec": {
   "display_name": "Python 3",
   "language": "python",
   "name": "python3"
  },
  "language_info": {
   "codemirror_mode": {
    "name": "ipython",
    "version": 3
   },
   "file_extension": ".py",
   "mimetype": "text/x-python",
   "name": "python",
   "nbconvert_exporter": "python",
   "pygments_lexer": "ipython3",
   "version": "3.6.3"
  }
 },
 "nbformat": 4,
 "nbformat_minor": 1
}
