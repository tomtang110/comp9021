{
 "cells": [
  {
   "cell_type": "code",
   "execution_count": 1,
   "metadata": {},
   "outputs": [
    {
     "name": "stdout",
     "output_type": "stream",
     "text": [
      "how many times do you want to run the simulations?abc\n"
     ]
    },
    {
     "data": {
      "text/plain": [
       "'abc'"
      ]
     },
     "execution_count": 1,
     "metadata": {},
     "output_type": "execute_result"
    }
   ],
   "source": [
    "nb_of_times=input('how many times do you want to run the simulations?')\n",
    "nb_of_times"
   ]
  },
  {
   "cell_type": "code",
   "execution_count": 4,
   "metadata": {},
   "outputs": [
    {
     "name": "stdout",
     "output_type": "stream",
     "text": [
      "how many times do you want to run the simulations?adv\n",
      "how many times do you want to run the simulations?234\n",
      "234\n"
     ]
    }
   ],
   "source": [
    "correct_input=False\n",
    "while not correct_input:\n",
    "    nb_of_times=input('how many times do you want to run the simulations?')\n",
    "    if nb_of_times.isdigit():\n",
    "        nb_of_times=int(nb_of_times)\n",
    "        correct_input=True\n",
    "        print(nb_of_times)\n",
    "    "
   ]
  },
  {
   "cell_type": "code",
   "execution_count": 7,
   "metadata": {},
   "outputs": [
    {
     "name": "stdout",
     "output_type": "stream",
     "text": [
      "Help on method_descriptor:\n",
      "\n",
      "isalnum(...)\n",
      "    S.isalnum() -> bool\n",
      "    \n",
      "    Return True if all characters in S are alphanumeric\n",
      "    and there is at least one character in S, False otherwise.\n",
      "\n"
     ]
    }
   ],
   "source": [
    "help(str.isalnum)\n"
   ]
  },
  {
   "cell_type": "code",
   "execution_count": 16,
   "metadata": {},
   "outputs": [
    {
     "data": {
      "text/plain": [
       "['A', 'B', 'E', 'D']"
      ]
     },
     "execution_count": 16,
     "metadata": {},
     "output_type": "execute_result"
    }
   ],
   "source": [
    "x=['A','B','C']\n",
    "y=('A','B','C')\n",
    "z={'A','B','C'}\n",
    "(x[0],y[2])\n",
    "x.append('D')\n",
    "x\n",
    "x[2]='E'\n",
    "x"
   ]
  },
  {
   "cell_type": "code",
   "execution_count": 24,
   "metadata": {},
   "outputs": [
    {
     "name": "stdout",
     "output_type": "stream",
     "text": [
      "how many times do you want to run the simulations?1\n",
      "1\n",
      "Want to swithch?n\n"
     ]
    },
    {
     "data": {
      "text/plain": [
       "'B'"
      ]
     },
     "execution_count": 24,
     "metadata": {},
     "output_type": "execute_result"
    }
   ],
   "source": [
    "from random import choice\n",
    "while True:\n",
    "    try:\n",
    "        nb_of_times=int(input('how many times do you want to run the simulations?'))\n",
    "        print(nb_of_times)\n",
    "        break\n",
    "    except ValueError:\n",
    "        print('Incorrect input, try again')\n",
    "while True:\n",
    "    switches=input('Want to swithch?')\n",
    "    if switches.lower() in {'yes','y'}:\n",
    "        switches=True\n",
    "        break\n",
    "    elif switches.upper() in {'NO','N'}:\n",
    "        switches=False\n",
    "        break\n",
    "    else:\n",
    "        print('Wrong input, try again!')\n",
    "nb_of_wins=0\n",
    "\n",
    "doors=['A','B','C']\n",
    "winning_door=choice(doors)\n",
    "first_choice=choice(doors)\n",
    "doors.remove(first_choice)\n",
    "if not switches:\n",
    "        second_choice= first_choice\n",
    "\n",
    "if winning_door == first_choice:\n",
    "    opened_door = choice(doors)\n",
    "    doors.remove(opened_door)\n",
    "    if switches:\n",
    "        second_choice=doors[0]\n",
    "    else:\n",
    "        nb_of_wins += 1\n",
    "            \n",
    "else:\n",
    "    doors.remove(winning_door)\n",
    "    opened_door=doors[0]\n",
    "    \n",
    "    if switches:\n",
    "        second_choice=doors[0]\n",
    "    else:\n",
    "        nb_of_wins += 1\n",
    "print(f'{nb_of_wins/nb_of_times*100:.2f}')\n",
    "\n",
    "\n",
    "\n",
    "    "
   ]
  },
  {
   "cell_type": "code",
   "execution_count": null,
   "metadata": {},
   "outputs": [],
   "source": []
  }
 ],
 "metadata": {
  "kernelspec": {
   "display_name": "Python 3",
   "language": "python",
   "name": "python3"
  },
  "language_info": {
   "codemirror_mode": {
    "name": "ipython",
    "version": 3
   },
   "file_extension": ".py",
   "mimetype": "text/x-python",
   "name": "python",
   "nbconvert_exporter": "python",
   "pygments_lexer": "ipython3",
   "version": "3.6.3"
  }
 },
 "nbformat": 4,
 "nbformat_minor": 2
}
