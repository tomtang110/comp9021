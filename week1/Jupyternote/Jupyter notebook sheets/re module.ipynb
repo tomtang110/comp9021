{
 "cells": [
  {
   "cell_type": "code",
   "execution_count": null,
   "metadata": {},
   "outputs": [],
   "source": [
    "# Does not need to be executed if ~/.ipython/profile_default/ipython_config.py exists and contains:\n",
    "# get_config().InteractiveShell.ast_node_interactivity = 'all'\n",
    "\n",
    "from IPython.core.interactiveshell import InteractiveShell\n",
    "InteractiveShell.ast_node_interactivity = 'all'"
   ]
  },
  {
   "cell_type": "markdown",
   "metadata": {},
   "source": [
    "<h1 align=\"center\">Re module</h1>"
   ]
  },
  {
   "cell_type": "code",
   "execution_count": null,
   "metadata": {
    "init_cell": true
   },
   "outputs": [],
   "source": [
    "import re"
   ]
  },
  {
   "cell_type": "markdown",
   "metadata": {},
   "source": [
    "## Syntax of regular expressions"
   ]
  },
  {
   "cell_type": "code",
   "execution_count": null,
   "metadata": {
    "run_control": {
     "marked": true
    }
   },
   "outputs": [],
   "source": [
    "# DOTALL == 16\n",
    "re.search('.', 'c') is not None and\\\n",
    "    re.search('.', 'D') is not None and\\\n",
    "    re.search('.', '_') is not None and\\\n",
    "    re.search('.', '5') is not None and\\\n",
    "    re.search('.', ' ') is not None and\\\n",
    "    re.search('.', '@') is not None and\\\n",
    "    re.search('.', '\\n') is None and\\\n",
    "    re.search('.', '\\n', re.DOTALL) is not None\n",
    "# w for \"word\"\n",
    "re.search('\\w', 'c') is not None and\\\n",
    "    re.search('\\w', 'D') is not None and\\\n",
    "    re.search('\\w', '_') is not None and\\\n",
    "    re.search('\\w', '5') is not None and\\\n",
    "    re.search('\\w', ' ') is None and\\\n",
    "    re.search('\\w', '@') is None and\\\n",
    "    re.search('\\w', '\\n') is None\n",
    "re.search('\\W', 'c') is None and\\\n",
    "    re.search('\\W', 'D') is None and\\\n",
    "    re.search('\\W', '_') is None and\\\n",
    "    re.search('\\W', '5') is None and\\\n",
    "    re.search('\\W', ' ') is not None and\\\n",
    "    re.search('\\W', '@') is not None and\\\n",
    "    re.search('\\W', '\\n') is not None\n",
    "# d for \"digit\"\n",
    "re.search('\\d', 'c') is None and\\\n",
    "    re.search('\\d', 'D') is None and\\\n",
    "    re.search('\\d', '_') is None and\\\n",
    "    re.search('\\d', '5') is not None and\\\n",
    "    re.search('\\d', ' ') is None and\\\n",
    "    re.search('\\d', '@') is None and\\\n",
    "    re.search('\\d', '\\n') is None\n",
    "re.search('\\D', 'c') is not None and\\\n",
    "    re.search('\\D', 'D') is not None and\\\n",
    "    re.search('\\D', '_') is not None and\\\n",
    "    re.search('\\D', '5') is None and\\\n",
    "    re.search('\\D', ' ') is not None and\\\n",
    "    re.search('\\D', '@') is not None and\\\n",
    "    re.search('\\D', '\\n') is not None\n",
    "# s for \"space\"\n",
    "re.search('\\s', 'c') is None and\\\n",
    "    re.search('\\s', 'D') is None and\\\n",
    "    re.search('\\s', '_') is None and\\\n",
    "    re.search('\\s', '5') is None and\\\n",
    "    re.search('\\s', ' ') is not None and\\\n",
    "    re.search('\\s', '@') is None and\\\n",
    "    re.search('\\s', '\\n') is not None\n",
    "re.search('\\S', 'c') is not None and\\\n",
    "    re.search('\\S', 'D') is not None and\\\n",
    "    re.search('\\S', '_') is not None and\\\n",
    "    re.search('\\S', '5') is not None and\\\n",
    "    re.search('\\S', ' ') is None and\\\n",
    "    re.search('\\S', '@') is not None and\\\n",
    "    re.search('\\S', '\\n') is None"
   ]
  },
  {
   "cell_type": "code",
   "execution_count": null,
   "metadata": {
    "run_control": {
     "marked": true
    }
   },
   "outputs": [],
   "source": [
    "# Character classes\n",
    "re.search('[2-5d-h[\\]^]', '3') is not None and\\\n",
    "    re.search('[2-5d-h[\\]^]', 'e') is not None and\\\n",
    "    re.search('[\\^2-5d-h[\\]]', '[') is not None and\\\n",
    "    re.search('[\\^2-5d-h[\\]]', ']') is not None and\\\n",
    "    re.search('[\\^2-5d-h[\\]]', '^') is not None\n",
    "re.search('[2-5d-h^]', '6') is None and\\\n",
    "    re.search('[\\^2-5d-h]', 'c') is None\n",
    "re.search('[^^2-5d-h[\\]]', '3') is None and\\\n",
    "    re.search('[^^2-5d-h[\\]]', 'e') is None and\\\n",
    "    re.search('[^^2-5d-h[\\]]', '[') is None and\\\n",
    "    re.search('[^^2-5d-h[\\]]', ']') is None and\\\n",
    "    re.search('[^^2-5d-h[\\]]', '^') is None\n",
    "re.search('[^^2-5d-h[\\]]', '6') is not None and\\\n",
    "    re.search('[^^2-5d-h[\\]]', 'c') is not None"
   ]
  },
  {
   "cell_type": "code",
   "execution_count": null,
   "metadata": {
    "run_control": {
     "marked": true
    }
   },
   "outputs": [],
   "source": [
    "re.escape?\n",
    "\n",
    "re.search(re.escape('[^ab](*'), '0[^ab](*A') is not None"
   ]
  },
  {
   "cell_type": "code",
   "execution_count": null,
   "metadata": {
    "run_control": {
     "marked": true
    }
   },
   "outputs": [],
   "source": [
    "# Alternation\n",
    "re.search('123|abc|\\|@', '123') is not None and\\\n",
    "    re.search('123|abc|\\|@', 'abc') is not None and\\\n",
    "    re.search('123|abc|\\|\\\\\\\\@', '|\\@') is not None and\\\n",
    "    re.search(r'123|abc|\\|\\\\@', '|\\@') is not None "
   ]
  },
  {
   "cell_type": "code",
   "execution_count": null,
   "metadata": {
    "run_control": {
     "marked": true
    }
   },
   "outputs": [],
   "source": [
    "# Quantifiers\n",
    "re.search('a?', '') is not None and\\\n",
    "    re.search('a?', 'a') is not None\n",
    "re.search('a*', '') is not None and\\\n",
    "    re.search('a*', 'a') is not None and\\\n",
    "    re.search('a*', 'aa') is not None and\\\n",
    "    re.search('a*', 'aaa') is not None\n",
    "re.search('a+', 'a') is not None and\\\n",
    "    re.search('a+', 'aa') is not None and\\\n",
    "    re.search('a+', 'aaa') is not None\n",
    "re.search('a{3}', 'aaa') is not None\n",
    "# No space before or after the comma!\n",
    "re.search('a{2,4}', 'aa') is not None and\\\n",
    "    re.search('a{2,4}', 'aaa') is not None and\\\n",
    "    re.search('a{2,4}', 'aaaa') is not None\n",
    "re.search('a{,3}', '') is not None and\\\n",
    "    re.search('a{,3}', 'a') is not None and\\\n",
    "    re.search('a{,3}', 'aa') is not None and\\\n",
    "    re.search('a{,3}', 'aaa') is not None\n",
    "re.search('a{3,}', 'aaa') is not None and\\\n",
    "    re.search('a{3,}', 'aaaa') is not None and\\\n",
    "    re.search('a{3,}', 'aaaaa') is not None"
   ]
  },
  {
   "cell_type": "code",
   "execution_count": null,
   "metadata": {
    "run_control": {
     "marked": true
    }
   },
   "outputs": [],
   "source": [
    "# Quantifiers: (by default) greedy versus reluctant\n",
    "re.search('a?', 'aaaa'), re.search('a??', 'aaaa')\n",
    "re.search('a*', 'aaaaa'), re.search('a*?', 'aaaaa')\n",
    "re.search('a+', 'aaaaa'), re.search('a+?', 'aaaaa')\n",
    "re.search('a{2,3}', 'aaaaa'), re.search('a{2,3}?', 'aaaaa')\n",
    "re.search('a{2,}', 'aaaaa'), re.search('a{2,}?', 'aaaaa')"
   ]
  },
  {
   "cell_type": "code",
   "execution_count": null,
   "metadata": {
    "run_control": {
     "marked": true
    }
   },
   "outputs": [],
   "source": [
    "# Alternatively, replace MULTILINE by M\n",
    "# MULTILINE == M == 8\n",
    "re.search(r'\\bab', ' ab') is not None and re.search(r'ab\\b', 'ab!') is not None\n",
    "re.search('\\Bab', '_ab') is not None and re.search('ab\\B', 'ab2') is not None\n",
    "re.search('^ab', 'abc') is not None and\\\n",
    "    re.search('^ab', 'cab') is None and\\\n",
    "    re.search('^ab', 'c\\nab') is None and\\\n",
    "    re.search('^ab', 'c\\nab', re.MULTILINE) is not None\n",
    "re.search('ab$', 'cab') is not None and\\\n",
    "    re.search('ab$', 'abc') is None and\\\n",
    "    re.search('ab$', 'ab\\nc') is None and\\\n",
    "    re.search('ab$', 'ab\\nc', re.MULTILINE) is not None\n",
    "re.search('\\Aab', 'abc') is not None and\\\n",
    "    re.search('\\Aab', 'cab') is None and\\\n",
    "    re.search('\\Aab', 'c\\nab') is None\n",
    "re.search('ab\\Z', 'cab') is not None and\\\n",
    "    re.search('ab\\Z', 'abc') is None and\\\n",
    "    re.search('ab\\Z', 'ab\\nc') is None"
   ]
  },
  {
   "cell_type": "code",
   "execution_count": null,
   "metadata": {
    "run_control": {
     "marked": true
    }
   },
   "outputs": [],
   "source": [
    "# Alternatively, replace IGNORECASE by I, ASCII by A\n",
    "# IGNORECASE == I == 2\n",
    "# ASCII == A == 256\n",
    "re.search('aBcD', 'AbcD') is None and re.search('aBcD', 'AbcD', re.IGNORECASE) is not None\n",
    "re.search('\\w', 'î') is not None and re.search('\\w', 'î', re.ASCII) is None\n",
    "re.search(r'\\bab', 'éab') is None and re.search(r'\\bab', 'éab', re.ASCII) is not None\n",
    "re.search('ab\\B', 'abü') is not None and re.search('ab\\B', 'abü', re.ASCII) is None\n",
    "re.search(r'\\beF', 'àEf', re.IGNORECASE + re.ASCII) is not None"
   ]
  },
  {
   "cell_type": "code",
   "execution_count": null,
   "metadata": {
    "run_control": {
     "marked": true
    }
   },
   "outputs": [],
   "source": [
    "re.search(r'(\\w+) (\\w+) \\1 (\\w+) \\1 \\3', 'abc def abc ghi abc ghi') is not None\n",
    "re.search(r'(\\d)\\1(2)', '332') is not None\n",
    "# Capturing and noncapturing parentheses\n",
    "re.search(r'(?:\\w+) (\\w+) \\1 (\\w+) (?:\\w+) (\\w+) \\3 \\2', 'abc def def ghi jkl mno mno ghi') is not None"
   ]
  },
  {
   "cell_type": "code",
   "execution_count": null,
   "metadata": {
    "run_control": {
     "marked": true
    }
   },
   "outputs": [],
   "source": [
    "# If group (here, 2) matches then match this, (optionally) else match that\n",
    "re.search('_(abc)(\\d{3})?(?(2)aaa)', '_abc345aaa') is not None and\\\n",
    "    re.search('_(abc)(\\d{3})?(?(2)aaa|BBB)', '_abc345aaa') is not None and\\\n",
    "    re.search('_(abc)(\\d{3})?(?(2)aaa|BBB)', '_abcBBB') is not None\n",
    "re.search('_(abc)(?P<word_2>\\d{3})?(?(word_2)aaa)', '_abc345aaa') is not None and\\\n",
    "    re.search('_(abc)(?P<word_2>\\d{3})?(?(word_2)aaa|BBB)', '_abc345aaa') is not None and\\\n",
    "    re.search('_(abc)(?P<word_2>\\d{3})?(?(word_2)aaa|BBB)', '_abcBBB') is not None"
   ]
  },
  {
   "cell_type": "code",
   "execution_count": null,
   "metadata": {
    "run_control": {
     "marked": true
    }
   },
   "outputs": [],
   "source": [
    "# Alternatively, replace VERBOSE by X\n",
    "# VERBOSE == X == 64\n",
    "re.search('''\n",
    "          \\d{3}   # Comments\n",
    "          ( |-)   # and spaces\n",
    "          [a-z]   # are ignored\n",
    "          ''', '845-f', re.VERBOSE)"
   ]
  },
  {
   "cell_type": "code",
   "execution_count": null,
   "metadata": {
    "run_control": {
     "marked": true
    }
   },
   "outputs": [],
   "source": [
    "# DEBUG == 128\n",
    "re.compile('\\d{3}( |-)[a-z]', re.DEBUG)"
   ]
  },
  {
   "cell_type": "markdown",
   "metadata": {},
   "source": [
    "## Functions"
   ]
  },
  {
   "cell_type": "markdown",
   "metadata": {},
   "source": [
    "All occurrences of f(pattern, ...) below can be replaced by compile(pattern).f(...)\n",
    "\n",
    "No occurrence of compile(pattern).f(...) below can be replaced by f(pattern, ...)"
   ]
  },
  {
   "cell_type": "markdown",
   "metadata": {},
   "source": [
    "### Functions that return a Match object"
   ]
  },
  {
   "cell_type": "code",
   "execution_count": null,
   "metadata": {
    "run_control": {
     "marked": true
    }
   },
   "outputs": [],
   "source": [
    "re.search?\n",
    "\n",
    "re.search('cd', 'abcde')\n",
    "re.compile('cd').search('abcde', 2)\n",
    "re.compile('cd').search('abcde', 3) is None\n",
    "re.compile('cd').search('abcde', 2, 5)\n",
    "re.compile('cd').search('abcde', 2, 3) is None"
   ]
  },
  {
   "cell_type": "code",
   "execution_count": null,
   "metadata": {
    "run_control": {
     "marked": true
    }
   },
   "outputs": [],
   "source": [
    "re.match?\n",
    "\n",
    "re.match('cd', 'cde')\n",
    "re.match('cd', 'abcde') is None\n",
    "re.compile('cd').match('abcde', 2)\n",
    "re.compile('cd').match('abcde', 3) is None\n",
    "re.compile('cd').match('abcde', 2, 5)\n",
    "re.compile('cd').match('abcde', 2, 3) is None"
   ]
  },
  {
   "cell_type": "code",
   "execution_count": null,
   "metadata": {
    "run_control": {
     "marked": true
    }
   },
   "outputs": [],
   "source": [
    "re.fullmatch?\n",
    "\n",
    "re.fullmatch('cd', 'cde') is None\n",
    "re.fullmatch('cde', 'cde')"
   ]
  },
  {
   "cell_type": "code",
   "execution_count": null,
   "metadata": {
    "run_control": {
     "marked": true
    }
   },
   "outputs": [],
   "source": [
    "re.findall?\n",
    "\n",
    "re.findall('.', 'abcdef')\n",
    "re.compile('.').findall('abcdef', 2)\n",
    "re.compile('.').findall('abcdef', 2, 5)"
   ]
  },
  {
   "cell_type": "code",
   "execution_count": null,
   "metadata": {
    "run_control": {
     "marked": true
    }
   },
   "outputs": [],
   "source": [
    "re.finditer?\n",
    "\n",
    "matches_1 = re.finditer('.', 'abcdef')\n",
    "matches_2 = re.compile('.').finditer('abcdef', 2)\n",
    "matches_3 = re.compile('.').finditer('abcdef', 2, 5)\n",
    "\n",
    "for match in matches_1:\n",
    "    print(match)\n",
    "print()\n",
    "for match in matches_2:\n",
    "    print(match)\n",
    "print()\n",
    "for match in matches_3:\n",
    "    print(match)"
   ]
  },
  {
   "cell_type": "markdown",
   "metadata": {},
   "source": [
    "### Functions applied to a Match object"
   ]
  },
  {
   "cell_type": "code",
   "execution_count": null,
   "metadata": {
    "run_control": {
     "marked": true
    }
   },
   "outputs": [],
   "source": [
    "x = re.search('', '')\n",
    "x.group?\n",
    "\n",
    "re.search('\\w+ (\\w+) (\\w+ (\\w+))', 'ab cd ef gh ij').group()\n",
    "re.search('\\w+ (\\w+) (\\w+ (\\w+))', 'ab cd ef gh ij').group(0)\n",
    "re.search('\\w+ (\\w+) (\\w+ (\\w+))', 'ab cd ef gh ij').group(1)\n",
    "re.search('\\w+ (\\w+) (\\w+ (\\w+))', 'ab cd ef gh ij').group(2)\n",
    "re.search('\\w+ (\\w+) (\\w+ (\\w+))', 'ab cd ef gh ij').group(3)\n",
    "re.search('\\w+ (\\w+) (\\w+ (\\w+))', 'ab cd ef gh ij').group(1, 3)\n",
    "re.search('\\w+ (\\w+) (\\w+ (\\w+))', 'ab cd ef gh ij').group(0, 2, 1)\n",
    "re.search('\\w+ (?P<word_1>\\w+) (?P<word_2>\\w+ (?P<word_3>\\w+))', 'ab cd ef gh ij').group('word_2')\n",
    "re.search('\\w+ (?P<word_1>\\w+) (?P<word_2>\\w+ (?P<word_3>\\w+))', 'ab cd ef gh ij').group('word_1', 'word_3')"
   ]
  },
  {
   "cell_type": "code",
   "execution_count": null,
   "metadata": {
    "run_control": {
     "marked": true
    }
   },
   "outputs": [],
   "source": [
    "x = re.search('', '')\n",
    "x.groups?\n",
    "\n",
    "re.search('\\w+ (\\w+) (\\w+ (\\w+))', 'ab cd ef gh ij').groups()"
   ]
  },
  {
   "cell_type": "code",
   "execution_count": null,
   "metadata": {
    "run_control": {
     "marked": true
    }
   },
   "outputs": [],
   "source": [
    "x = re.search('', '')\n",
    "x.groupdict?\n",
    "\n",
    "re.search('\\w+ (?P<word_1>\\w+) (?P<word_2>\\w+ (?P<word_3>\\w+))', 'ab cd ef gh ij').groupdict()"
   ]
  },
  {
   "cell_type": "code",
   "execution_count": null,
   "metadata": {
    "run_control": {
     "marked": true
    }
   },
   "outputs": [],
   "source": [
    "x = re.search('', '')\n",
    "x.start?\n",
    "\n",
    "re.search('\\w+ (\\w+) (\\w+ (\\w+))', 'ab cd ef gh ij').start()\n",
    "re.search('\\w+ (\\w+) (\\w+ (\\w+))', 'ab cd ef gh ij').start(0)\n",
    "re.search('\\w+ (\\w+) (\\w+ (\\w+))', 'ab cd ef gh ij').start(1)\n",
    "re.search('\\w+ (\\w+) (\\w+ (\\w+))', 'ab cd ef gh ij').start(2)"
   ]
  },
  {
   "cell_type": "code",
   "execution_count": null,
   "metadata": {
    "run_control": {
     "marked": true
    }
   },
   "outputs": [],
   "source": [
    "x = re.search('', '')\n",
    "x.end?\n",
    "\n",
    "re.search('\\w+ (\\w+) (\\w+ (\\w+))', 'ab cd ef gh ij').end()\n",
    "re.search('\\w+ (\\w+) (\\w+ (\\w+))', 'ab cd ef gh ij').end(0)\n",
    "re.search('\\w+ (\\w+) (\\w+ (\\w+))', 'ab cd ef gh ij').end(1)\n",
    "re.search('\\w+ (\\w+) (\\w+ (\\w+))', 'ab cd ef gh ij').end(2)"
   ]
  },
  {
   "cell_type": "code",
   "execution_count": null,
   "metadata": {
    "run_control": {
     "marked": true
    }
   },
   "outputs": [],
   "source": [
    "x = re.search('', '')\n",
    "x.span?\n",
    "\n",
    "re.search('\\w+ (\\w+) (\\w+ (\\w+))', 'ab cd ef gh ij').span()\n",
    "re.search('\\w+ (\\w+) (\\w+ (\\w+))', 'ab cd ef gh ij').span(0)\n",
    "re.search('\\w+ (\\w+) (\\w+ (\\w+))', 'ab cd ef gh ij').span(1)\n",
    "re.search('\\w+ (\\w+) (\\w+ (\\w+))', 'ab cd ef gh ij').span(2)"
   ]
  },
  {
   "cell_type": "markdown",
   "metadata": {},
   "source": [
    "### Functions that do not return a Match object"
   ]
  },
  {
   "cell_type": "code",
   "execution_count": null,
   "metadata": {
    "run_control": {
     "marked": true
    }
   },
   "outputs": [],
   "source": [
    "re.findall?\n",
    "\n",
    "re.findall('aba', 'abababa')\n",
    "re.findall('(ab)a', 'abababa')\n",
    "re.findall('(ab)(a)', 'abababa')\n",
    "re.findall('((ab)a)', 'abababa')\n",
    "re.findall('(a|b)+', 'abacaba')\n",
    "re.findall('(?:a|b)+', 'abacaba')\n",
    "re.findall('((a|b)+)', 'abacaba')\n",
    "re.findall('a+', 'aaa')\n",
    "re.findall('a*', 'aaa')\n",
    "re.findall('a', 'aaabaab')\n",
    "# a followed by b\n",
    "re.findall('a(?=b)', 'aaabaab')\n",
    "# a not followed by b\n",
    "re.findall('a(?!b)', 'aaabaab')\n",
    "# a preceded by b\n",
    "re.findall('(?<=b)a', 'aaabaab')\n",
    "# a not preceded by b\n",
    "re.findall('(?<!b)a', 'aaabaab')"
   ]
  },
  {
   "cell_type": "code",
   "execution_count": null,
   "metadata": {
    "run_control": {
     "marked": true
    }
   },
   "outputs": [],
   "source": [
    "re.split?\n",
    "\n",
    "re.split(':!', 'ab:!cd:ef!gh:!ij')\n",
    "re.split('(:!)', 'ab:!cd:ef!gh:!ij')\n",
    "re.split(' ', 'ab cd ef gh ij')\n",
    "re.split(' ', 'ab cd ef gh ij', 0)\n",
    "re.split(' ', 'ab cd ef gh ij', 6)\n",
    "re.split(' ', 'ab cd ef gh ij', 3)\n",
    "re.split(' ', 'ab cd ef gh ij', 2)"
   ]
  },
  {
   "cell_type": "code",
   "execution_count": null,
   "metadata": {
    "run_control": {
     "marked": true
    }
   },
   "outputs": [],
   "source": [
    "re.sub?\n",
    "\n",
    "re.sub('aba', '*', 'ababababababa')\n",
    "re.sub('aba', '*', 'ababababababa', 0)\n",
    "re.sub('aba', '*', 'ababababababa', 4)\n",
    "re.sub('aba', '*', 'ababababababa', 2)\n",
    "re.sub('aba', '*', 'ababababababa', 1)\n",
    "re.sub(r'(?:\\w+) (\\w+) \\1 (\\w+) (?:\\w+) (\\w+) \\3 \\2', r'*\\2--\\g<1>2!\\3',  \n",
    "        'abc def def ghi jkl mno mno ghi ABC DEF DEF GHI JKL MNO MNO GHI')\n",
    "re.sub('\\w+ (?P<word_1>\\w+) (?P<word_2>\\w+ (?P<word_3>\\w+))', r'\\g<word_2>--\\g<word_1>2\\3',\n",
    "       'ab cd ef gh ij AB CD EF GH IJ')"
   ]
  },
  {
   "cell_type": "code",
   "execution_count": null,
   "metadata": {
    "run_control": {
     "marked": true
    }
   },
   "outputs": [],
   "source": [
    "re.subn?\n",
    "\n",
    "re.subn('aba', '*', 'ababababababa')\n",
    "re.subn('aba', '*', 'ababababababa', 0)\n",
    "re.subn('aba', '*', 'ababababababa', 4)\n",
    "re.subn('aba', '*', 'ababababababa', 2)\n",
    "re.subn('aba', '*', 'ababababababa', 1)\n",
    "re.subn(r'(?:\\w+) (\\w+) \\1 (\\w+) (?:\\w+) (\\w+) \\3 \\2', r'*\\2--\\g<1>2!\\3',  \n",
    "         'abc def def ghi jkl mno mno ghi ABC DEF DEF GHI JKL MNO MNO GHI')\n",
    "re.subn('\\w+ (?P<word_1>\\w+) (?P<word_2>\\w+ (?P<word_3>\\w+))', r'\\g<word_2>--\\g<word_1>2\\3',\n",
    "        'ab cd ef gh ij AB CD EF GH IJ')"
   ]
  }
 ],
 "metadata": {
  "kernelspec": {
   "display_name": "Python 3",
   "language": "python",
   "name": "python3"
  },
  "language_info": {
   "codemirror_mode": {
    "name": "ipython",
    "version": 3
   },
   "file_extension": ".py",
   "mimetype": "text/x-python",
   "name": "python",
   "nbconvert_exporter": "python",
   "pygments_lexer": "ipython3",
   "version": "3.6.4"
  }
 },
 "nbformat": 4,
 "nbformat_minor": 1
}
