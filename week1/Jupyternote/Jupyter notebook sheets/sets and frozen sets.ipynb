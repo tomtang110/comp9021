{
 "cells": [
  {
   "cell_type": "code",
   "execution_count": null,
   "metadata": {},
   "outputs": [],
   "source": [
    "# Does not need to be executed if ~/.ipython/profile_default/ipython_config.py exists and contains:\n",
    "# get_config().InteractiveShell.ast_node_interactivity = 'all'\n",
    "\n",
    "from IPython.core.interactiveshell import InteractiveShell\n",
    "InteractiveShell.ast_node_interactivity = 'all'"
   ]
  },
  {
   "cell_type": "markdown",
   "metadata": {},
   "source": [
    "<h1 align=\"center\">Sets and frozen sets</h1>"
   ]
  },
  {
   "cell_type": "code",
   "execution_count": null,
   "metadata": {},
   "outputs": [],
   "source": [
    "set.copy?"
   ]
  },
  {
   "cell_type": "code",
   "execution_count": null,
   "metadata": {
    "run_control": {
     "marked": true
    }
   },
   "outputs": [],
   "source": [
    "S1 = {'A', 'B', 'C'}\n",
    "S2 = set(['A', 'B', 'C'])\n",
    "S3 = set(('A', 'B', 'C'))\n",
    "S4 = set({'A', 'B', 'C'})\n",
    "S5 = set({'A': 1, 'B': 2, 'C': 3})\n",
    "S6 = set('ABC')\n",
    "S7 = S1.copy()\n",
    "\n",
    "S1 == S2 == S3 == S4 == S5 == S6 == S7"
   ]
  },
  {
   "cell_type": "code",
   "execution_count": null,
   "metadata": {},
   "outputs": [],
   "source": [
    "frozenset.copy?"
   ]
  },
  {
   "cell_type": "code",
   "execution_count": null,
   "metadata": {
    "run_control": {
     "marked": true
    }
   },
   "outputs": [],
   "source": [
    "S1 = frozenset(['A', 'B', 'C'])\n",
    "S2 = frozenset(('A', 'B', 'C'))\n",
    "S3 = frozenset({'A', 'B', 'C'})\n",
    "S4 = frozenset({'A': 1, 'B': 2, 'C': 3})\n",
    "S5 = frozenset('ABC')\n",
    "S6 = S1.copy()\n",
    "\n",
    "S1 == S2 == S3 == S4 == S5 == S6"
   ]
  },
  {
   "cell_type": "code",
   "execution_count": null,
   "metadata": {
    "run_control": {
     "marked": true
    }
   },
   "outputs": [],
   "source": [
    "S = {1, 3, 5, 7, 3, 5, 5}\n",
    "\n",
    "S"
   ]
  },
  {
   "cell_type": "code",
   "execution_count": null,
   "metadata": {
    "run_control": {
     "marked": true
    }
   },
   "outputs": [],
   "source": [
    "S = {1, 3, 5, 7, 3, 5, 5}\n",
    "\n",
    "0 not in S\n",
    "5 in S"
   ]
  },
  {
   "cell_type": "code",
   "execution_count": null,
   "metadata": {},
   "outputs": [],
   "source": [
    "len?"
   ]
  },
  {
   "cell_type": "code",
   "execution_count": null,
   "metadata": {
    "run_control": {
     "marked": true
    }
   },
   "outputs": [],
   "source": [
    "S = {1, 3, 5, 7, 3, 5, 5}\n",
    "\n",
    "len(S)"
   ]
  },
  {
   "cell_type": "code",
   "execution_count": null,
   "metadata": {},
   "outputs": [],
   "source": [
    "# For sets only, not frozensets\n",
    "set.add?"
   ]
  },
  {
   "cell_type": "code",
   "execution_count": null,
   "metadata": {
    "run_control": {
     "marked": true
    }
   },
   "outputs": [],
   "source": [
    "S = set()\n",
    "\n",
    "S\n",
    "S.add(0); S\n",
    "S.add(1); S\n",
    "S.add(2); S\n",
    "S.add(2); S"
   ]
  },
  {
   "cell_type": "code",
   "execution_count": null,
   "metadata": {},
   "outputs": [],
   "source": [
    "# For sets only, not frozensets\n",
    "set.update?"
   ]
  },
  {
   "cell_type": "code",
   "execution_count": null,
   "metadata": {
    "run_control": {
     "marked": true
    }
   },
   "outputs": [],
   "source": [
    "S = {0, 1, 2}\n",
    "\n",
    "S\n",
    "S.update({1, 2, 3, 4}); S\n",
    "S.update({5}, {6, 7, 8, 9}, {10, 11}); S"
   ]
  },
  {
   "cell_type": "code",
   "execution_count": null,
   "metadata": {},
   "outputs": [],
   "source": [
    "# For sets only, not frozensets\n",
    "set.remove?"
   ]
  },
  {
   "cell_type": "code",
   "execution_count": null,
   "metadata": {
    "run_control": {
     "marked": true
    }
   },
   "outputs": [],
   "source": [
    "S = set(range(8))\n",
    "\n",
    "S\n",
    "S.remove(6); S\n",
    "try:\n",
    "    S.remove(8)\n",
    "except KeyError as e:\n",
    "    print('Raises KeyError:', e)"
   ]
  },
  {
   "cell_type": "code",
   "execution_count": null,
   "metadata": {},
   "outputs": [],
   "source": [
    "# For sets only, not frozensets\n",
    "set.discard?"
   ]
  },
  {
   "cell_type": "code",
   "execution_count": null,
   "metadata": {
    "run_control": {
     "marked": true
    }
   },
   "outputs": [],
   "source": [
    "S = set(range(5))\n",
    "\n",
    "S\n",
    "S.discard(3); S\n",
    "S.discard(3); S"
   ]
  },
  {
   "cell_type": "code",
   "execution_count": null,
   "metadata": {},
   "outputs": [],
   "source": [
    "# For sets only, not frozensets\n",
    "set.pop?"
   ]
  },
  {
   "cell_type": "code",
   "execution_count": null,
   "metadata": {
    "run_control": {
     "marked": true
    }
   },
   "outputs": [],
   "source": [
    "S = set(range(2))\n",
    "\n",
    "S\n",
    "S.pop()\n",
    "S.pop()\n",
    "try:\n",
    "    S.pop()\n",
    "except KeyError as e:\n",
    "    print('Raises KeyError:', e)"
   ]
  },
  {
   "cell_type": "code",
   "execution_count": null,
   "metadata": {},
   "outputs": [],
   "source": [
    "# For sets only, not frozensets\n",
    "set.clear?"
   ]
  },
  {
   "cell_type": "code",
   "execution_count": null,
   "metadata": {
    "run_control": {
     "marked": true
    }
   },
   "outputs": [],
   "source": [
    "S = set(range(5))\n",
    "S.clear()\n",
    "\n",
    "S"
   ]
  },
  {
   "cell_type": "code",
   "execution_count": null,
   "metadata": {},
   "outputs": [],
   "source": [
    "set.difference?"
   ]
  },
  {
   "cell_type": "code",
   "execution_count": null,
   "metadata": {
    "run_control": {
     "marked": true
    }
   },
   "outputs": [],
   "source": [
    "S = set(range(10))\n",
    "\n",
    "S\n",
    "S.difference({1, 3, 5, 11}), S\n",
    "S.difference({1, 3, 5}, {-3, -1, 7}, {1, 3, 7}, {-1, 3, 9})"
   ]
  },
  {
   "cell_type": "code",
   "execution_count": null,
   "metadata": {},
   "outputs": [],
   "source": [
    "# For sets only, not frozensets\n",
    "set.difference_update?"
   ]
  },
  {
   "cell_type": "code",
   "execution_count": null,
   "metadata": {
    "run_control": {
     "marked": true
    }
   },
   "outputs": [],
   "source": [
    "S = set(range(10))\n",
    "\n",
    "S\n",
    "S.difference_update({-1, 1, 3, 5}); S\n",
    "S.difference_update({1, 3, 5}, {-3, -1, 7}, {1, 3, 7}, {-1, 3, 9}); S"
   ]
  },
  {
   "cell_type": "code",
   "execution_count": null,
   "metadata": {},
   "outputs": [],
   "source": [
    "set.symmetric_difference?"
   ]
  },
  {
   "cell_type": "code",
   "execution_count": null,
   "metadata": {
    "run_control": {
     "marked": true
    }
   },
   "outputs": [],
   "source": [
    "S = set(range(6))\n",
    "\n",
    "S\n",
    "S.symmetric_difference({0, 2, 4, 6, 8})"
   ]
  },
  {
   "cell_type": "code",
   "execution_count": null,
   "metadata": {},
   "outputs": [],
   "source": [
    "# For sets only, not frozensets\n",
    "set.symmetric_difference_update?"
   ]
  },
  {
   "cell_type": "code",
   "execution_count": null,
   "metadata": {
    "run_control": {
     "marked": true
    }
   },
   "outputs": [],
   "source": [
    "S = set(range(6))\n",
    "\n",
    "S\n",
    "S.symmetric_difference_update({0, 2, 4, 6, 8}); S"
   ]
  },
  {
   "cell_type": "code",
   "execution_count": null,
   "metadata": {},
   "outputs": [],
   "source": [
    "set.intersection?"
   ]
  },
  {
   "cell_type": "code",
   "execution_count": null,
   "metadata": {
    "run_control": {
     "marked": true
    }
   },
   "outputs": [],
   "source": [
    "S = set(range(10))\n",
    "\n",
    "S\n",
    "S.intersection({-3, -3, -1, 1, 3, 5})\n",
    "S.intersection({-3, -1, 1, 3, 5}, {-3, 1, 3}, {-3, -1, 1, 3})"
   ]
  },
  {
   "cell_type": "code",
   "execution_count": null,
   "metadata": {},
   "outputs": [],
   "source": [
    "# For sets only, not frozensets\n",
    "set.intersection_update?"
   ]
  },
  {
   "cell_type": "code",
   "execution_count": null,
   "metadata": {
    "run_control": {
     "marked": true
    }
   },
   "outputs": [],
   "source": [
    "S = set(range(10))\n",
    "\n",
    "S\n",
    "S.intersection_update({-3, -3, -1, 1, 3, 5}); S\n",
    "S.intersection_update({-3, -1, 1, 3, 5}, {-3, 1, 3}, {-3, -1, 1, 3}); S"
   ]
  },
  {
   "cell_type": "code",
   "execution_count": null,
   "metadata": {},
   "outputs": [],
   "source": [
    "set.union?"
   ]
  },
  {
   "cell_type": "code",
   "execution_count": null,
   "metadata": {
    "run_control": {
     "marked": true
    }
   },
   "outputs": [],
   "source": [
    "S = set(range(10))\n",
    "\n",
    "S\n",
    "S.union({-2, -1, 1, 3, 5})\n",
    "S.union({-3, -2, -1, 1, 3, 5}, {-5, -4, -1, 1, 3}, {-5, -3, 1, 3})"
   ]
  },
  {
   "cell_type": "code",
   "execution_count": null,
   "metadata": {
    "run_control": {
     "marked": true
    }
   },
   "outputs": [],
   "source": [
    "{0, 1, 2, 3} - {2, 3, 4}\n",
    "{0, 1, 2, 3} ^ {2, 3, 4}\n",
    "{0, 1, 2, 3} & {2, 3, 4}\n",
    "{0, 1, 2, 3} | {2, 3, 4}"
   ]
  }
 ],
 "metadata": {
  "kernelspec": {
   "display_name": "Python 3",
   "language": "python",
   "name": "python3"
  },
  "language_info": {
   "codemirror_mode": {
    "name": "ipython",
    "version": 3
   },
   "file_extension": ".py",
   "mimetype": "text/x-python",
   "name": "python",
   "nbconvert_exporter": "python",
   "pygments_lexer": "ipython3",
   "version": "3.6.4"
  }
 },
 "nbformat": 4,
 "nbformat_minor": 1
}
