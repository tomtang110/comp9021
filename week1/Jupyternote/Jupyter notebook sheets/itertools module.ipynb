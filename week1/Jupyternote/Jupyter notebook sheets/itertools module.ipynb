{
 "cells": [
  {
   "cell_type": "code",
   "execution_count": null,
   "metadata": {},
   "outputs": [],
   "source": [
    "# Does not need to be executed if ~/.ipython/profile_default/ipython_config.py exists and contains:\n",
    "# get_config().InteractiveShell.ast_node_interactivity = 'all'\n",
    "\n",
    "from IPython.core.interactiveshell import InteractiveShell\n",
    "InteractiveShell.ast_node_interactivity = 'all'"
   ]
  },
  {
   "cell_type": "markdown",
   "metadata": {},
   "source": [
    "<h1 align=\"center\">Itertools module</h1>"
   ]
  },
  {
   "cell_type": "code",
   "execution_count": 1,
   "metadata": {
    "init_cell": true
   },
   "outputs": [],
   "source": [
    "import itertools"
   ]
  },
  {
   "cell_type": "code",
   "execution_count": null,
   "metadata": {},
   "outputs": [],
   "source": [
    "itertools.starmap?"
   ]
  },
  {
   "cell_type": "code",
   "execution_count": null,
   "metadata": {
    "run_control": {
     "marked": true
    }
   },
   "outputs": [],
   "source": [
    "list(itertools.starmap(lambda x, y: x + x, [(1, 2), (3, 4), (5, 6), (7, 8)]))"
   ]
  },
  {
   "cell_type": "code",
   "execution_count": null,
   "metadata": {},
   "outputs": [],
   "source": [
    "itertools.zip_longest?"
   ]
  },
  {
   "cell_type": "code",
   "execution_count": null,
   "metadata": {
    "run_control": {
     "marked": true
    }
   },
   "outputs": [],
   "source": [
    "list(itertools.zip_longest([1, 2, 3], [11, 12], [21, 22, 23, 25], [31, 32]))\n",
    "list(itertools.zip_longest([1, 2, 3], [11, 12], [21, 22, 23, 25], [31, 32], fillvalue = -1))"
   ]
  },
  {
   "cell_type": "code",
   "execution_count": null,
   "metadata": {},
   "outputs": [],
   "source": [
    "itertools.accumulate?"
   ]
  },
  {
   "cell_type": "code",
   "execution_count": null,
   "metadata": {
    "run_control": {
     "marked": true
    }
   },
   "outputs": [],
   "source": [
    "from operator import mul\n",
    "\n",
    "tuple(itertools.accumulate([0, 1, 2, 3, 4, 5]))\n",
    "tuple(itertools.accumulate([1, 2, 3, 4, 5], mul))"
   ]
  },
  {
   "cell_type": "code",
   "execution_count": null,
   "metadata": {},
   "outputs": [],
   "source": [
    "itertools.combinations?"
   ]
  },
  {
   "cell_type": "code",
   "execution_count": null,
   "metadata": {
    "run_control": {
     "marked": true
    }
   },
   "outputs": [],
   "source": [
    "list(itertools.combinations(range(4), 0))\n",
    "tuple(itertools.combinations(range(4), 2))\n",
    "set(itertools.combinations(range(4), 4))"
   ]
  },
  {
   "cell_type": "code",
   "execution_count": null,
   "metadata": {},
   "outputs": [],
   "source": [
    "itertools.combinations_with_replacement?"
   ]
  },
  {
   "cell_type": "code",
   "execution_count": null,
   "metadata": {
    "run_control": {
     "marked": true
    }
   },
   "outputs": [],
   "source": [
    "list(itertools.combinations_with_replacement(range(4), 1))\n",
    "tuple(itertools.combinations_with_replacement(range(4), 2))"
   ]
  },
  {
   "cell_type": "code",
   "execution_count": null,
   "metadata": {},
   "outputs": [],
   "source": [
    "itertools.permutations?"
   ]
  },
  {
   "cell_type": "code",
   "execution_count": null,
   "metadata": {
    "run_control": {
     "marked": true
    }
   },
   "outputs": [],
   "source": [
    "list(itertools.permutations(range(4), 0))\n",
    "tuple(itertools.permutations(range(4), 2))\n",
    "set(itertools.permutations(range(4)))"
   ]
  },
  {
   "cell_type": "code",
   "execution_count": null,
   "metadata": {},
   "outputs": [],
   "source": [
    "itertools.product?"
   ]
  },
  {
   "cell_type": "code",
   "execution_count": null,
   "metadata": {
    "run_control": {
     "marked": true
    }
   },
   "outputs": [],
   "source": [
    "list(itertools.product(range(3), range(2), range(4)))\n",
    "list(itertools.product(range(2), repeat = 4))"
   ]
  },
  {
   "cell_type": "code",
   "execution_count": null,
   "metadata": {},
   "outputs": [],
   "source": [
    "itertools.count?"
   ]
  },
  {
   "cell_type": "code",
   "execution_count": null,
   "metadata": {
    "run_control": {
     "marked": true
    }
   },
   "outputs": [],
   "source": [
    "# Arguments \"start\" and \"step\" take default values of 0 and 1, respectively.\n",
    "# If step is a floating point value, then start must be a floating point value,\n",
    "# otherwise step will be interpreted as int(step).\n",
    "counter_1 = itertools.count()\n",
    "counter_2 = itertools.count(10.5)\n",
    "counter_3 = itertools.count(10.5, 1.5)\n",
    "\n",
    "for i in counter_1:\n",
    "    if i > 9:\n",
    "        break\n",
    "    print(i, end = ' ')\n",
    "print()\n",
    "for i in counter_2:\n",
    "    if i > 19:\n",
    "        break\n",
    "    print(i, end = ' ')\n",
    "print()\n",
    "for i in counter_3:\n",
    "    if i > 19:\n",
    "        break\n",
    "    print(i, end = ' ')"
   ]
  },
  {
   "cell_type": "code",
   "execution_count": null,
   "metadata": {},
   "outputs": [],
   "source": [
    "itertools.tee?"
   ]
  },
  {
   "cell_type": "code",
   "execution_count": null,
   "metadata": {
    "run_control": {
     "marked": true
    }
   },
   "outputs": [],
   "source": [
    "copies_1 = itertools.tee(range(4))\n",
    "copies_2 = itertools.tee(range(4), 5)\n",
    "\n",
    "for i in copies_1:\n",
    "    print(list(i))\n",
    "print()\n",
    "for i in copies_2:\n",
    "    print(list(i))"
   ]
  },
  {
   "cell_type": "code",
   "execution_count": null,
   "metadata": {},
   "outputs": [],
   "source": [
    "itertools.repeat?"
   ]
  },
  {
   "cell_type": "code",
   "execution_count": null,
   "metadata": {
    "run_control": {
     "marked": true
    }
   },
   "outputs": [],
   "source": [
    "to_be_repeated_1 = itertools.repeat(range(3))\n",
    "to_be_repeated_2 = itertools.repeat(range(3), 6)\n",
    "\n",
    "for i in range(6):\n",
    "    print(set(next(to_be_repeated_1)), end = ' ')\n",
    "print()\n",
    "for i in to_be_repeated_2:\n",
    "    print(set(i), end = ' ')"
   ]
  },
  {
   "cell_type": "code",
   "execution_count": null,
   "metadata": {},
   "outputs": [],
   "source": [
    "itertools.cycle?"
   ]
  },
  {
   "cell_type": "code",
   "execution_count": null,
   "metadata": {
    "run_control": {
     "marked": true
    }
   },
   "outputs": [],
   "source": [
    "values_to_cycle_over = itertools.cycle(range(4))\n",
    "\n",
    "for i in range(10):\n",
    "    print((i, next(values_to_cycle_over)), end = ' ')"
   ]
  },
  {
   "cell_type": "code",
   "execution_count": null,
   "metadata": {},
   "outputs": [],
   "source": [
    "itertools.chain?"
   ]
  },
  {
   "cell_type": "code",
   "execution_count": null,
   "metadata": {
    "run_control": {
     "marked": true
    }
   },
   "outputs": [],
   "source": [
    "for i in itertools.chain([1, 2, 3], (4, 5, 6), {7, 8}, {9: 'A', 10: 'B'}):\n",
    "    print(i, end = ' ')"
   ]
  },
  {
   "cell_type": "code",
   "execution_count": null,
   "metadata": {},
   "outputs": [],
   "source": [
    "itertools.compress?"
   ]
  },
  {
   "cell_type": "code",
   "execution_count": null,
   "metadata": {
    "run_control": {
     "marked": true
    }
   },
   "outputs": [],
   "source": [
    "list(itertools.compress(range(0, 400, 10), (x > 32 for x in range(40))))\n",
    "list(itertools.compress(range(0, 40), [x % y == 0 for y in range(2, 6) for x in range(10)]))"
   ]
  },
  {
   "cell_type": "code",
   "execution_count": null,
   "metadata": {},
   "outputs": [],
   "source": [
    "itertools.dropwhile?"
   ]
  },
  {
   "cell_type": "code",
   "execution_count": null,
   "metadata": {
    "run_control": {
     "marked": true
    }
   },
   "outputs": [],
   "source": [
    "for i in itertools.dropwhile(lambda x : x % 3, [1, 4, 5, 2, 9, 3, 6, 0, 8, 7]):\n",
    "    print(i, end = ' ')"
   ]
  },
  {
   "cell_type": "code",
   "execution_count": null,
   "metadata": {},
   "outputs": [],
   "source": [
    "itertools.takewhile?"
   ]
  },
  {
   "cell_type": "code",
   "execution_count": null,
   "metadata": {
    "run_control": {
     "marked": true
    }
   },
   "outputs": [],
   "source": [
    "for i in itertools.takewhile(lambda x : x % 3, [1, 4, 5, 2, 9, 3, 6, 0, 8, 7]):\n",
    "    print(i, end = ' ')"
   ]
  },
  {
   "cell_type": "code",
   "execution_count": null,
   "metadata": {},
   "outputs": [],
   "source": [
    "itertools.filterfalse?"
   ]
  },
  {
   "cell_type": "code",
   "execution_count": null,
   "metadata": {
    "run_control": {
     "marked": true
    }
   },
   "outputs": [],
   "source": [
    "for i in itertools.filterfalse(lambda x : x % 3, [1, 4, 5, 2, 9, 3, 6, 0, 8, 7]):\n",
    "    print(i, end = ' ')\n",
    "print()\n",
    "for i in itertools.filterfalse(None, [1, 4, 5, 2, 9, 3, 6, 0, 8, 7]):\n",
    "    print(i, end = ' ')"
   ]
  },
  {
   "cell_type": "code",
   "execution_count": null,
   "metadata": {},
   "outputs": [],
   "source": [
    "itertools.groupby?"
   ]
  },
  {
   "cell_type": "code",
   "execution_count": null,
   "metadata": {
    "run_control": {
     "marked": true
    }
   },
   "outputs": [],
   "source": [
    "key_function = lambda x: x % 3\n",
    "# Values with the same key have to be consecutive\n",
    "# in order to be grouped together by \"groupby\"\n",
    "sorted_values = sorted(range(20), key = key_function)\n",
    "groups_1 = itertools.groupby(sorted_values, key_function)\n",
    "groups_2 = itertools.groupby(sorted_values)\n",
    "\n",
    "for (key, group) in groups_1:\n",
    "    print(key, list(group))\n",
    "print()\n",
    "for (key, group) in groups_2:\n",
    "    print(key, list(group))"
   ]
  },
  {
   "cell_type": "code",
   "execution_count": null,
   "metadata": {},
   "outputs": [],
   "source": [
    "itertools.islice?"
   ]
  },
  {
   "cell_type": "code",
   "execution_count": null,
   "metadata": {
    "run_control": {
     "marked": true
    }
   },
   "outputs": [],
   "source": [
    "def count():\n",
    "    n = 0\n",
    "    while True:\n",
    "        yield n\n",
    "        n += 1\n",
    "\n",
    "c = count()\n",
    "selection_1 = itertools.islice(c, 5, 15)\n",
    "selection_2 = itertools.islice(c, 10, 20, 2)\n",
    "\n",
    "for i in itertools.islice(c, 10):\n",
    "    print(i, end = ' ')\n",
    "print()\n",
    "for i in selection_1:\n",
    "    print(i, end = ' ')\n",
    "print()\n",
    "for i in selection_2:\n",
    "    print(i, end = ' ')"
   ]
  }
 ],
 "metadata": {
  "kernelspec": {
   "display_name": "Python 3",
   "language": "python",
   "name": "python3"
  },
  "language_info": {
   "codemirror_mode": {
    "name": "ipython",
    "version": 3
   },
   "file_extension": ".py",
   "mimetype": "text/x-python",
   "name": "python",
   "nbconvert_exporter": "python",
   "pygments_lexer": "ipython3",
   "version": "3.6.4"
  }
 },
 "nbformat": 4,
 "nbformat_minor": 1
}
