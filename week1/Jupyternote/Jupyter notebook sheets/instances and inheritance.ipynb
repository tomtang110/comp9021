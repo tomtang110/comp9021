{
 "cells": [
  {
   "cell_type": "code",
   "execution_count": null,
   "metadata": {},
   "outputs": [],
   "source": [
    "# Does not need to be executed if ~/.ipython/profile_default/ipython_config.py exists and contains:\n",
    "# get_config().InteractiveShell.ast_node_interactivity = 'all'\n",
    "\n",
    "from IPython.core.interactiveshell import InteractiveShell\n",
    "InteractiveShell.ast_node_interactivity = 'all'"
   ]
  },
  {
   "cell_type": "markdown",
   "metadata": {},
   "source": [
    "<h1 align=\"center\">Instances and inheritance</h1>"
   ]
  },
  {
   "cell_type": "code",
   "execution_count": null,
   "metadata": {
    "code_folding": [],
    "run_control": {
     "marked": true
    }
   },
   "outputs": [],
   "source": [
    "class N:\n",
    "    def __new__(cls):\n",
    "        print(f'Object creation with cls equal to {cls}')\n",
    "        return super().__new__(cls) \n",
    "    def __init__(self):\n",
    "        print(f'Object initialisation with self equal to {self}')\n",
    "        \n",
    "n = N()"
   ]
  },
  {
   "cell_type": "code",
   "execution_count": null,
   "metadata": {
    "init_cell": true
   },
   "outputs": [],
   "source": [
    "class A:\n",
    "    pass\n",
    "\n",
    "def h(self):\n",
    "    self.p = 10\n",
    "\n",
    "T = type('B', (A,), {'d': 100, 'f': lambda self: 1000, '__init__' : lambda self: h(self)})\n",
    "t = T()"
   ]
  },
  {
   "cell_type": "code",
   "execution_count": null,
   "metadata": {
    "run_control": {
     "marked": true
    }
   },
   "outputs": [],
   "source": [
    "t.__dict__\n",
    "t.p\n",
    "t.d\n",
    "t.f()"
   ]
  },
  {
   "cell_type": "code",
   "execution_count": null,
   "metadata": {
    "run_control": {
     "marked": true
    }
   },
   "outputs": [],
   "source": [
    "t.__class__\n",
    "t.__class__.__name__\n",
    "t.__class__.__dict__\n",
    "t.__class__.__mro__    # Method Resolution Order\n",
    "t.__class__.__class__"
   ]
  },
  {
   "cell_type": "markdown",
   "metadata": {},
   "source": [
    "* Everything is an object; I, I1 and I2 are objects but not classes.\n",
    "\n",
    "* Every metaclass is a class; C, C1 and C2 are classes but not metaclasses.\n",
    "\n",
    "* An object is an instance of a class (dashed lines), up to type which is an instance of itself.\n",
    "\n",
    "* A metaclass is an instance of type.\n",
    "\n",
    "* A class inherits from classes (filled lines), its superclasses, which it is a subclass of, up to object which inherits from itself.\n",
    "\n",
    "* A class which is not a metaclass inherits possibly from classes which are not metaclasses, and from object.\n",
    "\n",
    "* A metaclass inherits possibly from metaclasses, from type, and from object.\n"
   ]
  },
  {
   "cell_type": "markdown",
   "metadata": {},
   "source": [
    "![](instance.png)"
   ]
  },
  {
   "cell_type": "code",
   "execution_count": null,
   "metadata": {
    "init_cell": true,
    "run_control": {
     "marked": false
    }
   },
   "outputs": [],
   "source": [
    "class M1(type):\n",
    "    pass\n",
    "\n",
    "class M2(M1):\n",
    "    pass\n",
    "\n",
    "class I0:\n",
    "    pass\n",
    "\n",
    "class I1(metaclass = M1):\n",
    "    pass\n",
    "\n",
    "class I2(metaclass = M2):\n",
    "    pass\n",
    "\n",
    "i0 = I0()\n",
    "i1 = I1()\n",
    "i2 = I2()"
   ]
  },
  {
   "cell_type": "code",
   "execution_count": null,
   "metadata": {
    "run_control": {
     "marked": true
    }
   },
   "outputs": [],
   "source": [
    "i0.__class__, i1.__class__, i2.__class__\n",
    "I0.__class__, I1.__class__, I2.__class__\n",
    "M1.__class__, M2.__class__\n",
    "object.__class__, type.__class__"
   ]
  },
  {
   "cell_type": "code",
   "execution_count": null,
   "metadata": {
    "run_control": {
     "marked": true
    }
   },
   "outputs": [],
   "source": [
    "# Method Resolution Order\n",
    "I0.__mro__, I1.__mro__, I2.__mro__\n",
    "M1.__mro__, M2.__mro__\n",
    "object.__mro__\n",
    "type.__mro__"
   ]
  },
  {
   "cell_type": "markdown",
   "metadata": {},
   "source": [
    "![](inheritance.png)"
   ]
  },
  {
   "cell_type": "code",
   "execution_count": null,
   "metadata": {
    "init_cell": true,
    "run_control": {
     "marked": false
    }
   },
   "outputs": [],
   "source": [
    "class C32:\n",
    "    x1 = 32; x21 = 32; x31 = 32; x22 = 32; x23 = 32; x32 = 32\n",
    "    def g(self):\n",
    "        print('C32')\n",
    "\n",
    "class C23(C32):\n",
    "    x1 = 23; x21 = 23; x31 = 23; x22 = 23; x23 = 23\n",
    "    def f(self):\n",
    "        print('C23', end = '  ')\n",
    "    def g(self):\n",
    "        self.f(); print('C23', end = '  '); C32.g(self)\n",
    "        \n",
    "class C22(C32):\n",
    "    x1 = 22; x21 = 22; x31 = 22; x22 = 22\n",
    "\n",
    "class C31:\n",
    "    x1 = 31; x21 = 31; x31 = 31\n",
    "\n",
    "class C21(C31):\n",
    "    x1 = 21; x21 = 21\n",
    "\n",
    "class C1(C21, C22, C23):\n",
    "    x1 = 1\n",
    "    def f(self):\n",
    "        print('C1', end = '  ')\n",
    "\n",
    "c1 = C1()\n",
    "c1.X = 0\n",
    "c1.x22 = -22\n",
    "c1.__dict__['x32'] = -32"
   ]
  },
  {
   "cell_type": "code",
   "execution_count": null,
   "metadata": {
    "run_control": {
     "marked": true
    }
   },
   "outputs": [],
   "source": [
    "print('   X  x1  x21  x31  x22  x23  x32')\n",
    "print(f'{c1.X:>4}{c1.x1:4}{c1.x21:5}{c1.x31:5}{c1.x22:5}{c1.x23:5}{c1.x32:5}')"
   ]
  },
  {
   "cell_type": "code",
   "execution_count": null,
   "metadata": {
    "run_control": {
     "marked": true
    }
   },
   "outputs": [],
   "source": [
    "c1.g()\n",
    "C1.g(c1)\n",
    "C23.g(c1)"
   ]
  },
  {
   "cell_type": "code",
   "execution_count": null,
   "metadata": {
    "run_control": {
     "marked": true
    }
   },
   "outputs": [],
   "source": [
    "c1.__class__"
   ]
  },
  {
   "cell_type": "code",
   "execution_count": null,
   "metadata": {
    "run_control": {
     "marked": true
    }
   },
   "outputs": [],
   "source": [
    "c1.__dict__\n",
    "[attr for attr in dir(c1) if not attr.startswith('__')]"
   ]
  },
  {
   "cell_type": "code",
   "execution_count": null,
   "metadata": {
    "run_control": {
     "marked": true
    }
   },
   "outputs": [],
   "source": [
    "C1.__name__\n",
    "C1.__class__\n",
    "C1.__bases__\n",
    "# Method Resolution Order\n",
    "C1.mro()"
   ]
  },
  {
   "cell_type": "code",
   "execution_count": null,
   "metadata": {
    "run_control": {
     "marked": true
    }
   },
   "outputs": [],
   "source": [
    "{attr: C1.__dict__[attr] for attr in C1.__dict__ if not attr.startswith('__')}\n",
    "[attr for attr in dir(C1) if not attr.startswith('__')]"
   ]
  },
  {
   "cell_type": "code",
   "execution_count": null,
   "metadata": {
    "run_control": {
     "marked": true
    }
   },
   "outputs": [],
   "source": [
    "{attr: C21.__dict__[attr] for attr in C21.__dict__ if not attr.startswith('__')}\n",
    "[attr for attr in dir(C21) if not attr.startswith('__')]"
   ]
  },
  {
   "cell_type": "code",
   "execution_count": null,
   "metadata": {
    "run_control": {
     "marked": true
    }
   },
   "outputs": [],
   "source": [
    "{attr: C31.__dict__[attr] for attr in C31.__dict__ if not attr.startswith('__')}\n",
    "[attr for attr in dir(C31) if not attr.startswith('__')]"
   ]
  },
  {
   "cell_type": "code",
   "execution_count": null,
   "metadata": {
    "run_control": {
     "marked": true
    }
   },
   "outputs": [],
   "source": [
    "{attr: C22.__dict__[attr] for attr in C22.__dict__ if not attr.startswith('__')}\n",
    "[attr for attr in dir(C22) if not attr.startswith('__')]"
   ]
  },
  {
   "cell_type": "code",
   "execution_count": null,
   "metadata": {
    "run_control": {
     "marked": true
    }
   },
   "outputs": [],
   "source": [
    "{attr: C23.__dict__[attr] for attr in C23.__dict__ if not attr.startswith('__')}\n",
    "[attr for attr in dir(C23) if not attr.startswith('__')]"
   ]
  },
  {
   "cell_type": "code",
   "execution_count": null,
   "metadata": {
    "run_control": {
     "marked": true
    }
   },
   "outputs": [],
   "source": [
    "{attr: C32.__dict__[attr] for attr in C32.__dict__ if not attr.startswith('__')}\n",
    "[attr for attr in dir(C32) if not attr.startswith('__')]"
   ]
  }
 ],
 "metadata": {
  "kernelspec": {
   "display_name": "Python 3",
   "language": "python",
   "name": "python3"
  },
  "language_info": {
   "codemirror_mode": {
    "name": "ipython",
    "version": 3
   },
   "file_extension": ".py",
   "mimetype": "text/x-python",
   "name": "python",
   "nbconvert_exporter": "python",
   "pygments_lexer": "ipython3",
   "version": "3.6.4"
  }
 },
 "nbformat": 4,
 "nbformat_minor": 1
}
