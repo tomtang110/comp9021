{
 "cells": [
  {
   "cell_type": "code",
   "execution_count": null,
   "metadata": {},
   "outputs": [],
   "source": [
    "# Does not need to be executed if ~/.ipython/profile_default/ipython_config.py exists and contains:\n",
    "# get_config().InteractiveShell.ast_node_interactivity = 'all'\n",
    "\n",
    "from IPython.core.interactiveshell import InteractiveShell\n",
    "InteractiveShell.ast_node_interactivity = 'all'"
   ]
  },
  {
   "cell_type": "markdown",
   "metadata": {},
   "source": [
    "<h1 align=\"center\">Generators Comprehension Iterators</h1>"
   ]
  },
  {
   "cell_type": "markdown",
   "metadata": {},
   "source": [
    "## Generators"
   ]
  },
  {
   "cell_type": "code",
   "execution_count": null,
   "metadata": {
    "run_control": {
     "marked": true
    }
   },
   "outputs": [],
   "source": [
    "from random import randrange\n",
    "\n",
    "def randomly_generate_random_nonmultiples_of_ten_between_0_and_99():\n",
    "    while True:\n",
    "        digit = randrange(0, 100)\n",
    "        if digit % 10:\n",
    "            yield digit\n",
    "        else:\n",
    "            return\n",
    "\n",
    "generator = randomly_generate_random_nonmultiples_of_ten_between_0_and_99()\n",
    "\n",
    "while True:\n",
    "    try:\n",
    "        # Alternative: print(generator.__next__())\n",
    "        print(next(generator))\n",
    "    except StopIteration:\n",
    "        print('A multiple of 10 was generated, which ended the process')\n",
    "        break"
   ]
  },
  {
   "cell_type": "code",
   "execution_count": null,
   "metadata": {
    "run_control": {
     "marked": true
    }
   },
   "outputs": [],
   "source": [
    "def generate_multiples_of(n):\n",
    "    for i in range(1, 10):\n",
    "        yield n * i\n",
    "        \n",
    "def generate_multiples():\n",
    "    for n in range(1, 10):\n",
    "        yield from generate_multiples_of(n)\n",
    "\n",
    "count = 0\n",
    "generator = generate_multiples()\n",
    "\n",
    "for e in generator:\n",
    "    print(f'{e:3d}', end = '')\n",
    "    count += 1\n",
    "    if count % 9 == 0:\n",
    "        print()"
   ]
  },
  {
   "cell_type": "code",
   "execution_count": null,
   "metadata": {
    "run_control": {
     "marked": true
    }
   },
   "outputs": [],
   "source": [
    "from random import randint\n",
    "\n",
    "def randomly_announce_even_or_odd():\n",
    "    while True:\n",
    "        if randint(0, 1):\n",
    "            print('It is odd.')\n",
    "        else:\n",
    "            print('It is even.')\n",
    "        yield\n",
    "\n",
    "generator = randomly_announce_even_or_odd()\n",
    "\n",
    "for i in range(10):\n",
    "    next(generator)"
   ]
  },
  {
   "cell_type": "code",
   "execution_count": null,
   "metadata": {
    "run_control": {
     "marked": true
    }
   },
   "outputs": [],
   "source": [
    "def yield_and_send():\n",
    "    sent = None\n",
    "    i = 0\n",
    "    while True:\n",
    "        if sent is None:\n",
    "            # \"i\" is generated.\n",
    "            # - If a call to \"__next__()\" follows,\n",
    "            #   \"sent\" then receives the value None\n",
    "            #    and this statement will be executed again after i has been incremented.\n",
    "            # - If a call to \"send()\" follows,\n",
    "            #   \"sent\" then receives the value passed as an argument to \"send()\"\n",
    "            #   and the body of the \"elif\" or \"else\" parts will be executed\n",
    "            #   after i has been incremented.\n",
    "            sent = yield i\n",
    "        elif sent == 'stop':\n",
    "            return\n",
    "        else:\n",
    "            # Same as above, except that it is \"sent + i\" that is generated.\n",
    "            sent = yield sent + i\n",
    "        i += 1\n",
    "\n",
    "generator = yield_and_send()\n",
    "\n",
    "# First \"next()\" has to be issued, \"send()\" cannot be issued.\n",
    "next(generator)\n",
    "# Now either \"next()\" or \"send()\" can be issued:\n",
    "# \"yield i\" has last been executed; \n",
    "# which of \"__next__()\" or \"send()\" will be called\n",
    "# will determine the value that \"sent\" will receive.\n",
    "next(generator)\n",
    "next(generator)\n",
    "generator.send(10)\n",
    "generator.send(20)\n",
    "next(generator)\n",
    "generator.send(30)\n",
    "next(generator)\n",
    "next(generator)\n",
    "try:\n",
    "    print(generator.send('stop'))\n",
    "except StopIteration:\n",
    "    print('Generation has been stopped')"
   ]
  },
  {
   "cell_type": "code",
   "execution_count": null,
   "metadata": {
    "run_control": {
     "marked": true
    }
   },
   "outputs": [],
   "source": [
    "def f():\n",
    "    yield (yield 1) + (yield 2)\n",
    "    yield (yield 3) + (yield 4)\n",
    "\n",
    "I = f()\n",
    "\n",
    "I.send(I.send(I.send(I.send(I.send(I.send(None))))))"
   ]
  },
  {
   "cell_type": "code",
   "execution_count": null,
   "metadata": {
    "run_control": {
     "marked": true
    }
   },
   "outputs": [],
   "source": [
    "def f():\n",
    "    yield ((yield 1) or [1]) + ((yield 2) or [2])\n",
    "    yield ((yield 3) or [3]) + ((yield 4) or [4])\n",
    "\n",
    "I = f()\n",
    "\n",
    "next(I), next(I), next(I), next(I), next(I), next(I)"
   ]
  },
  {
   "cell_type": "markdown",
   "metadata": {},
   "source": [
    "## Comprehension and generator expressions"
   ]
  },
  {
   "cell_type": "code",
   "execution_count": null,
   "metadata": {
    "run_control": {
     "marked": true
    }
   },
   "outputs": [],
   "source": [
    "# More generally, any iterable.\n",
    "L = [0, 3, 2, 5, 1]\n",
    "\n",
    "# List comprehension\n",
    "[i * i for i in L]\n",
    "[i * i for i in L if i % 2]\n",
    "# Set comprehension\n",
    "{i * i for i in L}\n",
    "{i * i for i in L if i % 2}\n",
    "# Dictionnary comprehension\n",
    "{i: i * i for i in L}\n",
    "{i: i * i for i in L if i % 2}"
   ]
  },
  {
   "cell_type": "code",
   "execution_count": null,
   "metadata": {
    "run_control": {
     "marked": true
    }
   },
   "outputs": [],
   "source": [
    "# More generally, any iterable.\n",
    "L = [0, 3, 2, 5, 1]\n",
    "\n",
    "# \"((i * i for i in L))\" and \"((i * i for i in L if i % 2))\" are generator expressions,\n",
    "# not tuple comprehension.\n",
    "# \"(i * i for i in L)\" and \"(i * i for i in L if i % 2)\" are generator expressions:\n",
    "# the call to \"tuple()\" in \"tuple((i * i for i in L))\",\n",
    "# the call to \"tuple()\" in \"tuple((i * i for i in L if i % 2))\"\n",
    "# force the generator to produce all values;\n",
    "# the inner parentheses (for \"generator expression\") can be omitted.\n",
    "tuple(i * i for i in L)\n",
    "tuple(i * i for i in L if i % 2)\n",
    "for e in (i * i for i in L):\n",
    "    print(e, end = ' ')\n",
    "print()\n",
    "for e in (i * i for i in L if i % 2):\n",
    "    print(e, end = ' ')"
   ]
  },
  {
   "cell_type": "code",
   "execution_count": null,
   "metadata": {
    "run_control": {
     "marked": true
    }
   },
   "outputs": [],
   "source": [
    "# More generally, any iterable.\n",
    "L = [0, 3, 2, 5, 1]\n",
    "\n",
    "# List, set and dictionnary comprehension can be achieved with a similar technique:\n",
    "list(i * i for i in L)\n",
    "list(i * i for i in L if i % 2)\n",
    "set(i * i for i in L)\n",
    "set(i * i for i in L if i % 2)\n",
    "dict((i, i * i) for i in L)\n",
    "dict((i, i * i) for i in L if i % 2)\n",
    "# The parentheses for \"generator expression\" can be omitted here too:\n",
    "sorted(i * i for i in L)\n",
    "# But they cannot be omitted here:\n",
    "sorted((i * i for i in L), reverse = True)"
   ]
  },
  {
   "cell_type": "code",
   "execution_count": null,
   "metadata": {
    "init_cell": true,
    "run_control": {
     "marked": false
    }
   },
   "outputs": [],
   "source": [
    "M = [[[111, 112, 113],\n",
    "      [121, 122, 123],\n",
    "      [131, 132, 133]\n",
    "     ],\n",
    "     [[211, 212, 213],\n",
    "      [221, 222, 223],\n",
    "      [231, 232, 233]\n",
    "     ]\n",
    "    ]"
   ]
  },
  {
   "cell_type": "code",
   "execution_count": null,
   "metadata": {
    "run_control": {
     "marked": true
    }
   },
   "outputs": [],
   "source": [
    "[               2 * element\n",
    "     for three_rows in M\n",
    "        for row in three_rows\n",
    "            for element in row\n",
    "]"
   ]
  },
  {
   "cell_type": "code",
   "execution_count": null,
   "metadata": {
    "run_control": {
     "marked": true
    }
   },
   "outputs": [],
   "source": [
    "[   [   [       2 * element\n",
    "            for element in row\n",
    "        ]\n",
    "        for row in three_rows\n",
    "    ]\n",
    "    for three_rows in M\n",
    "]"
   ]
  },
  {
   "cell_type": "code",
   "execution_count": null,
   "metadata": {
    "run_control": {
     "marked": true
    }
   },
   "outputs": [],
   "source": [
    "[                2 * element\n",
    "    for three_rows in M if three_rows[0][0] // 100 % 2\n",
    "        for row in three_rows if row[0] // 10 % 2\n",
    "            for element in row if element % 2\n",
    "]"
   ]
  },
  {
   "cell_type": "code",
   "execution_count": null,
   "metadata": {
    "run_control": {
     "marked": true
    }
   },
   "outputs": [],
   "source": [
    "[   [   [       2 * element\n",
    "            for element in row if element % 2\n",
    "        ]\n",
    "        for row in three_rows if row[0] // 10 % 2\n",
    "    ]\n",
    "    for three_rows in M  if three_rows[0][0] // 100 % 2\n",
    "]"
   ]
  },
  {
   "cell_type": "markdown",
   "metadata": {},
   "source": [
    "## Iterators"
   ]
  },
  {
   "cell_type": "code",
   "execution_count": null,
   "metadata": {
    "run_control": {
     "marked": true
    }
   },
   "outputs": [],
   "source": [
    "# More generally, any iterable.\n",
    "R = range(5)\n",
    "\n",
    "iterator_1 = iter(R)\n",
    "iterator_1 is R\n",
    "next(iterator_1)\n",
    "next(iterator_1)\n",
    "iterator_2 = iter(R); iterator_2 is iterator_1\n",
    "next(iterator_2)\n",
    "next(iterator_1)\n",
    "next(iterator_2)"
   ]
  },
  {
   "cell_type": "code",
   "execution_count": null,
   "metadata": {
    "run_control": {
     "marked": true
    }
   },
   "outputs": [],
   "source": [
    "# More generally, any iterable.\n",
    "R = range(5)\n",
    "\n",
    "generator_expression = (e for e in R)\n",
    "iterator_1 = iter(generator_expression)\n",
    "\n",
    "iterator_1 is generator_expression\n",
    "next(iterator_1)\n",
    "next(iterator_1)\n",
    "iterator_2 = iter(generator_expression); iterator_2 is iterator_1\n",
    "next(iterator_2)\n",
    "next(iterator_1)\n",
    "next(iterator_2)"
   ]
  },
  {
   "cell_type": "code",
   "execution_count": null,
   "metadata": {
    "run_control": {
     "marked": true
    }
   },
   "outputs": [],
   "source": [
    "# More generally, any iterable.\n",
    "R = range(5)\n",
    "\n",
    "def generate_R_members():\n",
    "    for e in R:\n",
    "        yield e\n",
    "\n",
    "generator = generate_R_members()\n",
    "iterator_1 = iter(generator)\n",
    "\n",
    "iterator_1 is generator\n",
    "next(iterator_1)\n",
    "next(iterator_1)\n",
    "iterator_2 = iter(generator); iterator_2 is iterator_1\n",
    "next(iterator_2)\n",
    "next(iterator_1)\n",
    "next(iterator_2)"
   ]
  }
 ],
 "metadata": {
  "kernelspec": {
   "display_name": "Python 3",
   "language": "python",
   "name": "python3"
  },
  "language_info": {
   "codemirror_mode": {
    "name": "ipython",
    "version": 3
   },
   "file_extension": ".py",
   "mimetype": "text/x-python",
   "name": "python",
   "nbconvert_exporter": "python",
   "pygments_lexer": "ipython3",
   "version": "3.6.4"
  }
 },
 "nbformat": 4,
 "nbformat_minor": 1
}
