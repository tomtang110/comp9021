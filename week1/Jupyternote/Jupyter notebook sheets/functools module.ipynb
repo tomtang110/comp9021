{
 "cells": [
  {
   "cell_type": "code",
   "execution_count": null,
   "metadata": {},
   "outputs": [],
   "source": [
    "# Does not need to be executed if ~/.ipython/profile_default/ipython_config.py exists and contains:\n",
    "# get_config().InteractiveShell.ast_node_interactivity = 'all'\n",
    "\n",
    "from IPython.core.interactiveshell import InteractiveShell\n",
    "InteractiveShell.ast_node_interactivity = 'all'"
   ]
  },
  {
   "cell_type": "markdown",
   "metadata": {},
   "source": [
    "<h1 align=\"center\">Functools module</h1>"
   ]
  },
  {
   "cell_type": "code",
   "execution_count": 1,
   "metadata": {
    "init_cell": true
   },
   "outputs": [],
   "source": [
    "import functools"
   ]
  },
  {
   "cell_type": "code",
   "execution_count": null,
   "metadata": {},
   "outputs": [],
   "source": [
    "functools.reduce?"
   ]
  },
  {
   "cell_type": "code",
   "execution_count": null,
   "metadata": {
    "run_control": {
     "marked": true
    }
   },
   "outputs": [],
   "source": [
    "from operator import add\n",
    "\n",
    "list(functools.reduce(add, [[1, 2, 3], [4, 5], [6], [7, 8, 9, 10]]))\n",
    "set(functools.reduce(add, [[1, 2, 3], [4, 5], [6], [7, 8, 9, 10]], [0]))\n",
    "list(functools.reduce(lambda x, y: [y, x], ((1, 2), (11, 12, 13), (21,), (31, 32, 33, 34), (41, 42, 43))))\n",
    "tuple(functools.reduce(lambda x, y: [y, x], ((1, 2), (11, 12, 13), (21,), (31, 32, 33, 34), (41, 42, 43)), (0,)))"
   ]
  },
  {
   "cell_type": "code",
   "execution_count": null,
   "metadata": {},
   "outputs": [],
   "source": [
    "functools.cmp_to_key?"
   ]
  },
  {
   "cell_type": "code",
   "execution_count": null,
   "metadata": {
    "run_control": {
     "marked": true
    }
   },
   "outputs": [],
   "source": [
    "def cmp(x, y):\n",
    "    if x == y:\n",
    "        return 0\n",
    "    if x % 10 < y % 10 or x % 10 == y % 10 and x // 10 < y // 10:\n",
    "        return -1\n",
    "    return 1\n",
    "\n",
    "sorted([10, 11, 12, 30, 31, 32, 20, 21, 22], key = functools.cmp_to_key(cmp))"
   ]
  },
  {
   "cell_type": "code",
   "execution_count": null,
   "metadata": {},
   "outputs": [],
   "source": [
    "functools.namedtuple?"
   ]
  },
  {
   "cell_type": "code",
   "execution_count": null,
   "metadata": {
    "run_control": {
     "marked": true
    }
   },
   "outputs": [],
   "source": [
    "Point = functools.namedtuple('Point', ['x', 'y', 'z'])\n",
    "p1 = Point(11, 12, 13)\n",
    "p2 = Point(21, z = 23, y = 22)\n",
    "\n",
    "p1[0], p1[1], p1[2]\n",
    "p2.x, p2.y, p2.z"
   ]
  },
  {
   "cell_type": "code",
   "execution_count": null,
   "metadata": {},
   "outputs": [],
   "source": [
    "functools.partial?"
   ]
  },
  {
   "cell_type": "code",
   "execution_count": null,
   "metadata": {
    "run_control": {
     "marked": true
    }
   },
   "outputs": [],
   "source": [
    "def f(w, x, y, z, a, b, c, d):\n",
    "    return w, x, y, z, a, b, c, d\n",
    "\n",
    "g = functools.partial(f, 1, 2, b = 6,  d = 8)\n",
    "\n",
    "g(3, 4, c = 7, a = 5)"
   ]
  }
 ],
 "metadata": {
  "kernelspec": {
   "display_name": "Python 3",
   "language": "python",
   "name": "python3"
  },
  "language_info": {
   "codemirror_mode": {
    "name": "ipython",
    "version": 3
   },
   "file_extension": ".py",
   "mimetype": "text/x-python",
   "name": "python",
   "nbconvert_exporter": "python",
   "pygments_lexer": "ipython3",
   "version": "3.6.4"
  }
 },
 "nbformat": 4,
 "nbformat_minor": 1
}
