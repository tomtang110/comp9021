{
 "cells": [
  {
   "cell_type": "code",
   "execution_count": null,
   "metadata": {},
   "outputs": [],
   "source": [
    "# Does not need to be executed if ~/.ipython/profile_default/ipython_config.py exists and contains:\n",
    "# get_config().InteractiveShell.ast_node_interactivity = 'all'\n",
    "\n",
    "from IPython.core.interactiveshell import InteractiveShell\n",
    "InteractiveShell.ast_node_interactivity = 'all'"
   ]
  },
  {
   "cell_type": "markdown",
   "metadata": {},
   "source": [
    "<h1 align=\"center\">Lists and tuples</h1>"
   ]
  },
  {
   "cell_type": "code",
   "execution_count": null,
   "metadata": {
    "run_control": {
     "marked": true
    }
   },
   "outputs": [],
   "source": [
    "type([]), type([1]), type([1,]), type([1, 2]), type([1, 2,])\n",
    "type(()), type((1)), type((1,)), type((1, 2)), type((1, 2,))"
   ]
  },
  {
   "cell_type": "code",
   "execution_count": 1,
   "metadata": {},
   "outputs": [],
   "source": [
    "list.copy?"
   ]
  },
  {
   "cell_type": "code",
   "execution_count": null,
   "metadata": {
    "run_control": {
     "marked": true
    }
   },
   "outputs": [],
   "source": [
    "L1 = ['A', 'B', 'C']\n",
    "L2 = list(['A', 'B', 'C'])\n",
    "L3 = list(('A', 'B', 'C'))\n",
    "L4 = sorted({'A', 'B', 'C'})\n",
    "L5 = sorted({'A': 1, 'B': 2, 'C': 3})\n",
    "L6 = list('ABC')\n",
    "L7 = L1.copy()\n",
    "\n",
    "L1 == L2 == L3 == L4 == L5 == L6 == L7"
   ]
  },
  {
   "cell_type": "code",
   "execution_count": 2,
   "metadata": {
    "run_control": {
     "marked": true
    }
   },
   "outputs": [
    {
     "data": {
      "text/plain": [
       "True"
      ]
     },
     "execution_count": 2,
     "metadata": {},
     "output_type": "execute_result"
    }
   ],
   "source": [
    "T1 = 'A', 'B', 'C'\n",
    "T2 = tuple(['A', 'B', 'C'])\n",
    "T3 = tuple(('A', 'B', 'C'))\n",
    "T4 = tuple(sorted({'A', 'B', 'C'}))\n",
    "T5 = tuple(sorted({'A': 1, 'B': 2, 'C': 3}))\n",
    "T6 = tuple('ABC')\n",
    "\n",
    "T1 == T2 == T3 == T4 == T5 == T6"
   ]
  },
  {
   "cell_type": "code",
   "execution_count": null,
   "metadata": {
    "run_control": {
     "marked": true
    }
   },
   "outputs": [],
   "source": [
    "L = [1, 3, 5, 7, 3, 5, 5]\n",
    "\n",
    "0 not in L\n",
    "5 in L"
   ]
  },
  {
   "cell_type": "code",
   "execution_count": null,
   "metadata": {},
   "outputs": [],
   "source": [
    "len?\n"
   ]
  },
  {
   "cell_type": "code",
   "execution_count": null,
   "metadata": {
    "run_control": {
     "marked": true
    }
   },
   "outputs": [],
   "source": [
    "L = [1, 3, 5, 7, 3, 5, 5]\n",
    "\n",
    "len(L)"
   ]
  },
  {
   "cell_type": "code",
   "execution_count": 1,
   "metadata": {
    "run_control": {
     "marked": true
    }
   },
   "outputs": [
    {
     "data": {
      "text/plain": [
       "[0, 1, 4, 6]"
      ]
     },
     "execution_count": 1,
     "metadata": {},
     "output_type": "execute_result"
    }
   ],
   "source": [
    "L = [0, 2, 4, 6]\n",
    "\n",
    "# Indexing from left to right, starting from 0\n",
    "L[1]\n",
    "L[1] = 1; L"
   ]
  },
  {
   "cell_type": "code",
   "execution_count": 2,
   "metadata": {
    "run_control": {
     "marked": true
    }
   },
   "outputs": [
    {
     "data": {
      "text/plain": [
       "[0, 2, 3, 6]"
      ]
     },
     "execution_count": 2,
     "metadata": {},
     "output_type": "execute_result"
    }
   ],
   "source": [
    "L = [0, 2, 4, 6]\n",
    "\n",
    "# Indexing from right to left, starting from -1\n",
    "L[-2]\n",
    "L[-2] = 3; L"
   ]
  },
  {
   "cell_type": "code",
   "execution_count": null,
   "metadata": {},
   "outputs": [],
   "source": [
    "list.index?"
   ]
  },
  {
   "cell_type": "code",
   "execution_count": 3,
   "metadata": {
    "run_control": {
     "marked": true
    }
   },
   "outputs": [
    {
     "name": "stdout",
     "output_type": "stream",
     "text": [
      "Raises ValueError: 3 is not in list\n"
     ]
    }
   ],
   "source": [
    "L = [1, 3, 5, 1, 3, 5, 1, 3, 5]\n",
    "\n",
    "L.index(3)\n",
    "L.index(3, 2)\n",
    "try:\n",
    "    L.index(3, 2, 4)\n",
    "except ValueError as e:\n",
    "    print('Raises ValueError:', e)"
   ]
  },
  {
   "cell_type": "code",
   "execution_count": null,
   "metadata": {},
   "outputs": [],
   "source": [
    "list.count?"
   ]
  },
  {
   "cell_type": "code",
   "execution_count": null,
   "metadata": {
    "run_control": {
     "marked": true
    }
   },
   "outputs": [],
   "source": [
    "L = [1, 3, 5, 7, 3, 5, 5]\n",
    "\n",
    "L.count(5)"
   ]
  },
  {
   "cell_type": "code",
   "execution_count": null,
   "metadata": {},
   "outputs": [],
   "source": [
    "# For lists only, not tuples\n",
    "list.append?"
   ]
  },
  {
   "cell_type": "code",
   "execution_count": null,
   "metadata": {
    "run_control": {
     "marked": true
    }
   },
   "outputs": [],
   "source": [
    "L = []\n",
    "\n",
    "L.append(3); L\n",
    "L.append(9); L"
   ]
  },
  {
   "cell_type": "code",
   "execution_count": null,
   "metadata": {},
   "outputs": [],
   "source": [
    "# For lists only, not tuples\n",
    "list.insert?"
   ]
  },
  {
   "cell_type": "code",
   "execution_count": null,
   "metadata": {
    "run_control": {
     "marked": true
    }
   },
   "outputs": [],
   "source": [
    "L = [3, 9]\n",
    "\n",
    "L.insert(1, 7); L\n",
    "L.insert(-2, 5); L \n",
    "# 0 can be replaced by any negative integer at most equal to -len(L)\n",
    "L.insert(0, 1); L\n",
    "# 5 can be replaced by any larger integer\n",
    "L.insert(5, 11); L"
   ]
  },
  {
   "cell_type": "code",
   "execution_count": null,
   "metadata": {},
   "outputs": [],
   "source": [
    "# For lists only, not tuples\n",
    "list.extend?"
   ]
  },
  {
   "cell_type": "code",
   "execution_count": null,
   "metadata": {
    "run_control": {
     "marked": true
    }
   },
   "outputs": [],
   "source": [
    "L = [1, 3]\n",
    "\n",
    "L.extend([]); L\n",
    "L.extend([5]); L\n",
    "L.extend((7, 9)); L\n",
    "L.extend(range(3)); L"
   ]
  },
  {
   "cell_type": "code",
   "execution_count": null,
   "metadata": {},
   "outputs": [],
   "source": [
    "# For lists only, not tuples\n",
    "list.pop?"
   ]
  },
  {
   "cell_type": "code",
   "execution_count": null,
   "metadata": {
    "run_control": {
     "marked": true
    }
   },
   "outputs": [],
   "source": [
    "L = [0, 2, 4, 6]\n",
    "\n",
    "L.pop(), L\n",
    "L.pop(1), L\n",
    "L.pop(-2), L\n",
    "try:\n",
    "    L.pop(1)\n",
    "except IndexError as e:\n",
    "    print('Raises IndexError:', e)\n",
    "L.pop(), L\n",
    "try:\n",
    "    L.pop()\n",
    "except IndexError as e:\n",
    "    print('Raises IndexError:', e)"
   ]
  },
  {
   "cell_type": "code",
   "execution_count": null,
   "metadata": {},
   "outputs": [],
   "source": [
    "# For lists only, not tuples\n",
    "list.remove?"
   ]
  },
  {
   "cell_type": "code",
   "execution_count": null,
   "metadata": {
    "run_control": {
     "marked": true
    }
   },
   "outputs": [],
   "source": [
    "L = [2, 4, 6, 0, 2, 4]\n",
    "\n",
    "L.remove(4); L\n",
    "try:\n",
    "    L.remove(1)\n",
    "except ValueError as e:\n",
    "    print('Raises ValueError:', e)"
   ]
  },
  {
   "cell_type": "code",
   "execution_count": null,
   "metadata": {},
   "outputs": [],
   "source": [
    "# For lists only, not tuples\n",
    "list.clear?"
   ]
  },
  {
   "cell_type": "code",
   "execution_count": 2,
   "metadata": {
    "run_control": {
     "marked": true
    }
   },
   "outputs": [
    {
     "data": {
      "text/plain": [
       "[]"
      ]
     },
     "execution_count": 2,
     "metadata": {},
     "output_type": "execute_result"
    }
   ],
   "source": [
    "L = [2, 6, 0, 2, 4]\n",
    "L.clear()\n",
    "\n",
    "L"
   ]
  },
  {
   "cell_type": "code",
   "execution_count": null,
   "metadata": {},
   "outputs": [],
   "source": [
    "# For lists only, not tuples\n",
    "list.sort?"
   ]
  },
  {
   "cell_type": "code",
   "execution_count": null,
   "metadata": {
    "run_control": {
     "marked": true
    }
   },
   "outputs": [],
   "source": [
    "L1 = [2, 0, 5, 1, 4, 3]\n",
    "L2 = ['A', 'd', 'C', 'b']\n",
    "\n",
    "L1.sort(); L1\n",
    "L1.sort(reverse = True); L1\n",
    "L2.sort(); L2\n",
    "L2.sort(key = str.upper); L2"
   ]
  },
  {
   "cell_type": "code",
   "execution_count": null,
   "metadata": {},
   "outputs": [],
   "source": [
    "# For lists only, not tuples\n",
    "list.reverse?"
   ]
  },
  {
   "cell_type": "code",
   "execution_count": 3,
   "metadata": {
    "run_control": {
     "marked": true
    }
   },
   "outputs": [
    {
     "data": {
      "text/plain": [
       "[3, 4, 1, 5, 0, 2]"
      ]
     },
     "execution_count": 3,
     "metadata": {},
     "output_type": "execute_result"
    }
   ],
   "source": [
    "L = [2, 0, 5, 1, 4, 3]\n",
    "L.reverse()\n",
    "\n",
    "L"
   ]
  },
  {
   "cell_type": "code",
   "execution_count": null,
   "metadata": {
    "run_control": {
     "marked": true
    }
   },
   "outputs": [],
   "source": [
    "L = [0, 2, 4, 6]\n",
    "\n",
    "# Alternatively: L[2: len(L)]\n",
    "L[2: ]\n",
    "# Would raise TypeError if L was a tuple \n",
    "L[2: ] = []; L\n",
    "# Would raise TypeError if L was a tuple \n",
    "L[2: ] = [4, 5, 6]; L\n",
    "L[-2: ]\n",
    "# Would raise TypeError if L was a tuple \n",
    "L[-2: ] = [1, 2, 3]; L"
   ]
  },
  {
   "cell_type": "code",
   "execution_count": null,
   "metadata": {
    "run_control": {
     "marked": true
    }
   },
   "outputs": [],
   "source": [
    "L = [0, 2, 4, 1, 2, 3]\n",
    "\n",
    "# Alternatively: L[0: 4]\n",
    "L[: 4]\n",
    "# Would raise TypeError if L was a tuple \n",
    "L[: 4] = [3]; L\n",
    "L[1: -1]\n",
    "# Would raise TypeError if L was a tuple \n",
    "L[1: -1] = [2, 4, 2]; L\n",
    "# The second occurrence of 3 can be replaced by any smaller integer\n",
    "L[3: 3]\n",
    "# Would raise TypeError if L was a tuple \n",
    "L[3: 3] = [1]; L"
   ]
  },
  {
   "cell_type": "code",
   "execution_count": null,
   "metadata": {
    "run_control": {
     "marked": true
    }
   },
   "outputs": [],
   "source": [
    "L = [3, 2, 4, 1, 2, 3]\n",
    "\n",
    "# Alternatively: L[0: len(L): 2]\n",
    "L[: : 2]\n",
    "L[1: : 2]\n",
    "# Would raise TypeError if L was a tuple \n",
    "L[1: : 2] = [-2, -1, -3]; L\n",
    "L[: 4: 2]\n",
    "L[1: 5: 2]\n",
    "# Alternatively: L[-1: -len(L) - 1: -2]\n",
    "L[: : -2]\n",
    "L[: 1: -2]\n",
    "L[4: : -2]\n",
    "L[4: 1: -2]\n",
    "# Would raise TypeError if L was a tuple \n",
    "L[4: 1: -2] = [-2, -4]; L"
   ]
  },
  {
   "cell_type": "code",
   "execution_count": null,
   "metadata": {
    "run_control": {
     "marked": true
    }
   },
   "outputs": [],
   "source": [
    "L = [3, -2, -4, -1, -2, -3]\n",
    "\n",
    "# All three statements would raise TypeError if L was a tuple \n",
    "del L[0]; L\n",
    "del L[-3: 0: -1]; L\n",
    "del L[: ]; L\n",
    "try:\n",
    "    del L[0]\n",
    "except IndexError as e:\n",
    "    print('Raises IndexError:', e)"
   ]
  },
  {
   "cell_type": "code",
   "execution_count": 4,
   "metadata": {},
   "outputs": [],
   "source": [
    "slice?"
   ]
  },
  {
   "cell_type": "code",
   "execution_count": null,
   "metadata": {
    "run_control": {
     "marked": true
    }
   },
   "outputs": [],
   "source": [
    "R = range(10)\n",
    "L = list(range(10))\n",
    "T = tuple(range(10))\n",
    "\n",
    "s = slice(2); s.start, s.stop, s.step\n",
    "R[s], L[s], T[s]\n",
    "s = slice(2, 8);s.start, s.stop, s.step\n",
    "R[s], L[s], T[s]\n",
    "s = slice(2, 8, 3); s.start, s.stop, s.step\n",
    "R[s], L[s], T[s]"
   ]
  },
  {
   "cell_type": "code",
   "execution_count": null,
   "metadata": {
    "run_control": {
     "marked": true
    }
   },
   "outputs": [],
   "source": [
    "L = [1] + [2, 3]; L\n",
    "L += [4, 5, 6]; L\n",
    "L = [1, 2] * 3; L\n",
    "L *= 2; L"
   ]
  },
  {
   "cell_type": "code",
   "execution_count": null,
   "metadata": {
    "run_control": {
     "marked": true
    }
   },
   "outputs": [],
   "source": [
    "L1 = [1]\n",
    "L2 = L1\n",
    "L2 += [2, 3]\n",
    "L2 = L2 + [4, 5]\n",
    "\n",
    "L1\n",
    "L2"
   ]
  },
  {
   "cell_type": "code",
   "execution_count": null,
   "metadata": {
    "run_control": {
     "marked": true
    }
   },
   "outputs": [],
   "source": [
    "T1 = (1,)\n",
    "T2 = T1\n",
    "T2 += (2, 3)\n",
    "T2 = T2 + (4, 5)\n",
    "\n",
    "T1\n",
    "T2"
   ]
  },
  {
   "cell_type": "code",
   "execution_count": null,
   "metadata": {
    "run_control": {
     "marked": true
    }
   },
   "outputs": [],
   "source": [
    "L = [[[1, 2, 3, 4], [5], [6, 7], [8, 9, 10]],\n",
    "     [[11, 12], [13, 14, 15, 16, 18], [19, 20]],\n",
    "     [[21], [22], [23, 24, 25], [26, 27], [28, 29, 30]]\n",
    "    ]\n",
    "\n",
    "L[1]\n",
    "L[1][1]\n",
    "L[1][1][3]"
   ]
  },
  {
   "cell_type": "code",
   "execution_count": null,
   "metadata": {
    "run_control": {
     "marked": true
    }
   },
   "outputs": [],
   "source": [
    "L = [[[1, 2, 3, 4], [5], [6, 7], [8, 9, 10]],\n",
    "     [[11, 12], [13, 14, 15, 16, 18], [19, 20]],\n",
    "     [[21], [22], [23, 24, 25], [26, 27], [28, 29, 30]]\n",
    "    ]\n",
    "L1 = L\n",
    "\n",
    "L[1][1][3] = [0]; L\n",
    "L[1][1] = 0; L\n",
    "# Would raise TypeError if L was a tuple \n",
    "L[1] = []; L\n",
    "L1 == L"
   ]
  },
  {
   "cell_type": "code",
   "execution_count": null,
   "metadata": {
    "run_control": {
     "marked": true
    }
   },
   "outputs": [],
   "source": [
    "from copy import deepcopy\n",
    "\n",
    "L = [list(range(1, 4)), list(range(4, 7)), list(range(7, 10))]; L\n",
    "# Would raise AttributeError if L was a tuple \n",
    "L1 = L.copy()\n",
    "L2 = deepcopy(L)\n",
    "# Would raise TypeError if L was a tuple \n",
    "L[0] = [0]\n",
    "L[1][1] = -5\n",
    "\n",
    "L\n",
    "L1\n",
    "L2"
   ]
  }
 ],
 "metadata": {
  "kernelspec": {
   "display_name": "Python 3",
   "language": "python",
   "name": "python3"
  },
  "language_info": {
   "codemirror_mode": {
    "name": "ipython",
    "version": 3
   },
   "file_extension": ".py",
   "mimetype": "text/x-python",
   "name": "python",
   "nbconvert_exporter": "python",
   "pygments_lexer": "ipython3",
   "version": "3.6.3"
  }
 },
 "nbformat": 4,
 "nbformat_minor": 1
}
