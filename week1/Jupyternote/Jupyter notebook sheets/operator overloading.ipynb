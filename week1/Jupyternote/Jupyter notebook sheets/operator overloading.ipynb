{
 "cells": [
  {
   "cell_type": "code",
   "execution_count": null,
   "metadata": {},
   "outputs": [],
   "source": [
    "# Does not need to be executed if ~/.ipython/profile_default/ipython_config.py exists and contains:\n",
    "# get_config().InteractiveShell.ast_node_interactivity = 'all'\n",
    "\n",
    "from IPython.core.interactiveshell import InteractiveShell\n",
    "InteractiveShell.ast_node_interactivity = 'all'"
   ]
  },
  {
   "cell_type": "markdown",
   "metadata": {},
   "source": [
    "<h1 align=\"center\">Operator overloading</h1>"
   ]
  },
  {
   "cell_type": "code",
   "execution_count": null,
   "metadata": {
    "run_control": {
     "marked": true
    }
   },
   "outputs": [],
   "source": [
    "class C:\n",
    "    def __init__(self):\n",
    "        print('Object creation')\n",
    "        \n",
    "I = C()"
   ]
  },
  {
   "cell_type": "code",
   "execution_count": null,
   "metadata": {
    "run_control": {
     "marked": true
    }
   },
   "outputs": [],
   "source": [
    "class C:\n",
    "    def __call__(self):\n",
    "        print('Calling object!')\n",
    "\n",
    "I = C()\n",
    "\n",
    "I()"
   ]
  },
  {
   "cell_type": "code",
   "execution_count": null,
   "metadata": {
    "run_control": {
     "marked": true
    }
   },
   "outputs": [],
   "source": [
    "class C:\n",
    "    def __repr__(self):\n",
    "        return 'Using __repr__'\n",
    "\n",
    "I = C()\n",
    "\n",
    "print(I)\n",
    "I"
   ]
  },
  {
   "cell_type": "code",
   "execution_count": null,
   "metadata": {
    "run_control": {
     "marked": true
    }
   },
   "outputs": [],
   "source": [
    "class C:\n",
    "    def __repr__(self):\n",
    "        return 'Using __repr__'    \n",
    "    def __str__(self):\n",
    "        return 'Using __str__'\n",
    "\n",
    "I = C()\n",
    "\n",
    "print(I)\n",
    "I"
   ]
  },
  {
   "cell_type": "code",
   "execution_count": null,
   "metadata": {
    "run_control": {
     "marked": true
    }
   },
   "outputs": [],
   "source": [
    "class C:\n",
    "    def __init__(self, datum):\n",
    "        self.datum = datum \n",
    "    def __len__(self):\n",
    "        return len(self.datum)\n",
    "\n",
    "I1 = C('')\n",
    "I2 = C('X')\n",
    "\n",
    "if I1:\n",
    "    print('Datum is not the empty string')\n",
    "else:\n",
    "    print('Datum is the empty string')\n",
    "print('The length of datum is:', len(I1))\n",
    "print()\n",
    "if I2:\n",
    "    print('Datum is not the empty string')\n",
    "else:\n",
    "    print('Datum is the empty string')\n",
    "print('The length of datum is:', len(I2))"
   ]
  },
  {
   "cell_type": "code",
   "execution_count": null,
   "metadata": {
    "run_control": {
     "marked": true
    }
   },
   "outputs": [],
   "source": [
    "class C:\n",
    "    def __init__(self, datum):\n",
    "        self.datum = datum    \n",
    "    def __bool__(self):\n",
    "        print('Let me evaluate...')\n",
    "        return bool(self.datum)\n",
    "    def __len__(self):\n",
    "        return len(self.datum)\n",
    "\n",
    "I1 = C('')\n",
    "I2 = C('X')\n",
    "\n",
    "# __bool__() takes over __len__().\n",
    "if I1:\n",
    "    print('Datum is not the empty string')\n",
    "else:\n",
    "    print('Datum is the empty string')\n",
    "print()\n",
    "# __bool__() takes over __len__().\n",
    "if I2:\n",
    "    print('Datum is not the empty string')\n",
    "else:\n",
    "    print('Datum is the empty string')"
   ]
  },
  {
   "cell_type": "code",
   "execution_count": null,
   "metadata": {
    "run_control": {
     "marked": true
    }
   },
   "outputs": [],
   "source": [
    "class C:\n",
    "    def __index__(self):\n",
    "        return 16     \n",
    "    def __getitem__(self, index):\n",
    "        if isinstance(index, int):\n",
    "            print('Index:', index)\n",
    "        else:\n",
    "            print('Slice:', index, '--', index.start, index.stop, index.step)\n",
    "        return range(0, 100, 10)[index]\n",
    "    def __setitem__(self, index, value):\n",
    "        if isinstance(index, int):\n",
    "            print('1. Index:', index)\n",
    "            print('2. Value:', value)\n",
    "        else:\n",
    "            print('1. Slice:', index, '--', index.start, index.stop, index.step)\n",
    "            print('2. Value:', value)\n",
    "\n",
    "I = C()\n",
    "\n",
    "bin(I), oct(I), hex(I)\n",
    "range(10, 30)[I]\n",
    "I[4]\n",
    "I[2: 10: 3]\n",
    "I[7] = 'X'\n",
    "I[2: 10: 3] = 'X'\n",
    "# Example of an iteration context.\n",
    "# When index becomes equal to 10, IndexError is raised.\n",
    "list(I)\n",
    "30 in I\n",
    "35 in I"
   ]
  },
  {
   "cell_type": "code",
   "execution_count": null,
   "metadata": {
    "run_control": {
     "marked": true
    }
   },
   "outputs": [],
   "source": [
    "class C:\n",
    "    def __init__(self):\n",
    "        self.data = list(range(0, 100, 10))      \n",
    "    def __getitem__(self, index):\n",
    "        return self.data[index]\n",
    "    def __iter__(self):\n",
    "        return self\n",
    "    def __next__(self):\n",
    "        try:\n",
    "            return self.data.pop()\n",
    "        except IndexError:\n",
    "            raise StopIteration\n",
    "\n",
    "# __iter__() takes over __getitem__() in an iteration context.\n",
    "list(C())\n",
    "# __iter__() takes over __getitem__() for membership test\n",
    "30 in C()\n",
    "35 in C()"
   ]
  },
  {
   "cell_type": "code",
   "execution_count": null,
   "metadata": {
    "run_control": {
     "marked": true
    }
   },
   "outputs": [],
   "source": [
    "class C:\n",
    "    def __init__(self):\n",
    "        self.data = list(range(0, 100, 10))     \n",
    "    def __getitem__(self, index):\n",
    "        return self.data[index]\n",
    "    def __iter__(self):\n",
    "        return self\n",
    "    def __next__(self):\n",
    "        try:\n",
    "            return self.data.pop()\n",
    "        except IndexError:\n",
    "            raise StopIteration      \n",
    "    def __contains__(self, value):\n",
    "        if value in self.data:\n",
    "            print('Contains', value)\n",
    "        else:\n",
    "            print('Does not contain', value)\n",
    "\n",
    "#  __contains()__ takes over __iter__() for membership test\n",
    "30 in C()\n",
    "35 in C()"
   ]
  },
  {
   "cell_type": "code",
   "execution_count": null,
   "metadata": {
    "run_control": {
     "marked": true
    }
   },
   "outputs": [],
   "source": [
    "class C:\n",
    "    def __init__(self, datum):\n",
    "        self.datum = datum\n",
    "    def __lt__(self, value):\n",
    "        return self.datum < value\n",
    "    def __le__(self, value):\n",
    "        return self.datum <= value\n",
    "    def __eq__(self, value):\n",
    "        return self.datum == value\n",
    "    # Better to implement __eq__() but not __ne__(),\n",
    "    # in which case the negation of the value returned by\n",
    "    # a == b will be used when evaluating a != b.\n",
    "    def __ne__(self, value):\n",
    "        return self.datum != value\n",
    "    def __gt__(self, value):\n",
    "        return self.datum > value\n",
    "    def __ge__(self, value):\n",
    "        return self.datum >= value\n",
    "\n",
    "I = C(2)\n",
    "J = C(3)\n",
    "\n",
    "I < J, I <= J, I == J, I != J, I > J, I >= J"
   ]
  },
  {
   "cell_type": "markdown",
   "metadata": {},
   "source": [
    "Illustration of __add__, __radd__ and __iadd__\n",
    "as examples for the following list of operators, each of which has left and in-place variants:\n",
    "\n",
    "* __add__ for +\n",
    "* __sub__ for -\n",
    "* __mul__ for *\n",
    "* __truediv__ for /\n",
    "* __floordiv__ for //\n",
    "* __mod__ for %\n",
    "* __pow__ for **\n",
    "* __lshift__ for <<\n",
    "* __rshift__ for >>\n",
    "* __and__ for &\n",
    "* __xor__ for ^\n",
    "* __or__ for |"
   ]
  },
  {
   "cell_type": "code",
   "execution_count": null,
   "metadata": {
    "run_control": {
     "marked": true
    }
   },
   "outputs": [],
   "source": [
    "class C:\n",
    "    def __init__(self, datum):\n",
    "        self.datum = datum  \n",
    "    def __add__(self, value):\n",
    "        return C(self.datum + value)\n",
    "\n",
    "I = C(2)\n",
    "J = I + 3\n",
    "\n",
    "J.datum\n",
    "try:\n",
    "    3 + I\n",
    "except TypeError as e:\n",
    "    print('Raises TypeError:', e)\n",
    "I += 5; I.datum"
   ]
  },
  {
   "cell_type": "code",
   "execution_count": null,
   "metadata": {
    "run_control": {
     "marked": true
    }
   },
   "outputs": [],
   "source": [
    "class C:\n",
    "    def __init__(self, datum):\n",
    "        self.datum = datum\n",
    "    def __add__(self, value):\n",
    "        print('Executing __add__')\n",
    "        return self.datum + value\n",
    "    def __radd__(self, value):\n",
    "        print('Executing __radd__')\n",
    "        return self + value\n",
    "        # Alternatively:\n",
    "        # return self.__add__(value)\n",
    "    # A possible alternative:\n",
    "    # __radd__ = __add__\n",
    "    def __iadd__(self, value):\n",
    "        print('Executing __iadd__')\n",
    "        self.datum += value\n",
    "        return self\n",
    "\n",
    "I = C(2)\n",
    "\n",
    "I + 3\n",
    "4 + I\n",
    "I += 5\n",
    "I.datum"
   ]
  },
  {
   "cell_type": "code",
   "execution_count": null,
   "metadata": {
    "run_control": {
     "marked": true
    }
   },
   "outputs": [],
   "source": [
    "class C:\n",
    "    def __init__(self, datum):\n",
    "        self.datum = datum\n",
    "    def __getattr__(self, attribute):\n",
    "        if attribute == 'accepted_undefined':\n",
    "            print('Accepted undefined')\n",
    "        elif attribute == '__add__':\n",
    "            print('Accepted addition')\n",
    "            return getattr(self.datum, attribute)\n",
    "\n",
    "I = C(2)\n",
    "I.__mul__ = lambda value: I.datum * value\n",
    "\n",
    "I.datum\n",
    "I.accepted_undefined\n",
    "I.unaccepted_undefined is None\n",
    "I.__add__(4)\n",
    "try:\n",
    "    I + 4\n",
    "except TypeError as e:\n",
    "    print('Raises TypeError:', e)\n",
    "I.__mul__(4)\n",
    "try:\n",
    "    I * 4\n",
    "except TypeError as e:\n",
    "    print('Raises TypeError:', e)"
   ]
  },
  {
   "cell_type": "code",
   "execution_count": null,
   "metadata": {
    "run_control": {
     "marked": true
    }
   },
   "outputs": [],
   "source": [
    "class C:\n",
    "    def __init__(self, datum):\n",
    "        self.datum = datum\n",
    "    \n",
    "    def __getattribute__(self, attribute):\n",
    "        if attribute == 'accepted_undefined':\n",
    "            return 'Accepted undefined'\n",
    "        elif attribute == '__add__':\n",
    "            print('Accepted addition')\n",
    "            return getattr(object.__getattribute__(self, 'datum'), attribute)\n",
    "\n",
    "I = C(2)\n",
    "I.__mul__ = lambda value: object.__getattribute__(self, 'datum') * value\n",
    "\n",
    "I.datum is None\n",
    "I.accepted_undefined\n",
    "I.unaccepted_undefined is None\n",
    "I.__add__(4)\n",
    "try:\n",
    "    I + 4\n",
    "except TypeError as e:\n",
    "    print('Raises TypeError:', e)\n",
    "try:\n",
    "    I.__mul__(4)\n",
    "except TypeError as e:\n",
    "    print('Raises TypeError:', e)"
   ]
  },
  {
   "cell_type": "code",
   "execution_count": null,
   "metadata": {
    "run_control": {
     "marked": true
    }
   },
   "outputs": [],
   "source": [
    "class C:\n",
    "    def __setattr__(self, attribute, value):\n",
    "        if attribute == 'handled_attribute':\n",
    "            self.__dict__['handled_attribute'] = value\n",
    "\n",
    "I = C()\n",
    "I.handled_attribute = 'X'\n",
    "I.other_attribute = 'Y'\n",
    "\n",
    "I.handled_attribute\n",
    "try:\n",
    "    I.other_attribute\n",
    "except AttributeError as e:\n",
    "    print('Raises AttributeError:', e)"
   ]
  },
  {
   "cell_type": "code",
   "execution_count": null,
   "metadata": {
    "run_control": {
     "marked": true
    }
   },
   "outputs": [],
   "source": [
    "class C:\n",
    "    def __init__(self):\n",
    "        self.datum_1 = 'X'\n",
    "        self.datum_2 = 'Y'\n",
    "        self.datum_3 = 'Z'\n",
    "    def __delattr__(self, attribute):\n",
    "        if attribute == 'datum_1':\n",
    "            print('datum_1 deleted')\n",
    "        elif attribute == 'datum_2':\n",
    "            print('datum_2 deleted')\n",
    "            del self.__dict__['datum_2']\n",
    "\n",
    "I = C()\n",
    "\n",
    "del I.datum_1\n",
    "del I.datum_2\n",
    "I.__dict__"
   ]
  },
  {
   "cell_type": "code",
   "execution_count": null,
   "metadata": {
    "run_control": {
     "marked": true
    }
   },
   "outputs": [],
   "source": [
    "class C:\n",
    "    def __del__(self):\n",
    "        print('Bye C object!')\n",
    "\n",
    "I = C()\n",
    "\n",
    "I = 'Something else'"
   ]
  }
 ],
 "metadata": {
  "kernelspec": {
   "display_name": "Python 3",
   "language": "python",
   "name": "python3"
  },
  "language_info": {
   "codemirror_mode": {
    "name": "ipython",
    "version": 3
   },
   "file_extension": ".py",
   "mimetype": "text/x-python",
   "name": "python",
   "nbconvert_exporter": "python",
   "pygments_lexer": "ipython3",
   "version": "3.6.4"
  }
 },
 "nbformat": 4,
 "nbformat_minor": 1
}
