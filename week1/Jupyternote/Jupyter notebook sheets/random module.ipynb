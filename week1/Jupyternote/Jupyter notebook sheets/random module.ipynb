{
 "cells": [
  {
   "cell_type": "code",
   "execution_count": null,
   "metadata": {},
   "outputs": [],
   "source": [
    "# Does not need to be executed if ~/.ipython/profile_default/ipython_config.py exists and contains:\n",
    "# get_config().InteractiveShell.ast_node_interactivity = 'all'\n",
    "\n",
    "from IPython.core.interactiveshell import InteractiveShell\n",
    "InteractiveShell.ast_node_interactivity = 'all'"
   ]
  },
  {
   "cell_type": "code",
   "execution_count": null,
   "metadata": {
    "init_cell": true
   },
   "outputs": [],
   "source": [
    "%config InlineBackend.figure_format = 'retina'"
   ]
  },
  {
   "cell_type": "markdown",
   "metadata": {},
   "source": [
    "<h1 align=\"center\">Random module</h1>"
   ]
  },
  {
   "cell_type": "code",
   "execution_count": null,
   "metadata": {
    "init_cell": true
   },
   "outputs": [],
   "source": [
    "import random"
   ]
  },
  {
   "cell_type": "code",
   "execution_count": null,
   "metadata": {},
   "outputs": [],
   "source": [
    "random.randint?"
   ]
  },
  {
   "cell_type": "code",
   "execution_count": null,
   "metadata": {},
   "outputs": [],
   "source": [
    "random.randrange?"
   ]
  },
  {
   "cell_type": "code",
   "execution_count": null,
   "metadata": {},
   "outputs": [],
   "source": [
    "random.choice?"
   ]
  },
  {
   "cell_type": "code",
   "execution_count": null,
   "metadata": {
    "run_control": {
     "marked": true
    }
   },
   "outputs": [],
   "source": [
    "%matplotlib inline\n",
    "\n",
    "from matplotlib.pyplot import bar, xticks\n",
    "\n",
    "counts = [0] * 10\n",
    "for _ in range(100):\n",
    "    counts[random.randint(0, 9)] += 1\n",
    "bar(range(10), counts, 0.2)\n",
    "counts = [0] * 10\n",
    "for _ in range(100):\n",
    "    counts[random.randrange(0, 10)] += 1\n",
    "bar([0.2 + i for i in range(10)], counts, 0.2, color = 'r')\n",
    "counts = [0] * 10\n",
    "for _ in range(100):\n",
    "    counts[random.choice(range(0, 10))] += 1\n",
    "bar([0.4 + i for i in range(10)], counts, 0.2, color = 'y')\n",
    "xticks([i + 0.4 for i in range(10)], range(0, 10));"
   ]
  },
  {
   "cell_type": "code",
   "execution_count": null,
   "metadata": {},
   "outputs": [],
   "source": [
    "random.random?"
   ]
  },
  {
   "cell_type": "code",
   "execution_count": null,
   "metadata": {},
   "outputs": [],
   "source": [
    "random.getstate?"
   ]
  },
  {
   "cell_type": "code",
   "execution_count": null,
   "metadata": {},
   "outputs": [],
   "source": [
    "random.setstate?"
   ]
  },
  {
   "cell_type": "code",
   "execution_count": null,
   "metadata": {
    "run_control": {
     "marked": true
    }
   },
   "outputs": [],
   "source": [
    "for _ in range(5):\n",
    "    print(random.random(), end = ' ')\n",
    "state = random.getstate()\n",
    "print()\n",
    "for _ in range(5):\n",
    "    print(random.random(), end = ' ')\n",
    "print()\n",
    "random.setstate(state)\n",
    "for _ in range(5):\n",
    "    print(random.random(), end = ' ')"
   ]
  },
  {
   "cell_type": "code",
   "execution_count": null,
   "metadata": {},
   "outputs": [],
   "source": [
    "random.getrandbits?"
   ]
  },
  {
   "cell_type": "code",
   "execution_count": null,
   "metadata": {
    "run_control": {
     "marked": true
    }
   },
   "outputs": [],
   "source": [
    "for k in range(1, 6):\n",
    "    for _ in range(20):\n",
    "        print(f'{random.getrandbits(k):<4d}', end = '')"
   ]
  },
  {
   "cell_type": "code",
   "execution_count": null,
   "metadata": {},
   "outputs": [],
   "source": [
    "random.shuffle?"
   ]
  },
  {
   "cell_type": "code",
   "execution_count": null,
   "metadata": {
    "run_control": {
     "marked": true
    }
   },
   "outputs": [],
   "source": [
    "L = list(range(6))\n",
    "\n",
    "for i in range(5):\n",
    "    random.shuffle(L)\n",
    "    print(L)"
   ]
  },
  {
   "cell_type": "code",
   "execution_count": null,
   "metadata": {},
   "outputs": [],
   "source": [
    "random.sample?"
   ]
  },
  {
   "cell_type": "code",
   "execution_count": null,
   "metadata": {
    "run_control": {
     "marked": true
    }
   },
   "outputs": [],
   "source": [
    "for k in range(1, 6):\n",
    "    for _ in range(5):\n",
    "        print(random.sample(range(100), k), end = ' ')\n",
    "    print()"
   ]
  },
  {
   "cell_type": "code",
   "execution_count": null,
   "metadata": {},
   "outputs": [],
   "source": [
    "random.seed?"
   ]
  },
  {
   "cell_type": "code",
   "execution_count": null,
   "metadata": {
    "run_control": {
     "marked": true
    }
   },
   "outputs": [],
   "source": [
    "random.seed()\n",
    "\n",
    "for _ in range(20):\n",
    "    print(f'{random.randrange(0, 100, 5):<4d}', end = '')\n",
    "print()\n",
    "for n in range(2):\n",
    "    print()\n",
    "    random.seed(0)\n",
    "    for _ in range(20):\n",
    "        print(f'{random.randrange(0, 100, 5):<4d}', end = '')\n",
    "    print()\n",
    "    random.seed(1)\n",
    "    for _ in range(20):\n",
    "        print(f'{random.randrange(0, 100, 5):<4d}', end = '')\n",
    "    print()"
   ]
  },
  {
   "cell_type": "markdown",
   "metadata": {},
   "source": [
    "Uniform density function $\\frac{x}{b - a}$ over $[a,b]$ illustrated with $a=-1$ and $b=1$"
   ]
  },
  {
   "cell_type": "code",
   "execution_count": null,
   "metadata": {
    "init_cell": true
   },
   "outputs": [],
   "source": [
    "def to_percent(x, _):\n",
    "    return f'{x / nb_of_values * 100:.1f}%'"
   ]
  },
  {
   "cell_type": "code",
   "execution_count": null,
   "metadata": {},
   "outputs": [],
   "source": [
    "random.uniform?"
   ]
  },
  {
   "cell_type": "code",
   "execution_count": null,
   "metadata": {
    "run_control": {
     "marked": true
    }
   },
   "outputs": [],
   "source": [
    "%matplotlib inline\n",
    "\n",
    "from matplotlib.pyplot import hist, gca\n",
    "from matplotlib.ticker import FuncFormatter\n",
    "\n",
    "generated_values = [random.uniform(-1, 1) for _ in range(100000)]\n",
    "gca().yaxis.set_major_formatter(FuncFormatter(to_percent))\n",
    "hist(generated_values, 20);"
   ]
  },
  {
   "cell_type": "markdown",
   "metadata": {},
   "source": [
    "Normal density function $\\frac{1}{\\sqrt(2\\pi\\sigma)}e^{\\frac{-(x-\\mu)^2}{2\\sigma^2}}$ illustrated with $\\mu=15$ and $\\sigma=8$"
   ]
  },
  {
   "cell_type": "code",
   "execution_count": null,
   "metadata": {},
   "outputs": [],
   "source": [
    "random.gauss?"
   ]
  },
  {
   "cell_type": "code",
   "execution_count": null,
   "metadata": {
    "run_control": {
     "marked": true
    }
   },
   "outputs": [],
   "source": [
    "%matplotlib inline\n",
    "\n",
    "from matplotlib.pyplot import hist, gca\n",
    "from matplotlib.ticker import FuncFormatter\n",
    "\n",
    "# Alternatively:    random.normalvariate(15, 8)\n",
    "generated_values = [random.gauss(15, 8) for _ in range(100000)]\n",
    "gca().yaxis.set_major_formatter(FuncFormatter(to_percent))\n",
    "hist(generated_values, 100);"
   ]
  },
  {
   "cell_type": "markdown",
   "metadata": {},
   "source": [
    "Log normal density function, that is, the density function of the random variable $e^X$ where $X$ is a normal random variable, illustrated with $\\mu_X=10000$ and $\\sigma_X=2$"
   ]
  },
  {
   "cell_type": "code",
   "execution_count": null,
   "metadata": {},
   "outputs": [],
   "source": [
    "random.lognormvariate?"
   ]
  },
  {
   "cell_type": "code",
   "execution_count": null,
   "metadata": {
    "run_control": {
     "marked": true
    }
   },
   "outputs": [],
   "source": [
    "%matplotlib inline\n",
    "\n",
    "from matplotlib.pyplot import hist, gca, semilogx\n",
    "from matplotlib.ticker import FuncFormatter\n",
    "from math import exp, log\n",
    "\n",
    "generated_values = [random.lognormvariate(log(10000), 2) for _ in range(100000)]\n",
    "minimal_value = min(generated_values)\n",
    "maximal_value = max(generated_values)\n",
    "gca().set_xscale('log')\n",
    "gca().yaxis.set_major_formatter(FuncFormatter(to_percent))\n",
    "hist(generated_values, [exp((log(maximal_value) - log(minimal_value)) * i / 100) for i in range(101)]);"
   ]
  },
  {
   "cell_type": "markdown",
   "metadata": {},
   "source": [
    "Exponential density function $\\lambda e^{-\\lambda x}$ illustrated with $\\lambda=7$"
   ]
  },
  {
   "cell_type": "code",
   "execution_count": null,
   "metadata": {},
   "outputs": [],
   "source": [
    "random.expovariate?"
   ]
  },
  {
   "cell_type": "code",
   "execution_count": null,
   "metadata": {
    "run_control": {
     "marked": true
    }
   },
   "outputs": [],
   "source": [
    "%matplotlib inline\n",
    "\n",
    "from matplotlib.pyplot import hist, gca, text\n",
    "from matplotlib.ticker import FuncFormatter\n",
    "\n",
    "generated_values = [random.expovariate(7) for _ in range(100000)]\n",
    "gca().yaxis.set_major_formatter(FuncFormatter(to_percent))\n",
    "hist(generated_values, 50)\n",
    "text(1, 10000, 'Mean: $\\\\frac{1}{7}\\\\approx 0.14$');"
   ]
  },
  {
   "cell_type": "markdown",
   "metadata": {},
   "source": [
    "Given $a\\leq b$ and $c\\in[a,b]$ (the *mode*), the density function of the *triangular* distribution over $[a,b]$ is equal to:\n",
    "* $\\frac{2(x-a)}{(b-a)(c-a)}$ if $a<x<c$,\n",
    "* $\\frac{2}{b-a}$ if $x=c$,\n",
    "* $\\frac{2(b-x)}{(b-a)(b-c)}$ if $c<x<b$.\n",
    "\n",
    "It is illustrated with $a=1$, $b=4$ and $c=3$."
   ]
  },
  {
   "cell_type": "code",
   "execution_count": null,
   "metadata": {},
   "outputs": [],
   "source": [
    "random.triangular?"
   ]
  },
  {
   "cell_type": "code",
   "execution_count": null,
   "metadata": {
    "run_control": {
     "marked": true
    }
   },
   "outputs": [],
   "source": [
    "%matplotlib inline\n",
    "\n",
    "from matplotlib.pyplot import hist, gca\n",
    "from matplotlib.ticker import FuncFormatter\n",
    "\n",
    "generated_values = [random.triangular(1, 4, 3) for _ in range(100000)]\n",
    "gca().yaxis.set_major_formatter(FuncFormatter(to_percent))\n",
    "hist(generated_values, 20);"
   ]
  },
  {
   "cell_type": "markdown",
   "metadata": {},
   "source": [
    "Given $\\alpha>0$, the density function of the *Pareto* distribution of parameter $\\alpha$, defined over $[1,\\infty)$, is equal to $\\frac{\\alpha}{x^{\\alpha+1}}$.\n",
    "It is illustrated with $\\alpha=10000$."
   ]
  },
  {
   "cell_type": "code",
   "execution_count": null,
   "metadata": {},
   "outputs": [],
   "source": [
    "random.paretovariate?"
   ]
  },
  {
   "cell_type": "code",
   "execution_count": null,
   "metadata": {
    "run_control": {
     "marked": true
    }
   },
   "outputs": [],
   "source": [
    "%matplotlib inline\n",
    "\n",
    "from matplotlib.pyplot import hist, gca\n",
    "from matplotlib.ticker import FuncFormatter\n",
    "\n",
    "generated_values = [random.paretovariate(10000) for _ in range(100000)]\n",
    "gca().yaxis.set_major_formatter(FuncFormatter(to_percent))\n",
    "gca().xaxis.set_major_formatter(FuncFormatter(lambda x, _: f'{x:.4f}'))\n",
    "hist(generated_values, 50);"
   ]
  },
  {
   "cell_type": "markdown",
   "metadata": {},
   "source": [
    "Given $\\alpha>0$ and $\\beta>0$, the density function of the *beta* distribution of parameters $\\alpha$ and $\\beta$, defined over $[0,1]$, is equal to $\\frac{x^{\\alpha-1}(1-x)^{\\beta-1}}{\\int_0^1x^{\\alpha-1}(1-x)^{\\beta-1}dx}$. It is illustrated with $\\alpha=4$ and $\\beta=2.5$."
   ]
  },
  {
   "cell_type": "code",
   "execution_count": null,
   "metadata": {},
   "outputs": [],
   "source": [
    "random.betavariate?"
   ]
  },
  {
   "cell_type": "code",
   "execution_count": null,
   "metadata": {
    "run_control": {
     "marked": true
    }
   },
   "outputs": [],
   "source": [
    "%matplotlib inline\n",
    "\n",
    "from matplotlib.pyplot import hist, gca\n",
    "from matplotlib.ticker import FuncFormatter\n",
    "\n",
    "generated_values = [random.betavariate(4, 2.5) for _ in range(100000)]\n",
    "gca().yaxis.set_major_formatter(FuncFormatter(to_percent))\n",
    "hist(generated_values, 50);"
   ]
  },
  {
   "cell_type": "markdown",
   "metadata": {},
   "source": [
    "Given $\\alpha>0$ and $\\beta>0$, the density function of the *gamma* distribution of parameters $\\alpha$ and $\\beta$, defined over $(0,\\infty)$, is equal to $\\frac{\\beta^\\alpha}{\\Gamma(\\alpha)}x^{\\alpha-1}e^{-\\beta x}$. It is illustrated with $\\alpha=4$ and $\\beta=2.5$."
   ]
  },
  {
   "cell_type": "code",
   "execution_count": null,
   "metadata": {},
   "outputs": [],
   "source": [
    "random.gammavariate?"
   ]
  },
  {
   "cell_type": "code",
   "execution_count": null,
   "metadata": {
    "run_control": {
     "marked": true
    }
   },
   "outputs": [],
   "source": [
    "%matplotlib inline\n",
    "\n",
    "from matplotlib.pyplot import hist, gca\n",
    "from matplotlib.ticker import FuncFormatter\n",
    "\n",
    "generated_values = [random.gammavariate(4, 2.5) for _ in range(100000)]\n",
    "gca().yaxis.set_major_formatter(FuncFormatter(to_percent))\n",
    "hist(generated_values, 50);"
   ]
  },
  {
   "cell_type": "markdown",
   "metadata": {},
   "source": [
    "Given $\\mu\\in[0,2\\pi)$ and $\\kappa>0$, the density function of the *von Mises* (or *circular normal*, or *Tikhonov*) distribution of parameters $\\mu$ and $\\kappa$, defined over $[0,2\\pi]$, is equal to $\\frac{e^{\\kappa\\cos(x-\\mu)}}{2\\pi\\Sigma_{m=0}^\\infty\\frac{1}{m!\\Gamma(m+\\alpha+1)}(\\frac{x}{2})^{2m+\\alpha}}$. It is illustrated with $\\mu=\\pi$ and $\\kappa=4$."
   ]
  },
  {
   "cell_type": "code",
   "execution_count": null,
   "metadata": {},
   "outputs": [],
   "source": [
    "random.vonmisesvariate?"
   ]
  },
  {
   "cell_type": "code",
   "execution_count": null,
   "metadata": {
    "run_control": {
     "marked": true
    }
   },
   "outputs": [],
   "source": [
    "%matplotlib inline\n",
    "\n",
    "from matplotlib.pyplot import hist, xlim, gca\n",
    "from matplotlib.ticker import FuncFormatter\n",
    "from math import pi\n",
    "\n",
    "generated_values = [random.vonmisesvariate(pi, 4) for _ in range(100000)]\n",
    "xlim(0, 2 * pi)\n",
    "gca().yaxis.set_major_formatter(FuncFormatter(to_percent))\n",
    "hist(generated_values, 50);"
   ]
  },
  {
   "cell_type": "markdown",
   "metadata": {},
   "source": [
    "Given $\\lambda>0$ and $\\kappa>0$, the density function of the *Weibull* distribution of parameters $\\lambda$ and $\\kappa$, defined over $[0,\\infty)$, is equal to $\\frac{\\kappa}{\\lambda}(\\frac{x}{\\lambda})^{k-1}e^{-(\\frac{x}{\\lambda})^\\kappa}$. It is illustrated with $\\lambda=1$ and $\\kappa=1.5$."
   ]
  },
  {
   "cell_type": "code",
   "execution_count": null,
   "metadata": {},
   "outputs": [],
   "source": [
    "random.weibullvariate?"
   ]
  },
  {
   "cell_type": "code",
   "execution_count": null,
   "metadata": {
    "run_control": {
     "marked": true
    }
   },
   "outputs": [],
   "source": [
    "%matplotlib inline\n",
    "\n",
    "from matplotlib.pyplot import hist, gca\n",
    "from matplotlib.ticker import FuncFormatter\n",
    "\n",
    "generated_values = [random.weibullvariate(1, 1.5) for _ in range(100000)]\n",
    "gca().yaxis.set_major_formatter(FuncFormatter(to_percent))\n",
    "hist(generated_values, 50);"
   ]
  }
 ],
 "metadata": {
  "kernelspec": {
   "display_name": "Python 3",
   "language": "python",
   "name": "python3"
  },
  "language_info": {
   "codemirror_mode": {
    "name": "ipython",
    "version": 3
   },
   "file_extension": ".py",
   "mimetype": "text/x-python",
   "name": "python",
   "nbconvert_exporter": "python",
   "pygments_lexer": "ipython3",
   "version": "3.6.4"
  }
 },
 "nbformat": 4,
 "nbformat_minor": 1
}
