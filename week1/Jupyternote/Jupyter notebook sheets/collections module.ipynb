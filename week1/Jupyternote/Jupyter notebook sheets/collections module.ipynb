{
 "cells": [
  {
   "cell_type": "code",
   "execution_count": null,
   "metadata": {},
   "outputs": [],
   "source": [
    "# Does not need to be executed if ~/.ipython/profile_default/ipython_config.py exists and contains:\n",
    "# get_config().InteractiveShell.ast_node_interactivity = 'all'\n",
    "\n",
    "from IPython.core.interactiveshell import InteractiveShell\n",
    "InteractiveShell.ast_node_interactivity = 'all'"
   ]
  },
  {
   "cell_type": "markdown",
   "metadata": {},
   "source": [
    "<h1 align=\"center\">Collections module</h1>"
   ]
  },
  {
   "cell_type": "code",
   "execution_count": 18,
   "metadata": {
    "init_cell": true
   },
   "outputs": [],
   "source": [
    "import collections"
   ]
  },
  {
   "cell_type": "markdown",
   "metadata": {
    "init_cell": true
   },
   "source": [
    "## namedtuple"
   ]
  },
  {
   "cell_type": "code",
   "execution_count": null,
   "metadata": {},
   "outputs": [],
   "source": [
    "collections.namedtuple?"
   ]
  },
  {
   "cell_type": "code",
   "execution_count": null,
   "metadata": {
    "run_control": {
     "marked": true
    }
   },
   "outputs": [],
   "source": [
    "# Alternatively:\n",
    "# P = collections.namedtuple('Point', 'x y')\n",
    "# P = collections.namedtuple('Point', 'x,y')\n",
    "P = collections.namedtuple('Point', ['x', 'y'])\n",
    "p = P(2, 3)\n",
    "\n",
    "p[0], p[1]\n",
    "p.x, p.y\n",
    "p"
   ]
  },
  {
   "cell_type": "markdown",
   "metadata": {},
   "source": [
    "## defaultdict"
   ]
  },
  {
   "cell_type": "code",
   "execution_count": null,
   "metadata": {},
   "outputs": [],
   "source": [
    "collections.defaultdict?"
   ]
  },
  {
   "cell_type": "code",
   "execution_count": null,
   "metadata": {
    "run_control": {
     "marked": true
    }
   },
   "outputs": [],
   "source": [
    "D_int = collections.defaultdict(int)\n",
    "D_int[1] += 2\n",
    "\n",
    "D_int[0], D_int[1]"
   ]
  },
  {
   "cell_type": "code",
   "execution_count": null,
   "metadata": {
    "run_control": {
     "marked": true
    }
   },
   "outputs": [],
   "source": [
    "D_int = collections.defaultdict(lambda: 1)\n",
    "D_int[1] += 2\n",
    "\n",
    "D_int[0], D_int[1]"
   ]
  },
  {
   "cell_type": "code",
   "execution_count": null,
   "metadata": {
    "run_control": {
     "marked": true
    }
   },
   "outputs": [],
   "source": [
    "D_list = collections.defaultdict(list)\n",
    "D_list[1] += [2]\n",
    "\n",
    "D_list[0], D_list[1]"
   ]
  },
  {
   "cell_type": "code",
   "execution_count": null,
   "metadata": {
    "run_control": {
     "marked": true
    }
   },
   "outputs": [],
   "source": [
    "D_list = collections.defaultdict(lambda: [1])\n",
    "D_list[1] += [2]\n",
    "\n",
    "D_list[0], D_list[1]"
   ]
  },
  {
   "cell_type": "code",
   "execution_count": null,
   "metadata": {
    "run_control": {
     "marked": true
    }
   },
   "outputs": [],
   "source": [
    "def tree():\n",
    "    return collections.defaultdict(tree)\n",
    "\n",
    "T = tree()\n",
    "T['A']['B_1']['C'] = 0\n",
    "T['A']['B_2']['C_1'] = 1\n",
    "T['A']['B_2']['C_2'] = 2\n",
    "\n",
    "import pprint\n",
    "\n",
    "pprint.pprint(T)"
   ]
  },
  {
   "cell_type": "markdown",
   "metadata": {},
   "source": [
    "## deque"
   ]
  },
  {
   "cell_type": "code",
   "execution_count": null,
   "metadata": {},
   "outputs": [],
   "source": [
    "collections.deque?"
   ]
  },
  {
   "cell_type": "code",
   "execution_count": null,
   "metadata": {},
   "outputs": [],
   "source": [
    "collections.deque.append?"
   ]
  },
  {
   "cell_type": "code",
   "execution_count": null,
   "metadata": {
    "run_control": {
     "marked": true
    }
   },
   "outputs": [],
   "source": [
    "D = collections.deque((0, 1))\n",
    "\n",
    "D.append(2); D\n",
    "D.append(3); D"
   ]
  },
  {
   "cell_type": "code",
   "execution_count": null,
   "metadata": {},
   "outputs": [],
   "source": [
    "collections.deque.extend?"
   ]
  },
  {
   "cell_type": "code",
   "execution_count": null,
   "metadata": {
    "run_control": {
     "marked": true
    }
   },
   "outputs": [],
   "source": [
    "D = collections.deque((0, 1))\n",
    "\n",
    "# 2 might be inserted before 3 or the other way around.\n",
    "D.extend({2, 3}); D\n",
    "D.extend([4, 5]); D"
   ]
  },
  {
   "cell_type": "code",
   "execution_count": null,
   "metadata": {},
   "outputs": [],
   "source": [
    "collections.deque.appendleft?"
   ]
  },
  {
   "cell_type": "code",
   "execution_count": null,
   "metadata": {
    "run_control": {
     "marked": true
    }
   },
   "outputs": [],
   "source": [
    "D = collections.deque((0, 1))\n",
    "\n",
    "D.appendleft(-1); D\n",
    "D.appendleft(-2); D"
   ]
  },
  {
   "cell_type": "code",
   "execution_count": null,
   "metadata": {},
   "outputs": [],
   "source": [
    "collections.deque.extendleft?"
   ]
  },
  {
   "cell_type": "code",
   "execution_count": null,
   "metadata": {
    "run_control": {
     "marked": true
    }
   },
   "outputs": [],
   "source": [
    "D = collections.deque((0, 1))\n",
    "\n",
    "# -1 might be inserted before -2 or the other way around.\n",
    "D.extendleft({-1: 'A', -2: 'B'}); D\n",
    "D.extendleft((-3, -4)); D"
   ]
  },
  {
   "cell_type": "code",
   "execution_count": null,
   "metadata": {
    "run_control": {
     "marked": true
    }
   },
   "outputs": [],
   "source": [
    "D = collections.deque(maxlen = 3)\n",
    "\n",
    "D.append(0); D\n",
    "D.extend([1, 2, 3, 4, 5]); D\n",
    "D.appendleft(-1); D\n",
    "D.extendleft((-2, -3, -4, -5)); D"
   ]
  },
  {
   "cell_type": "code",
   "execution_count": null,
   "metadata": {},
   "outputs": [],
   "source": [
    "collections.deque.rotate?"
   ]
  },
  {
   "cell_type": "code",
   "execution_count": null,
   "metadata": {
    "run_control": {
     "marked": true
    }
   },
   "outputs": [],
   "source": [
    "D = collections.deque((0, 1, 2, 3, 4, 5))\n",
    "\n",
    "D.rotate(); D\n",
    "D.rotate(2); D\n",
    "D.rotate(-4); D"
   ]
  },
  {
   "cell_type": "code",
   "execution_count": null,
   "metadata": {},
   "outputs": [],
   "source": [
    "collections.deque.reverse?"
   ]
  },
  {
   "cell_type": "code",
   "execution_count": null,
   "metadata": {
    "run_control": {
     "marked": true
    }
   },
   "outputs": [],
   "source": [
    "D = collections.deque((0, 1, 2, 3, 4))\n",
    "\n",
    "D.reverse(); D"
   ]
  },
  {
   "cell_type": "code",
   "execution_count": null,
   "metadata": {},
   "outputs": [],
   "source": [
    "collections.deque.pop?"
   ]
  },
  {
   "cell_type": "code",
   "execution_count": null,
   "metadata": {
    "run_control": {
     "marked": true
    }
   },
   "outputs": [],
   "source": [
    "D = collections.deque((0, 1, 2, 3, 4))\n",
    "\n",
    "D.pop()\n",
    "D"
   ]
  },
  {
   "cell_type": "code",
   "execution_count": null,
   "metadata": {},
   "outputs": [],
   "source": [
    "collections.deque.popleft?"
   ]
  },
  {
   "cell_type": "code",
   "execution_count": null,
   "metadata": {
    "run_control": {
     "marked": true
    }
   },
   "outputs": [],
   "source": [
    "D = collections.deque((0, 1, 2, 3, 4))\n",
    "\n",
    "D.popleft()\n",
    "D"
   ]
  },
  {
   "cell_type": "code",
   "execution_count": null,
   "metadata": {},
   "outputs": [],
   "source": [
    "collections.deque.insert?"
   ]
  },
  {
   "cell_type": "code",
   "execution_count": null,
   "metadata": {
    "run_control": {
     "marked": true
    }
   },
   "outputs": [],
   "source": [
    "D = collections.deque((-1, -2, 1, 2))\n",
    "\n",
    "D.insert(2, 0); D\n",
    "D.insert(-8, -2); D\n",
    "D.insert(10, 3); D"
   ]
  },
  {
   "cell_type": "code",
   "execution_count": null,
   "metadata": {},
   "outputs": [],
   "source": [
    "collections.deque.index?"
   ]
  },
  {
   "cell_type": "code",
   "execution_count": null,
   "metadata": {
    "run_control": {
     "marked": true
    }
   },
   "outputs": [],
   "source": [
    "D = collections.deque((0, 0, 1, 1, 2, 2))\n",
    "\n",
    "D.index(1)\n",
    "try:\n",
    "    D.index(3)\n",
    "except ValueError as e:\n",
    "    print('Raises ValueError:', e)"
   ]
  },
  {
   "cell_type": "code",
   "execution_count": null,
   "metadata": {},
   "outputs": [],
   "source": [
    "collections.deque.count?"
   ]
  },
  {
   "cell_type": "code",
   "execution_count": null,
   "metadata": {
    "run_control": {
     "marked": true
    }
   },
   "outputs": [],
   "source": [
    "D = collections.deque((0, 1, 1, 2, 2, 2, 2))\n",
    "\n",
    "D.count(2)\n",
    "D.count(3)"
   ]
  },
  {
   "cell_type": "code",
   "execution_count": null,
   "metadata": {},
   "outputs": [],
   "source": [
    "collections.deque.remove?"
   ]
  },
  {
   "cell_type": "code",
   "execution_count": null,
   "metadata": {
    "run_control": {
     "marked": true
    }
   },
   "outputs": [],
   "source": [
    "D = collections.deque((0, 1, 2, 0, 1, 2))\n",
    "D.remove(0)\n",
    "\n",
    "D\n",
    "try:\n",
    "    D.remove(3)\n",
    "except ValueError as e:\n",
    "    print('Raises ValueError:', e)"
   ]
  },
  {
   "cell_type": "code",
   "execution_count": null,
   "metadata": {},
   "outputs": [],
   "source": [
    "collections.deque.copy?"
   ]
  },
  {
   "cell_type": "code",
   "execution_count": null,
   "metadata": {
    "run_control": {
     "marked": true
    }
   },
   "outputs": [],
   "source": [
    "D = collections.deque((0, 1, 2, 3))\n",
    "D_copy = D.copy()\n",
    "\n",
    "D_copy"
   ]
  },
  {
   "cell_type": "code",
   "execution_count": null,
   "metadata": {},
   "outputs": [],
   "source": [
    "collections.deque.clear?"
   ]
  },
  {
   "cell_type": "code",
   "execution_count": null,
   "metadata": {
    "run_control": {
     "marked": true
    }
   },
   "outputs": [],
   "source": [
    "D = collections.deque((0, 1, 2, 3))\n",
    "D_copy = D.copy()\n",
    "D_copy.clear()\n",
    "\n",
    "D_copy\n",
    "D"
   ]
  },
  {
   "cell_type": "markdown",
   "metadata": {},
   "source": [
    "## Counter"
   ]
  },
  {
   "cell_type": "code",
   "execution_count": null,
   "metadata": {},
   "outputs": [],
   "source": [
    "collections.Counter?"
   ]
  },
  {
   "cell_type": "code",
   "execution_count": null,
   "metadata": {},
   "outputs": [],
   "source": [
    "collections.Counter.elements?"
   ]
  },
  {
   "cell_type": "code",
   "execution_count": null,
   "metadata": {
    "run_control": {
     "marked": true
    }
   },
   "outputs": [],
   "source": [
    "C = collections.Counter('aababcabcd')\n",
    "\n",
    "C\n",
    "sorted(C.elements())"
   ]
  },
  {
   "cell_type": "code",
   "execution_count": null,
   "metadata": {},
   "outputs": [],
   "source": [
    "collections.Counter.most_common?"
   ]
  },
  {
   "cell_type": "code",
   "execution_count": null,
   "metadata": {
    "run_control": {
     "marked": true
    }
   },
   "outputs": [],
   "source": [
    "C = collections.Counter('aababcabcd')\n",
    "\n",
    "C.most_common()\n",
    "C.most_common(2)"
   ]
  },
  {
   "cell_type": "code",
   "execution_count": null,
   "metadata": {},
   "outputs": [],
   "source": [
    "collections.Counter.update?"
   ]
  },
  {
   "cell_type": "code",
   "execution_count": null,
   "metadata": {
    "run_control": {
     "marked": true
    }
   },
   "outputs": [],
   "source": [
    "C = collections.Counter('aababcabcd')\n",
    "\n",
    "C.update(collections.Counter('ccdcdecdef')); C"
   ]
  },
  {
   "cell_type": "code",
   "execution_count": null,
   "metadata": {},
   "outputs": [],
   "source": [
    "collections.Counter.subtract?"
   ]
  },
  {
   "cell_type": "code",
   "execution_count": null,
   "metadata": {
    "run_control": {
     "marked": true
    }
   },
   "outputs": [],
   "source": [
    "C = collections.Counter('aababcabcd')\n",
    "\n",
    "C.subtract('abcdef' * 3); C"
   ]
  },
  {
   "cell_type": "code",
   "execution_count": null,
   "metadata": {},
   "outputs": [],
   "source": [
    "collections.Counter.copy?"
   ]
  },
  {
   "cell_type": "code",
   "execution_count": null,
   "metadata": {
    "run_control": {
     "marked": true
    }
   },
   "outputs": [],
   "source": [
    "C = collections.Counter('aababcabcd')\n",
    "C_copy = C.copy()\n",
    "\n",
    "C_copy"
   ]
  },
  {
   "cell_type": "code",
   "execution_count": null,
   "metadata": {},
   "outputs": [],
   "source": [
    "collections.Counter.clear?"
   ]
  },
  {
   "cell_type": "code",
   "execution_count": null,
   "metadata": {
    "run_control": {
     "marked": true
    }
   },
   "outputs": [],
   "source": [
    "C = collections.Counter('aababcabcd')\n",
    "C_copy = C.copy()\n",
    "C_copy.clear()\n",
    "\n",
    "C_copy\n",
    "C"
   ]
  },
  {
   "cell_type": "code",
   "execution_count": null,
   "metadata": {
    "run_control": {
     "marked": true
    }
   },
   "outputs": [],
   "source": [
    "C1 = collections.Counter('abcccc')\n",
    "C2 = collections.Counter('bbccdd')\n",
    "\n",
    "C1\n",
    "C2\n",
    "C1 + C2\n",
    "C1 - C2\n",
    "C1 & C2\n",
    "C1 | C2"
   ]
  },
  {
   "cell_type": "markdown",
   "metadata": {},
   "source": [
    "## OrderedDict"
   ]
  },
  {
   "cell_type": "code",
   "execution_count": null,
   "metadata": {},
   "outputs": [],
   "source": [
    "collections.OrderedDict?"
   ]
  },
  {
   "cell_type": "code",
   "execution_count": null,
   "metadata": {},
   "outputs": [],
   "source": [
    "collections.OrderedDict.move_to_end?"
   ]
  },
  {
   "cell_type": "code",
   "execution_count": null,
   "metadata": {
    "run_control": {
     "marked": true
    }
   },
   "outputs": [],
   "source": [
    "D = collections.OrderedDict()\n",
    "for key in 'ACBD':\n",
    "    D[key] = None\n",
    "\n",
    "def print_keys():\n",
    "    for k in D:\n",
    "        print(k, end = ' ')\n",
    "    print()    \n",
    "\n",
    "print_keys()\n",
    "D.move_to_end('C'); print_keys()\n",
    "D.move_to_end('B', False); print_keys()\n",
    "try:\n",
    "    D.move_to_end('E')\n",
    "except KeyError as e:\n",
    "    print('Raises KeyError:', e)\n",
    "D = reversed(D); print_keys()"
   ]
  },
  {
   "cell_type": "markdown",
   "metadata": {},
   "source": [
    "## ChainMap"
   ]
  },
  {
   "cell_type": "code",
   "execution_count": null,
   "metadata": {},
   "outputs": [],
   "source": [
    "collections.ChainMap?"
   ]
  },
  {
   "cell_type": "code",
   "execution_count": null,
   "metadata": {},
   "outputs": [],
   "source": [
    "collections.ChainMap.clear?"
   ]
  },
  {
   "cell_type": "code",
   "execution_count": null,
   "metadata": {
    "run_control": {
     "marked": true
    }
   },
   "outputs": [],
   "source": [
    "d0 = {'A': 0}\n",
    "d1 = {'A': 1}\n",
    "d2 = {'A': 2, 'B':2}\n",
    "C = collections.ChainMap(d0, d1, d2);\n",
    "\n",
    "C\n",
    "C.clear(); C"
   ]
  },
  {
   "cell_type": "code",
   "execution_count": null,
   "metadata": {},
   "outputs": [],
   "source": [
    "collections.ChainMap.copy?"
   ]
  },
  {
   "cell_type": "code",
   "execution_count": null,
   "metadata": {
    "run_control": {
     "marked": true
    }
   },
   "outputs": [],
   "source": [
    "d0 = {'A': 0}\n",
    "d1 = {'A': 1}\n",
    "d2 = {'A': 2, 'B':2}\n",
    "C = collections.ChainMap(d0, d1, d2)\n",
    "C_copy = C.copy()\n",
    "\n",
    "d1['A'] = 11; C_copy['A'] = 'a'; C_copy\n",
    "C"
   ]
  },
  {
   "cell_type": "code",
   "execution_count": null,
   "metadata": {},
   "outputs": [],
   "source": [
    "collections.ChainMap.new_child?"
   ]
  },
  {
   "cell_type": "code",
   "execution_count": null,
   "metadata": {
    "run_control": {
     "marked": true
    }
   },
   "outputs": [],
   "source": [
    "d0 = {'A': 0}\n",
    "d1 = {'A': 1}\n",
    "d2 = {'A': 2, 'B':2}\n",
    "C = collections.ChainMap(d0, d1, d2);\n",
    "extended_C = C.new_child({'B': -1, 'C': -1})\n",
    "\n",
    "extended_C"
   ]
  },
  {
   "cell_type": "code",
   "execution_count": null,
   "metadata": {},
   "outputs": [],
   "source": [
    "collections.ChainMap.get?"
   ]
  },
  {
   "cell_type": "code",
   "execution_count": null,
   "metadata": {
    "run_control": {
     "marked": true
    }
   },
   "outputs": [],
   "source": [
    "d0 = {'A': 0}\n",
    "d1 = {'A': 1}\n",
    "d2 = {'A': 2, 'B':2}\n",
    "C = collections.ChainMap(d0, d1, d2);\n",
    "\n",
    "C.get('A')\n",
    "C\n",
    "C.get('D') is None"
   ]
  },
  {
   "cell_type": "code",
   "execution_count": null,
   "metadata": {},
   "outputs": [],
   "source": [
    "collections.ChainMap.pop?"
   ]
  },
  {
   "cell_type": "code",
   "execution_count": null,
   "metadata": {
    "run_control": {
     "marked": true
    }
   },
   "outputs": [],
   "source": [
    "d0 = {'A': 0}\n",
    "d1 = {'A': 1}\n",
    "d2 = {'A': 2, 'B':2}\n",
    "C = collections.ChainMap(d0, d1, d2);\n",
    "\n",
    "C.pop('A')\n",
    "try:\n",
    "    C.pop('B')\n",
    "except KeyError as e:\n",
    "    print('Raises KeyError:', e)"
   ]
  },
  {
   "cell_type": "code",
   "execution_count": null,
   "metadata": {},
   "outputs": [],
   "source": [
    "collections.ChainMap.popitem?"
   ]
  },
  {
   "cell_type": "code",
   "execution_count": null,
   "metadata": {
    "run_control": {
     "marked": true
    }
   },
   "outputs": [],
   "source": [
    "d0 = {'A': 0}\n",
    "d1 = {'A': 1}\n",
    "d2 = {'A': 2, 'B':2}\n",
    "C = collections.ChainMap(d0, d1, d2);\n",
    "\n",
    "C.popitem()\n",
    "C\n",
    "try:\n",
    "    C.popitem()\n",
    "except KeyError as e:\n",
    "    print('Raises KeyError:', e)"
   ]
  }
 ],
 "metadata": {
  "kernelspec": {
   "display_name": "Python 3",
   "language": "python",
   "name": "python3"
  },
  "language_info": {
   "codemirror_mode": {
    "name": "ipython",
    "version": 3
   },
   "file_extension": ".py",
   "mimetype": "text/x-python",
   "name": "python",
   "nbconvert_exporter": "python",
   "pygments_lexer": "ipython3",
   "version": "3.6.4"
  }
 },
 "nbformat": 4,
 "nbformat_minor": 1
}
