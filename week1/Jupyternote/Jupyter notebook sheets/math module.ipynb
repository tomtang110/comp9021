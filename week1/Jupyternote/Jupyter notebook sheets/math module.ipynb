{
 "cells": [
  {
   "cell_type": "code",
   "execution_count": null,
   "metadata": {},
   "outputs": [],
   "source": [
    "# Does not need to be executed if ~/.ipython/profile_default/ipython_config.py exists and contains:\n",
    "# get_config().InteractiveShell.ast_node_interactivity = 'all'\n",
    "\n",
    "from IPython.core.interactiveshell import InteractiveShell\n",
    "InteractiveShell.ast_node_interactivity = 'all'"
   ]
  },
  {
   "cell_type": "code",
   "execution_count": 1,
   "metadata": {
    "init_cell": true
   },
   "outputs": [],
   "source": [
    "%config InlineBackend.figure_format = 'retina'"
   ]
  },
  {
   "cell_type": "markdown",
   "metadata": {},
   "source": [
    "<h1 align=\"center\">Math module</h1>"
   ]
  },
  {
   "cell_type": "code",
   "execution_count": 2,
   "metadata": {
    "init_cell": true
   },
   "outputs": [],
   "source": [
    "import math"
   ]
  },
  {
   "cell_type": "markdown",
   "metadata": {},
   "source": [
    "## Miscellaneous  functions"
   ]
  },
  {
   "cell_type": "code",
   "execution_count": null,
   "metadata": {},
   "outputs": [],
   "source": [
    "math.isfinite?"
   ]
  },
  {
   "cell_type": "code",
   "execution_count": null,
   "metadata": {
    "run_control": {
     "marked": true
    }
   },
   "outputs": [],
   "source": [
    "math.isfinite(4.57)\n",
    "math.isfinite(float('inf'))\n",
    "math.isfinite(float('Nan'))"
   ]
  },
  {
   "cell_type": "code",
   "execution_count": null,
   "metadata": {},
   "outputs": [],
   "source": [
    "math.isinf?"
   ]
  },
  {
   "cell_type": "code",
   "execution_count": null,
   "metadata": {
    "run_control": {
     "marked": true
    }
   },
   "outputs": [],
   "source": [
    "math.isinf(4.57)\n",
    "math.isinf(float('inf'))\n",
    "math.isinf(float('Nan'))"
   ]
  },
  {
   "cell_type": "code",
   "execution_count": null,
   "metadata": {},
   "outputs": [],
   "source": [
    "math.isnan?"
   ]
  },
  {
   "cell_type": "code",
   "execution_count": null,
   "metadata": {
    "run_control": {
     "marked": true
    }
   },
   "outputs": [],
   "source": [
    "math.isnan(4.57)\n",
    "math.isnan(float('inf'))\n",
    "math.isnan(float('Nan'))"
   ]
  },
  {
   "cell_type": "code",
   "execution_count": null,
   "metadata": {},
   "outputs": [],
   "source": [
    "math.ceil?"
   ]
  },
  {
   "cell_type": "code",
   "execution_count": null,
   "metadata": {
    "run_control": {
     "marked": true
    }
   },
   "outputs": [],
   "source": [
    "math.ceil(-5.0)\n",
    "math.ceil(-4.5)\n",
    "math.ceil(4.5)\n",
    "math.ceil(5)"
   ]
  },
  {
   "cell_type": "code",
   "execution_count": null,
   "metadata": {},
   "outputs": [],
   "source": [
    "math.floor?"
   ]
  },
  {
   "cell_type": "code",
   "execution_count": null,
   "metadata": {
    "run_control": {
     "marked": true
    }
   },
   "outputs": [],
   "source": [
    "math.floor(-5.0)\n",
    "math.floor(-4.5)\n",
    "math.floor(4.5)\n",
    "math.floor(5)"
   ]
  },
  {
   "cell_type": "code",
   "execution_count": null,
   "metadata": {},
   "outputs": [],
   "source": [
    "math.trunc?"
   ]
  },
  {
   "cell_type": "code",
   "execution_count": null,
   "metadata": {
    "run_control": {
     "marked": true
    }
   },
   "outputs": [],
   "source": [
    "math.trunc(-4.4)\n",
    "math.trunc(-4.6)\n",
    "math.trunc(4.4)\n",
    "math.trunc(4.6)"
   ]
  },
  {
   "cell_type": "code",
   "execution_count": null,
   "metadata": {},
   "outputs": [],
   "source": [
    "math.fabs?"
   ]
  },
  {
   "cell_type": "code",
   "execution_count": null,
   "metadata": {
    "run_control": {
     "marked": true
    }
   },
   "outputs": [],
   "source": [
    "math.fabs(-3.8)\n",
    "math.fabs(-2)\n",
    "math.fabs(3.8)"
   ]
  },
  {
   "cell_type": "code",
   "execution_count": null,
   "metadata": {},
   "outputs": [],
   "source": [
    "math.modf?"
   ]
  },
  {
   "cell_type": "code",
   "execution_count": null,
   "metadata": {
    "run_control": {
     "marked": true
    }
   },
   "outputs": [],
   "source": [
    "math.modf(-6.4)\n",
    "math.modf(6.4)"
   ]
  },
  {
   "cell_type": "code",
   "execution_count": null,
   "metadata": {},
   "outputs": [],
   "source": [
    "math.fmod?"
   ]
  },
  {
   "cell_type": "code",
   "execution_count": null,
   "metadata": {
    "run_control": {
     "marked": true
    }
   },
   "outputs": [],
   "source": [
    "math.fmod(-6.4, -2.1)\n",
    "math.fmod(-6.4, 2.1)\n",
    "math.fmod(6.4, -2.1)\n",
    "math.fmod(6.4, 2.1)"
   ]
  },
  {
   "cell_type": "code",
   "execution_count": null,
   "metadata": {},
   "outputs": [],
   "source": [
    "math.frexp?"
   ]
  },
  {
   "cell_type": "code",
   "execution_count": null,
   "metadata": {
    "run_control": {
     "marked": true
    }
   },
   "outputs": [],
   "source": [
    "# Write nonzero x as +/-0.1b_2b_3b_4... * 2^e\n",
    "# with b_2, b_3, b_3... being 0 or 1 and not cofinitely many of them being 1.\n",
    "# Then returns +/-0.1b_2b_3b_4..., so a number m with 0.5 <= |m| < 1, and e.\n",
    "math.frexp(-600.4)\n",
    "math.frexp(-0.006004)\n",
    "math.frexp(-0.5)\n",
    "math.frexp(0)\n",
    "math.frexp(0.5)\n",
    "math.frexp(0.006004)\n",
    "math.frexp(600.4)"
   ]
  },
  {
   "cell_type": "code",
   "execution_count": null,
   "metadata": {},
   "outputs": [],
   "source": [
    "math.ldexp?"
   ]
  },
  {
   "cell_type": "code",
   "execution_count": null,
   "metadata": {
    "run_control": {
     "marked": true
    }
   },
   "outputs": [],
   "source": [
    "math.ldexp(4.5, -2)\n",
    "math.ldexp(4.5, -1)\n",
    "math.ldexp(4.5, 0)\n",
    "math.ldexp(4.5, 1)\n",
    "math.ldexp(4.5, 2)"
   ]
  },
  {
   "cell_type": "code",
   "execution_count": null,
   "metadata": {},
   "outputs": [],
   "source": [
    "math.copysign?"
   ]
  },
  {
   "cell_type": "code",
   "execution_count": null,
   "metadata": {
    "run_control": {
     "marked": true
    }
   },
   "outputs": [],
   "source": [
    "math.copysign(-4.5, -3.14)\n",
    "math.copysign(-4.5, 0)\n",
    "math.copysign(-4.5, 3.14)\n",
    "math.copysign(4.5, -3.14)\n",
    "math.copysign(4.5, 0)\n",
    "math.copysign(4.5, 3.14)"
   ]
  },
  {
   "cell_type": "code",
   "execution_count": null,
   "metadata": {},
   "outputs": [],
   "source": [
    "math.fsum?"
   ]
  },
  {
   "cell_type": "code",
   "execution_count": null,
   "metadata": {
    "run_control": {
     "marked": true
    }
   },
   "outputs": [],
   "source": [
    "math.fsum([-2.1, -1.4, 0, 1.4, 2.1])\n",
    "math.fsum((-2.2, -1.3, 0, 1.4, 2.5))\n",
    "math.fsum({-2.3, -1.2, 0, 1.5, 2.4})\n",
    "math.fsum({1.5: 'A', 2: 'B', 3.5: 'C'})"
   ]
  },
  {
   "cell_type": "code",
   "execution_count": null,
   "metadata": {},
   "outputs": [],
   "source": [
    "math.hypot?"
   ]
  },
  {
   "cell_type": "code",
   "execution_count": null,
   "metadata": {
    "run_control": {
     "marked": true
    }
   },
   "outputs": [],
   "source": [
    "math.hypot(0, -4)\n",
    "math.hypot(3, 4)"
   ]
  },
  {
   "cell_type": "code",
   "execution_count": null,
   "metadata": {},
   "outputs": [],
   "source": [
    "math.factorial?"
   ]
  },
  {
   "cell_type": "code",
   "execution_count": null,
   "metadata": {
    "run_control": {
     "marked": true
    }
   },
   "outputs": [],
   "source": [
    "math.factorial(0)\n",
    "math.factorial(1)\n",
    "math.factorial(2)\n",
    "math.factorial(3)\n",
    "math.factorial(4)\n",
    "math.factorial(1000)"
   ]
  },
  {
   "cell_type": "markdown",
   "metadata": {},
   "source": [
    "## Trigonometric functions"
   ]
  },
  {
   "cell_type": "code",
   "execution_count": null,
   "metadata": {},
   "outputs": [],
   "source": [
    "math.degrees?"
   ]
  },
  {
   "cell_type": "code",
   "execution_count": null,
   "metadata": {
    "run_control": {
     "marked": true
    }
   },
   "outputs": [],
   "source": [
    "math.degrees(- 10 * math.pi)\n",
    "math.degrees(- math.pi / 3)\n",
    "math.degrees(math.pi / 3)\n",
    "math.degrees(10 * math.pi)"
   ]
  },
  {
   "cell_type": "code",
   "execution_count": null,
   "metadata": {},
   "outputs": [],
   "source": [
    "math.radians?"
   ]
  },
  {
   "cell_type": "code",
   "execution_count": null,
   "metadata": {
    "run_control": {
     "marked": true
    }
   },
   "outputs": [],
   "source": [
    "math.radians(-1800)\n",
    "math.radians(-60)\n",
    "math.radians(60)\n",
    "math.radians(1800)"
   ]
  },
  {
   "cell_type": "code",
   "execution_count": null,
   "metadata": {},
   "outputs": [],
   "source": [
    "math.cos?"
   ]
  },
  {
   "cell_type": "code",
   "execution_count": null,
   "metadata": {
    "run_control": {
     "marked": true
    }
   },
   "outputs": [],
   "source": [
    "%matplotlib inline\n",
    "\n",
    "from matplotlib.pyplot import xlim, plot\n",
    "\n",
    "min_x = -2 * math.pi\n",
    "max_x = 2 * math.pi\n",
    "xlim(min_x, max_x)\n",
    "nb_of_intervals = 100\n",
    "xs = [min_x + (max_x - min_x) / nb_of_intervals * i for i in range(nb_of_intervals + 1)]\n",
    "ys = [math.cos(x) for x in xs]\n",
    "plot(xs, ys);"
   ]
  },
  {
   "cell_type": "code",
   "execution_count": null,
   "metadata": {},
   "outputs": [],
   "source": [
    "math.acos?"
   ]
  },
  {
   "cell_type": "code",
   "execution_count": null,
   "metadata": {
    "run_control": {
     "marked": true
    }
   },
   "outputs": [],
   "source": [
    "%matplotlib inline\n",
    "\n",
    "from matplotlib.pyplot import plot\n",
    "\n",
    "min_x = -1\n",
    "max_x = 1\n",
    "nb_of_intervals = 100\n",
    "xs = [min_x + (max_x - min_x) / nb_of_intervals * i for i in range(nb_of_intervals + 1)]\n",
    "ys = [math.acos(x) for x in xs]\n",
    "plot(xs, ys);"
   ]
  },
  {
   "cell_type": "code",
   "execution_count": null,
   "metadata": {},
   "outputs": [],
   "source": [
    "math.sin?"
   ]
  },
  {
   "cell_type": "code",
   "execution_count": null,
   "metadata": {
    "run_control": {
     "marked": true
    }
   },
   "outputs": [],
   "source": [
    "%matplotlib inline\n",
    "\n",
    "from matplotlib.pyplot import xlim, plot\n",
    "\n",
    "min_x = -2 * math.pi\n",
    "max_x = 2 * math.pi\n",
    "xlim(min_x, max_x)\n",
    "nb_of_intervals = 100\n",
    "xs = [min_x + (max_x - min_x) / nb_of_intervals * i for i in range(nb_of_intervals + 1)]\n",
    "ys = [math.sin(x) for x in xs]\n",
    "plot(xs, ys);"
   ]
  },
  {
   "cell_type": "code",
   "execution_count": null,
   "metadata": {},
   "outputs": [],
   "source": [
    "math.asin?"
   ]
  },
  {
   "cell_type": "code",
   "execution_count": null,
   "metadata": {
    "run_control": {
     "marked": true
    }
   },
   "outputs": [],
   "source": [
    "%matplotlib inline\n",
    "\n",
    "from matplotlib.pyplot import plot\n",
    "\n",
    "min_x = -1\n",
    "max_x = 1\n",
    "nb_of_intervals = 100\n",
    "xs = [min_x + (max_x - min_x) / nb_of_intervals * i for i in range(nb_of_intervals + 1)]\n",
    "ys = [math.asin(x) for x in xs]\n",
    "plot(xs, ys);"
   ]
  },
  {
   "cell_type": "code",
   "execution_count": null,
   "metadata": {},
   "outputs": [],
   "source": [
    "math.tan?"
   ]
  },
  {
   "cell_type": "code",
   "execution_count": null,
   "metadata": {
    "run_control": {
     "marked": true
    }
   },
   "outputs": [],
   "source": [
    "%matplotlib inline\n",
    "\n",
    "from matplotlib.pyplot import xlim, plot\n",
    "\n",
    "min_x = - math.pi / 2 + 0.01\n",
    "max_x = math.pi / 2 - 0.01\n",
    "xlim(min_x, max_x)\n",
    "nb_of_intervals = 100\n",
    "xs = [min_x + (max_x - min_x) / nb_of_intervals * i for i in range(nb_of_intervals + 1)]\n",
    "ys = [math.tan(x) for x in xs]\n",
    "plot(xs, ys);"
   ]
  },
  {
   "cell_type": "code",
   "execution_count": null,
   "metadata": {},
   "outputs": [],
   "source": [
    "math.atan?"
   ]
  },
  {
   "cell_type": "code",
   "execution_count": null,
   "metadata": {
    "run_control": {
     "marked": true
    }
   },
   "outputs": [],
   "source": [
    "%matplotlib inline\n",
    "\n",
    "from matplotlib.pyplot import plot\n",
    "\n",
    "min_x = - 20\n",
    "max_x = 20\n",
    "nb_of_intervals = 100\n",
    "xs = [min_x + (max_x - min_x) / nb_of_intervals * i for i in range(nb_of_intervals + 1)]\n",
    "ys = [math.atan(x) for x in xs]\n",
    "plot(xs, ys);"
   ]
  },
  {
   "cell_type": "code",
   "execution_count": null,
   "metadata": {},
   "outputs": [],
   "source": [
    "math.atan2?"
   ]
  },
  {
   "cell_type": "code",
   "execution_count": null,
   "metadata": {
    "run_control": {
     "marked": true
    }
   },
   "outputs": [],
   "source": [
    "%matplotlib notebook\n",
    "\n",
    "from mpl_toolkits.mplot3d import Axes3D\n",
    "from matplotlib.pyplot import figure\n",
    "\n",
    "min_x = -5\n",
    "max_x = 5\n",
    "nb_of_points_x = 70\n",
    "min_y = -5\n",
    "max_y = 5\n",
    "nb_of_points_y = 70\n",
    "xs = [min_x + (max_x - min_x) / nb_of_points_x * i for i in range(nb_of_points_x + 1)]\n",
    "xs.remove(0)\n",
    "xs = [x for x in xs for i in range(nb_of_points_y)]\n",
    "ys = [min_x + (max_y - min_y) / nb_of_points_y * i for i in range(nb_of_points_y + 1)]\n",
    "ys.remove(0)\n",
    "ys = ys * nb_of_points_x\n",
    "zs = [math.atan2(y, x) for (x, y) in zip(xs, ys)]\n",
    "# s is for the size of the points, whose default is 20\n",
    "figure().add_subplot(111, projection = '3d').scatter(xs, ys, zs, s = [1] * len(xs));"
   ]
  },
  {
   "cell_type": "markdown",
   "metadata": {},
   "source": [
    "## Hyperbolic functions"
   ]
  },
  {
   "cell_type": "code",
   "execution_count": null,
   "metadata": {},
   "outputs": [],
   "source": [
    "math.cosh?"
   ]
  },
  {
   "cell_type": "code",
   "execution_count": null,
   "metadata": {
    "run_control": {
     "marked": true
    }
   },
   "outputs": [],
   "source": [
    "%matplotlib inline\n",
    "\n",
    "from matplotlib.pyplot import plot\n",
    "\n",
    "min_x = -6\n",
    "max_x = 6\n",
    "nb_of_intervals = 100\n",
    "xs = [min_x + (max_x - min_x) / nb_of_intervals * i for i in range(nb_of_intervals + 1)]\n",
    "ys = [math.cosh(x) for x in xs]\n",
    "plot(xs, ys);"
   ]
  },
  {
   "cell_type": "code",
   "execution_count": null,
   "metadata": {},
   "outputs": [],
   "source": [
    "math.acosh?"
   ]
  },
  {
   "cell_type": "code",
   "execution_count": null,
   "metadata": {
    "run_control": {
     "marked": true
    }
   },
   "outputs": [],
   "source": [
    "%matplotlib inline\n",
    "\n",
    "from matplotlib.pyplot import plot\n",
    "\n",
    "min_x = 1\n",
    "max_x = 200\n",
    "nb_of_intervals = 100\n",
    "xs = [min_x + (max_x - min_x) / nb_of_intervals * i for i in range(nb_of_intervals + 1)]\n",
    "ys = [math.acosh(x) for x in xs]\n",
    "plot(xs, ys);"
   ]
  },
  {
   "cell_type": "code",
   "execution_count": null,
   "metadata": {},
   "outputs": [],
   "source": [
    "math.sinh?"
   ]
  },
  {
   "cell_type": "code",
   "execution_count": null,
   "metadata": {
    "run_control": {
     "marked": true
    }
   },
   "outputs": [],
   "source": [
    "%matplotlib inline\n",
    "\n",
    "from matplotlib.pyplot import plot\n",
    "\n",
    "min_x = -6\n",
    "max_x = 6\n",
    "nb_of_intervals = 100\n",
    "xs = [min_x + (max_x - min_x) / nb_of_intervals * i for i in range(nb_of_intervals + 1)]\n",
    "ys = [math.sinh(x) for x in xs]\n",
    "plot(xs, ys);"
   ]
  },
  {
   "cell_type": "code",
   "execution_count": null,
   "metadata": {},
   "outputs": [],
   "source": [
    "math.asinh?"
   ]
  },
  {
   "cell_type": "code",
   "execution_count": null,
   "metadata": {
    "run_control": {
     "marked": true
    }
   },
   "outputs": [],
   "source": [
    "%matplotlib inline\n",
    "\n",
    "from matplotlib.pyplot import plot\n",
    "\n",
    "min_x = 0\n",
    "max_x = 200\n",
    "nb_of_intervals = 100\n",
    "xs = [min_x + (max_x - min_x) / nb_of_intervals * i for i in range(nb_of_intervals + 1)]\n",
    "ys = [math.asinh(x) for x in xs]\n",
    "plot(xs, ys);"
   ]
  },
  {
   "cell_type": "code",
   "execution_count": null,
   "metadata": {},
   "outputs": [],
   "source": [
    "math.tanh?"
   ]
  },
  {
   "cell_type": "code",
   "execution_count": null,
   "metadata": {
    "run_control": {
     "marked": true
    }
   },
   "outputs": [],
   "source": [
    "%matplotlib inline\n",
    "\n",
    "from matplotlib.pyplot import plot\n",
    "\n",
    "min_x = -3\n",
    "max_x = 3\n",
    "nb_of_intervals = 100\n",
    "xs = [min_x + (max_x - min_x) / nb_of_intervals * i for i in range(nb_of_intervals + 1)]\n",
    "ys = [math.tanh(x) for x in xs]\n",
    "plot(xs, ys);"
   ]
  },
  {
   "cell_type": "code",
   "execution_count": null,
   "metadata": {},
   "outputs": [],
   "source": [
    "math.atanh?"
   ]
  },
  {
   "cell_type": "code",
   "execution_count": null,
   "metadata": {
    "run_control": {
     "marked": true
    }
   },
   "outputs": [],
   "source": [
    "%matplotlib inline\n",
    "\n",
    "from matplotlib.pyplot import plot\n",
    "\n",
    "min_x = -0.99\n",
    "max_x = 0.99\n",
    "nb_of_intervals = 100\n",
    "xs = [min_x + (max_x - min_x) / nb_of_intervals * i for i in range(nb_of_intervals + 1)]\n",
    "ys = [math.atanh(x) for x in xs]\n",
    "plot(xs, ys);"
   ]
  },
  {
   "cell_type": "markdown",
   "metadata": {},
   "source": [
    "## Exponential, logarithmic and power functions"
   ]
  },
  {
   "cell_type": "code",
   "execution_count": null,
   "metadata": {},
   "outputs": [],
   "source": [
    "math.exp?"
   ]
  },
  {
   "cell_type": "code",
   "execution_count": null,
   "metadata": {},
   "outputs": [],
   "source": [
    "math.expm1?"
   ]
  },
  {
   "cell_type": "code",
   "execution_count": null,
   "metadata": {
    "run_control": {
     "marked": true
    }
   },
   "outputs": [],
   "source": [
    "%matplotlib inline\n",
    "\n",
    "from matplotlib.pyplot import xlim, plot\n",
    "\n",
    "min_x = -3\n",
    "max_x = 4\n",
    "xlim(min_x, max_x)\n",
    "nb_of_intervals = 100\n",
    "xs = [min_x + (max_x - min_x) / nb_of_intervals * i for i in range(nb_of_intervals + 1)]\n",
    "ys = [math.exp(x) for x in xs]\n",
    "plot(xs, ys)\n",
    "ys = [math.expm1(x) for x in xs]\n",
    "plot(xs, ys);"
   ]
  },
  {
   "cell_type": "code",
   "execution_count": null,
   "metadata": {},
   "outputs": [],
   "source": [
    "math.log?"
   ]
  },
  {
   "cell_type": "code",
   "execution_count": null,
   "metadata": {},
   "outputs": [],
   "source": [
    "math.log2?"
   ]
  },
  {
   "cell_type": "code",
   "execution_count": null,
   "metadata": {},
   "outputs": [],
   "source": [
    "math.log1p?"
   ]
  },
  {
   "cell_type": "code",
   "execution_count": null,
   "metadata": {},
   "outputs": [],
   "source": [
    "math.log10?"
   ]
  },
  {
   "cell_type": "code",
   "execution_count": null,
   "metadata": {
    "run_control": {
     "marked": true
    }
   },
   "outputs": [],
   "source": [
    "%matplotlib inline\n",
    "\n",
    "from matplotlib.pyplot import plot, subplot, text, xticks, yticks\n",
    "\n",
    "min_x = 0\n",
    "max_x = 12\n",
    "nb_of_points = 200\n",
    "xs = [min_x + (max_x - min_x) / nb_of_points * i for i in range(nb_of_points + 1)]\n",
    "xs.remove(0)\n",
    "subplot(411)\n",
    "xticks(())\n",
    "yticks((-3, -1.5, 0, 1.5, 3))\n",
    "ys = [math.log(x, 0.5) for x in xs]\n",
    "plot(xs, ys)\n",
    "text(10, -1, 'Base $\\\\frac{1}{2}$')\n",
    "subplot(412)\n",
    "xticks(())\n",
    "yticks((-3.5, -2, -0.5, 1, 2.5))\n",
    "ys = [math.log2(x) for x in xs]\n",
    "plot(xs, ys)\n",
    "text(10, -1, 'Base 2')\n",
    "subplot(413)\n",
    "xticks(())\n",
    "yticks((range(-3, 5)))\n",
    "ys = [math.log(x) for x in xs]\n",
    "plot(xs, ys)\n",
    "ys = [math.log1p(x) for x in xs]\n",
    "plot(xs, ys)\n",
    "text(10, -1, 'Base $e$')\n",
    "subplot(414)\n",
    "yticks((-1, -0.5, 0, 0.5, 1))\n",
    "ys = [math.log10(x) for x in xs]\n",
    "plot(xs, ys)\n",
    "text(10, 0, 'Base 10');"
   ]
  },
  {
   "cell_type": "code",
   "execution_count": null,
   "metadata": {},
   "outputs": [],
   "source": [
    "math.sqrt?"
   ]
  },
  {
   "cell_type": "code",
   "execution_count": null,
   "metadata": {
    "run_control": {
     "marked": true
    }
   },
   "outputs": [],
   "source": [
    "%matplotlib inline\n",
    "\n",
    "from matplotlib.pyplot import xlim, plot\n",
    "\n",
    "min_x = 0\n",
    "max_x = 10\n",
    "nb_of_points = 100\n",
    "xs = [min_x + (max_x - min_x) / nb_of_points * i for i in range(nb_of_points + 1)]\n",
    "ys = [math.sqrt(x) for x in xs]\n",
    "plot(xs, ys);"
   ]
  },
  {
   "cell_type": "code",
   "execution_count": null,
   "metadata": {},
   "outputs": [],
   "source": [
    "math.pow?"
   ]
  },
  {
   "cell_type": "code",
   "execution_count": null,
   "metadata": {
    "run_control": {
     "marked": true
    }
   },
   "outputs": [],
   "source": [
    "%matplotlib inline\n",
    "\n",
    "from matplotlib.pyplot import plot, subplot, text, xticks, yticks, subplots_adjust\n",
    "\n",
    "min_x = 0\n",
    "max_x = 3\n",
    "nb_of_points = 200\n",
    "xs = [min_x + (max_x - min_x) / nb_of_points * i for i in range(nb_of_points + 1)]\n",
    "xs.remove(0)\n",
    "subplots_adjust(wspace = 0.3)\n",
    "subplot(141)\n",
    "xticks(range(0, 4))\n",
    "yticks((0.2, 0.5, 0.8, 1.1, 1.4, 1.7))\n",
    "ys = [math.pow(x, 0.5) for x in xs]\n",
    "plot(xs, ys)\n",
    "text(0.6, 1.55, '$x^{0.5}$')\n",
    "subplot(142)\n",
    "xticks(range(0, 4))\n",
    "yticks(range(0, 10, 2))\n",
    "ys = [math.pow(x, 2) for x in xs]\n",
    "plot(xs, ys)\n",
    "text(0.6, 8, '$x^2$')\n",
    "subplot(143)\n",
    "xticks(range(0, 4))\n",
    "yticks(range(0, 20, 4))\n",
    "ys = [math.pow(x, math.e) for x in xs]\n",
    "plot(xs, ys)\n",
    "text(0.6, 17.7, '$x^e$')\n",
    "subplot(144)\n",
    "xticks(range(0, 4))\n",
    "yticks(range(0, 30, 5))\n",
    "ys = [math.pow(x, 3) for x in xs]\n",
    "plot(xs, ys)\n",
    "text(0.6, 24.2, '$x^3$');"
   ]
  },
  {
   "cell_type": "markdown",
   "metadata": {},
   "source": [
    "## Probability functions"
   ]
  },
  {
   "cell_type": "code",
   "execution_count": null,
   "metadata": {},
   "outputs": [],
   "source": [
    "math.erf?"
   ]
  },
  {
   "cell_type": "code",
   "execution_count": null,
   "metadata": {},
   "outputs": [],
   "source": [
    "math.erfc?"
   ]
  },
  {
   "cell_type": "code",
   "execution_count": null,
   "metadata": {
    "run_control": {
     "marked": true
    }
   },
   "outputs": [],
   "source": [
    "%matplotlib inline\n",
    "\n",
    "from matplotlib.pyplot import plot, text\n",
    "\n",
    "min_x = -3\n",
    "max_x = 3\n",
    "nb_of_intervals = 100\n",
    "xs = [min_x + (max_x - min_x) / nb_of_intervals * i for i in range(nb_of_intervals + 1)]\n",
    "ys = [math.erf(x) for x in xs]\n",
    "plot(xs, ys)\n",
    "ys = [math.erfc(x) for x in xs]\n",
    "plot(xs, ys)\n",
    "text(-1.2, 1.5, 'erfc', color = 'g')\n",
    "text(-1.2, -0.5, 'erf', color = 'b');"
   ]
  },
  {
   "cell_type": "code",
   "execution_count": null,
   "metadata": {},
   "outputs": [],
   "source": [
    "math.gamma?"
   ]
  },
  {
   "cell_type": "code",
   "execution_count": null,
   "metadata": {
    "run_control": {
     "marked": true
    },
    "scrolled": true
   },
   "outputs": [],
   "source": [
    "%matplotlib inline\n",
    "\n",
    "from matplotlib.pyplot import plot, axvline, axhline\n",
    "\n",
    "min_x = 0\n",
    "max_x = 4.9\n",
    "nb_of_points = 100\n",
    "xs = [min_x + (max_x - min_x) / nb_of_points * i for i in range(nb_of_points + 1)]\n",
    "xs.remove(0)\n",
    "ys = [math.gamma(x) for x in xs]\n",
    "plot(xs, ys, color = 'blue')\n",
    "# For negative values of x, have to awfully hack point coordinates to get decents results\n",
    "xs = [i / 100 for i in range(10, 91)] + [0.95]\n",
    "x_1s = [-0.95] + [-1 + x for x in xs]\n",
    "y_1s = [math.gamma(x) for x in x_1s]\n",
    "plot(x_1s, y_1s, color = 'b')\n",
    "x_2s = [-1.974] + [-2 + x for x in xs]\n",
    "y_2s = [math.gamma(x) for x in x_2s]\n",
    "plot(x_2s, y_2s, color = 'b')\n",
    "x_3s = [-2.992] + [-3 + x for x in xs] + [-2.025]\n",
    "y_3s = [math.gamma(x) for x in x_3s]\n",
    "plot(x_3s, y_3s, color = 'b')\n",
    "axvline(-2, linestyle = '--', color = 'y')\n",
    "axvline(-1, linestyle = '--', color = 'y')\n",
    "axvline(0, color = 'black')\n",
    "axhline(0, color = 'black');"
   ]
  },
  {
   "cell_type": "code",
   "execution_count": null,
   "metadata": {},
   "outputs": [],
   "source": [
    "math.lgamma?"
   ]
  },
  {
   "cell_type": "code",
   "execution_count": null,
   "metadata": {
    "run_control": {
     "marked": true
    }
   },
   "outputs": [],
   "source": [
    "%matplotlib inline\n",
    "\n",
    "from matplotlib.pyplot import plot, axvline, axhline\n",
    "\n",
    "min_x = 0\n",
    "max_x = 4.9\n",
    "nb_of_points = 100\n",
    "xs = [min_x + (max_x - min_x) / nb_of_points * i for i in range(nb_of_points + 1)]\n",
    "xs.remove(0)\n",
    "ys = [math.lgamma(x) for x in xs]\n",
    "plot(xs, ys, color = 'blue')\n",
    "# For negative values of x, have to awfully hack point coordinates to get decents results\n",
    "xs = [i / 100 for i in range(10, 91)] + [0.95]\n",
    "x_1s = [-0.95] + [-1 + x for x in xs]\n",
    "y_1s = [math.lgamma(x) for x in x_1s]\n",
    "plot(x_1s, y_1s, color = 'b')\n",
    "x_2s = [-1.974] + [-2 + x for x in xs]\n",
    "y_2s = [math.lgamma(x) for x in x_2s]\n",
    "plot(x_2s, y_2s, color = 'b')\n",
    "x_3s = [-2.992] + [-3 + x for x in xs] + [-2.025]\n",
    "y_3s = [math.lgamma(x) for x in x_3s]\n",
    "plot(x_3s, y_3s, color = 'b')\n",
    "axvline(-2, linestyle = '--', color = 'y')\n",
    "axvline(-1, linestyle = '--', color = 'y')\n",
    "axvline(0, color = 'black')\n",
    "axhline(0, color = 'black');"
   ]
  }
 ],
 "metadata": {
  "kernelspec": {
   "display_name": "Python 3",
   "language": "python",
   "name": "python3"
  },
  "language_info": {
   "codemirror_mode": {
    "name": "ipython",
    "version": 3
   },
   "file_extension": ".py",
   "mimetype": "text/x-python",
   "name": "python",
   "nbconvert_exporter": "python",
   "pygments_lexer": "ipython3",
   "version": "3.6.4"
  }
 },
 "nbformat": 4,
 "nbformat_minor": 1
}
